{
 "cells": [
  {
   "cell_type": "code",
   "execution_count": 290,
   "metadata": {
    "collapsed": true
   },
   "outputs": [],
   "source": [
    "import requests\n",
    "import urllib.request\n",
    "import time\n",
    "from bs4 import BeautifulSoup\n",
    "import pandas as pd\n",
    "import numpy as np\n",
    "import matplotlib.pyplot as plt\n",
    "import seaborn as sns\n",
    "import urllib.parse as up\n",
    "from tqdm import tqdm\n",
    "from time import sleep\n",
    "import re\n",
    "\n",
    "%matplotlib notebook"
   ]
  },
  {
   "cell_type": "code",
   "execution_count": 4,
   "metadata": {
    "collapsed": true
   },
   "outputs": [],
   "source": [
    "#GOALS\n",
    "\n",
    "    #Data Cleaning and Retrieval\n",
    "        #1. Retrieve Squad list from transfermarkt (of a particular season)\n",
    "        #2. Injury data of all players from that season."
   ]
  },
  {
   "cell_type": "markdown",
   "metadata": {},
   "source": [
    "## Data Retrieval"
   ]
  },
  {
   "cell_type": "code",
   "execution_count": 34,
   "metadata": {
    "collapsed": true
   },
   "outputs": [],
   "source": [
    "#parameter to control season\n",
    "SAISON_ID = '2018'\n",
    "\n",
    "#BASE_URL\n",
    "BASE_URL = 'https://www.transfermarkt.com'\n",
    "\n",
    "#TEAM BASE URL\n",
    "TEAM_URL = 'https://www.transfermarkt.com/manchester-united/startseite/verein/985?'\n",
    "#TEAM_URL = 'https://www.transfermarkt.com/tottenham-hotspur/startseite/verein/148?'\n",
    "\n",
    "\n",
    "SORT_LINKS = {\n",
    "    'class' : 'spielprofil_tooltip'\n",
    "}\n",
    "\n",
    "INJURY_URL = 'verletzungen'\n",
    "\n",
    "HEADERS = {\n",
    "    'User-Agent': 'Mozilla/5.0',\n",
    "    'Accept': 'Accept: application/json, text/javascript, */*; q=0.01',\n",
    "    'Accept-Encoding': 'gzip, deflate, br',\n",
    "    'Connection': 'keep-alive',\n",
    "}\n",
    "\n",
    "MUFC_DATA = 'mufc_curent_squad_injury_history'\n",
    "\n",
    "PL_URL = 'https://www.transfermarkt.co.uk/premier-league/startseite/wettbewerb/GB1'"
   ]
  },
  {
   "cell_type": "code",
   "execution_count": 235,
   "metadata": {},
   "outputs": [],
   "source": [
    "def get_player_links(url, season):\n",
    "\n",
    "    TEAM_SEASON_URL = url + up.urlencode({'saison_id': season})\n",
    "\n",
    "    response = requests.get(TEAM_SEASON_URL, headers=HEADERS)\n",
    "    soup = BeautifulSoup(response.text, \"html.parser\")\n",
    "    \n",
    "    #Find only those with links to profile\n",
    "    player_links = soup.find_all('a', SORT_LINKS)\n",
    "    \n",
    "    links = {}\n",
    "    #Create a dictionary\n",
    "    for link in player_links:\n",
    "        links[link['title']] = BASE_URL + link['href']\n",
    "    \n",
    "    \n",
    "    response.connection.close()\n",
    "    return links\n",
    "\n",
    "def get_injury_links(links):\n",
    "    \n",
    "    injury_links = links.copy()\n",
    "    \n",
    "    #modify links of players\n",
    "    for player in injury_links.keys():\n",
    "        \n",
    "        link = injury_links[player]\n",
    "        \n",
    "        #Get the url containing path\n",
    "        part_url = up.urlsplit(link)[2]\n",
    "        part_vals = part_url.split('/')\n",
    "        \n",
    "        #modify to injury stats page\n",
    "        part_vals[2] = INJURY_URL\n",
    "        \n",
    "        injury_links[player] = BASE_URL + '/'.join(part_vals)\n",
    "        \n",
    "    return injury_links\n",
    "\n",
    "def get_season_format(val):\n",
    "    start = val[-2:]\n",
    "    end = str(int(val[-2:]) + 1)\n",
    "    \n",
    "    return start + '/' + end\n",
    "\n",
    "def get_player_df(link, name , team):\n",
    "    \n",
    "    response = ''\n",
    "    while response == '':\n",
    "        try:\n",
    "            response = requests.get(link, headers = HEADERS)\n",
    "        except:\n",
    "            sleep(0.2)\n",
    "            continue\n",
    "    soup = BeautifulSoup(response.text, \"html.parser\")\n",
    "    \n",
    "    #Get injury for all seasons, the date it occured and date of returning to action\n",
    "    #no. of days out, #no. of games missed\n",
    "    \n",
    "    #season, dates\n",
    "    date_links = soup.find_all(lambda tag: tag.name == 'td' and tag.get('class') == ['zentriert'])\n",
    "    injury_links = soup.findAll(lambda tag: tag.name == 'td' and tag.get('class') == ['hauptlink'])\n",
    "    days_links = soup.findAll(lambda tag: tag.name == 'td' and tag.get('class') == ['rechts'])\n",
    "    #games_links = soup.find_all(lambda tag: tag.name == 'td' \n",
    "     #                           and tag.get('class') == ['rechts hauptlink wappen_verletzung'])\n",
    "    \n",
    "    games_links = soup.find_all('td', class_ = ['rechts hauptlink wappen_verletzung'])\n",
    "    \n",
    "    \n",
    "    season_list = []\n",
    "    from_list = []\n",
    "    to_list = []\n",
    "    injuries = []\n",
    "    days_out = []\n",
    "    games_out = []\n",
    "    \n",
    "    for i in range(0,len(date_links), 3):\n",
    "        season_list = season_list + [str(date_links[i].string)]\n",
    "        from_list = from_list + [str(date_links[i+1].string)]\n",
    "        to_list = to_list + [str(date_links[i+2].string)]\n",
    "            \n",
    "    injuries = [str(elem.string) for elem in injury_links]\n",
    "    days_out = [int(''.join(p for p in str(elem.string) if p.isdigit())) for elem in days_links]\n",
    "    \n",
    "    for elem in games_links:\n",
    "        text = elem.get_text()\n",
    "        if text == '-':\n",
    "            games_out = games_out + [0]\n",
    "        else:\n",
    "            games_out = games_out + [int(elem.get_text())]\n",
    "    \n",
    "    \n",
    "    #print(games_links, games_out)\n",
    "    df = pd.DataFrame({\n",
    "        \n",
    "        'Team': [team]*len(season_list),\n",
    "        'Name': [name]*len(season_list),\n",
    "        'Season' :season_list,\n",
    "        'Injury' : injuries,\n",
    "        'Date Injured':from_list,\n",
    "        'Date Return':to_list,\n",
    "        'Days Out':days_out,\n",
    "        'Matches Out':games_out\n",
    "        \n",
    "    })\n",
    "    \n",
    "    season = get_season_format(SAISON_ID)\n",
    "    response.connection.close()\n",
    "    return df\n",
    "\n",
    "def get_complete_df(links, team_name):\n",
    "    \n",
    "    players = list(links.keys())\n",
    "    \n",
    "    data = []\n",
    "    for i in tqdm(range(len(players))):\n",
    "        \n",
    "        print(players[i])\n",
    "        df = get_player_df(links[players[i]], str(players[i]), team_name)\n",
    "        data = data + [df]\n",
    "        \n",
    "        \n",
    "    return pd.concat(data, axis = 0)\n",
    "\n",
    "\n",
    "def get_data(url, name, season):\n",
    "    player_links = get_player_links(url, season)\n",
    "    injury_links = get_injury_links(player_links)\n",
    "    df = get_complete_df(injury_links, name)\n",
    "    return df\n",
    "\n",
    "\n",
    "def get_seasons_data(seasons_num, base_url, name):\n",
    "    \n",
    "    curr_season = int(SAISON_ID)\n",
    "    seasons = [str(curr_season -i) for i in range(seasons_num)]\n",
    "    \n",
    "    data = []\n",
    "    for season in seasons:\n",
    "        df = get_data(base_url, name, season)\n",
    "        \n",
    "        data = data + [df]\n",
    "        \n",
    "    return pd.concat(data, axis = 0)\n",
    "        \n",
    "    "
   ]
  },
  {
   "cell_type": "code",
   "execution_count": 245,
   "metadata": {},
   "outputs": [
    {
     "name": "stderr",
     "output_type": "stream",
     "text": [
      "\r",
      "  0%|                                                                                           | 0/31 [00:00<?, ?it/s]"
     ]
    },
    {
     "name": "stdout",
     "output_type": "stream",
     "text": [
      "David de Gea\n"
     ]
    },
    {
     "name": "stderr",
     "output_type": "stream",
     "text": [
      "\r",
      "  3%|██▋                                                                                | 1/31 [00:02<01:10,  2.37s/it]"
     ]
    },
    {
     "name": "stdout",
     "output_type": "stream",
     "text": [
      "Sergio Romero\n"
     ]
    },
    {
     "name": "stderr",
     "output_type": "stream",
     "text": [
      "\r",
      "  6%|█████▎                                                                             | 2/31 [00:04<01:08,  2.36s/it]"
     ]
    },
    {
     "name": "stdout",
     "output_type": "stream",
     "text": [
      "Lee Grant\n"
     ]
    },
    {
     "name": "stderr",
     "output_type": "stream",
     "text": [
      "\r",
      " 10%|████████                                                                           | 3/31 [00:06<01:03,  2.27s/it]"
     ]
    },
    {
     "name": "stdout",
     "output_type": "stream",
     "text": [
      "Victor Lindelöf\n"
     ]
    },
    {
     "name": "stderr",
     "output_type": "stream",
     "text": [
      "\r",
      " 13%|██████████▋                                                                        | 4/31 [00:09<01:00,  2.25s/it]"
     ]
    },
    {
     "name": "stdout",
     "output_type": "stream",
     "text": [
      "Eric Bailly\n"
     ]
    },
    {
     "name": "stderr",
     "output_type": "stream",
     "text": [
      "\r",
      " 16%|█████████████▍                                                                     | 5/31 [00:11<00:58,  2.25s/it]"
     ]
    },
    {
     "name": "stdout",
     "output_type": "stream",
     "text": [
      "Phil Jones\n"
     ]
    },
    {
     "name": "stderr",
     "output_type": "stream",
     "text": [
      "\r",
      " 19%|████████████████                                                                   | 6/31 [00:13<00:55,  2.21s/it]"
     ]
    },
    {
     "name": "stdout",
     "output_type": "stream",
     "text": [
      "Chris Smalling\n"
     ]
    },
    {
     "name": "stderr",
     "output_type": "stream",
     "text": [
      "\r",
      " 23%|██████████████████▋                                                                | 7/31 [00:15<00:54,  2.26s/it]"
     ]
    },
    {
     "name": "stdout",
     "output_type": "stream",
     "text": [
      "Marcos Rojo\n"
     ]
    },
    {
     "name": "stderr",
     "output_type": "stream",
     "text": [
      "\r",
      " 26%|█████████████████████▍                                                             | 8/31 [00:18<00:53,  2.32s/it]"
     ]
    },
    {
     "name": "stdout",
     "output_type": "stream",
     "text": [
      "Axel Tuanzebe\n"
     ]
    },
    {
     "name": "stderr",
     "output_type": "stream",
     "text": [
      "\r",
      " 29%|████████████████████████                                                           | 9/31 [00:20<00:51,  2.32s/it]"
     ]
    },
    {
     "name": "stdout",
     "output_type": "stream",
     "text": [
      "Luke Shaw\n"
     ]
    },
    {
     "name": "stderr",
     "output_type": "stream",
     "text": [
      "\r",
      " 32%|██████████████████████████▍                                                       | 10/31 [00:23<00:50,  2.38s/it]"
     ]
    },
    {
     "name": "stdout",
     "output_type": "stream",
     "text": [
      "Ashley Young\n"
     ]
    },
    {
     "name": "stderr",
     "output_type": "stream",
     "text": [
      "\r",
      " 35%|█████████████████████████████                                                     | 11/31 [00:26<00:48,  2.42s/it]"
     ]
    },
    {
     "name": "stdout",
     "output_type": "stream",
     "text": [
      "Cameron Borthwick-Jackson\n"
     ]
    },
    {
     "name": "stderr",
     "output_type": "stream",
     "text": [
      "\r",
      " 39%|███████████████████████████████▋                                                  | 12/31 [00:29<00:46,  2.43s/it]"
     ]
    },
    {
     "name": "stdout",
     "output_type": "stream",
     "text": [
      "Diogo Dalot\n"
     ]
    },
    {
     "name": "stderr",
     "output_type": "stream",
     "text": [
      "\r",
      " 42%|██████████████████████████████████▍                                               | 13/31 [00:31<00:43,  2.40s/it]"
     ]
    },
    {
     "name": "stdout",
     "output_type": "stream",
     "text": [
      "Matteo Darmian\n"
     ]
    },
    {
     "name": "stderr",
     "output_type": "stream",
     "text": [
      "\r",
      " 45%|█████████████████████████████████████                                             | 14/31 [00:33<00:41,  2.42s/it]"
     ]
    },
    {
     "name": "stdout",
     "output_type": "stream",
     "text": [
      "Timothy Fosu-Mensah\n"
     ]
    },
    {
     "name": "stderr",
     "output_type": "stream",
     "text": [
      "\r",
      " 48%|███████████████████████████████████████▋                                          | 15/31 [00:36<00:38,  2.43s/it]"
     ]
    },
    {
     "name": "stdout",
     "output_type": "stream",
     "text": [
      "Antonio Valencia\n"
     ]
    },
    {
     "name": "stderr",
     "output_type": "stream",
     "text": [
      "\r",
      " 52%|██████████████████████████████████████████▎                                       | 16/31 [00:38<00:36,  2.43s/it]"
     ]
    },
    {
     "name": "stdout",
     "output_type": "stream",
     "text": [
      "Nemanja Matic\n"
     ]
    },
    {
     "name": "stderr",
     "output_type": "stream",
     "text": [
      "\r",
      " 55%|████████████████████████████████████████████▉                                     | 17/31 [00:41<00:34,  2.44s/it]"
     ]
    },
    {
     "name": "stdout",
     "output_type": "stream",
     "text": [
      "Paul Pogba\n"
     ]
    },
    {
     "name": "stderr",
     "output_type": "stream",
     "text": [
      "\r",
      " 58%|███████████████████████████████████████████████▌                                  | 18/31 [00:44<00:32,  2.47s/it]"
     ]
    },
    {
     "name": "stdout",
     "output_type": "stream",
     "text": [
      "Fred\n"
     ]
    },
    {
     "name": "stderr",
     "output_type": "stream",
     "text": [
      "\r",
      " 61%|██████████████████████████████████████████████████▎                               | 19/31 [00:46<00:29,  2.47s/it]"
     ]
    },
    {
     "name": "stdout",
     "output_type": "stream",
     "text": [
      "Ander Herrera\n"
     ]
    },
    {
     "name": "stderr",
     "output_type": "stream",
     "text": [
      "\r",
      " 65%|████████████████████████████████████████████████████▉                             | 20/31 [00:49<00:27,  2.48s/it]"
     ]
    },
    {
     "name": "stdout",
     "output_type": "stream",
     "text": [
      "Scott McTominay\n"
     ]
    },
    {
     "name": "stderr",
     "output_type": "stream",
     "text": [
      "\r",
      " 68%|███████████████████████████████████████████████████████▌                          | 21/31 [00:52<00:24,  2.50s/it]"
     ]
    },
    {
     "name": "stdout",
     "output_type": "stream",
     "text": [
      "Juan Mata\n"
     ]
    },
    {
     "name": "stderr",
     "output_type": "stream",
     "text": [
      "\r",
      " 71%|██████████████████████████████████████████████████████████▏                       | 22/31 [00:54<00:22,  2.47s/it]"
     ]
    },
    {
     "name": "stdout",
     "output_type": "stream",
     "text": [
      "Andreas Pereira\n"
     ]
    },
    {
     "name": "stderr",
     "output_type": "stream",
     "text": [
      "\r",
      " 74%|████████████████████████████████████████████████████████████▊                     | 23/31 [00:57<00:19,  2.50s/it]"
     ]
    },
    {
     "name": "stdout",
     "output_type": "stream",
     "text": [
      "Anthony Martial\n"
     ]
    },
    {
     "name": "stderr",
     "output_type": "stream",
     "text": [
      "\r",
      " 77%|███████████████████████████████████████████████████████████████▍                  | 24/31 [01:00<00:17,  2.51s/it]"
     ]
    },
    {
     "name": "stdout",
     "output_type": "stream",
     "text": [
      "Alexis Sánchez\n"
     ]
    },
    {
     "name": "stderr",
     "output_type": "stream",
     "text": [
      "\r",
      " 81%|██████████████████████████████████████████████████████████████████▏               | 25/31 [01:02<00:15,  2.52s/it]"
     ]
    },
    {
     "name": "stdout",
     "output_type": "stream",
     "text": [
      "Jesse Lingard\n"
     ]
    },
    {
     "name": "stderr",
     "output_type": "stream",
     "text": [
      "\r",
      " 84%|████████████████████████████████████████████████████████████████████▊             | 26/31 [01:05<00:12,  2.51s/it]"
     ]
    },
    {
     "name": "stdout",
     "output_type": "stream",
     "text": [
      "Romelu Lukaku\n"
     ]
    },
    {
     "name": "stderr",
     "output_type": "stream",
     "text": [
      "\r",
      " 87%|███████████████████████████████████████████████████████████████████████▍          | 27/31 [01:07<00:10,  2.50s/it]"
     ]
    },
    {
     "name": "stdout",
     "output_type": "stream",
     "text": [
      "Marcus Rashford\n"
     ]
    },
    {
     "name": "stderr",
     "output_type": "stream",
     "text": [
      "\r",
      " 90%|██████████████████████████████████████████████████████████████████████████        | 28/31 [01:09<00:07,  2.50s/it]"
     ]
    },
    {
     "name": "stdout",
     "output_type": "stream",
     "text": [
      "James Wilson\n"
     ]
    },
    {
     "name": "stderr",
     "output_type": "stream",
     "text": [
      "\r",
      " 94%|████████████████████████████████████████████████████████████████████████████▋     | 29/31 [01:12<00:04,  2.48s/it]"
     ]
    },
    {
     "name": "stdout",
     "output_type": "stream",
     "text": [
      "James Garner\n"
     ]
    },
    {
     "name": "stderr",
     "output_type": "stream",
     "text": [
      "\r",
      " 97%|███████████████████████████████████████████████████████████████████████████████▎  | 30/31 [01:14<00:02,  2.47s/it]"
     ]
    },
    {
     "name": "stdout",
     "output_type": "stream",
     "text": [
      "Angel Gomes\n"
     ]
    },
    {
     "name": "stderr",
     "output_type": "stream",
     "text": [
      "100%|██████████████████████████████████████████████████████████████████████████████████| 31/31 [01:16<00:00,  2.46s/it]\n"
     ]
    }
   ],
   "source": [
    "df = get_data(TEAM_URL, 'Manchester United', SAISON_ID)"
   ]
  },
  {
   "cell_type": "code",
   "execution_count": 161,
   "metadata": {},
   "outputs": [],
   "source": [
    "df.to_csv(MUFC_DATA+SAISON_ID+'.csv')"
   ]
  },
  {
   "cell_type": "markdown",
   "metadata": {
    "collapsed": true
   },
   "source": [
    "## MUFC 2018/19 Analysis"
   ]
  },
  {
   "cell_type": "code",
   "execution_count": 212,
   "metadata": {
    "collapsed": true
   },
   "outputs": [],
   "source": [
    "SEASON_ORDER = [\n",
    "    'July',\n",
    "    'August',\n",
    "    'September',\n",
    "    'October',\n",
    "    'November',\n",
    "    'December',\n",
    "    'January',\n",
    "    'February',\n",
    "    'March',\n",
    "    'April',\n",
    "    'May',\n",
    "    'June'\n",
    "]\n",
    "\n",
    "FONT_TITLE = \"Impact\"\n",
    "FONT_LABEL = \"Franklin Gothic Medium\"\n",
    "FONT_TICK_LABELS = \"Courier New\"\n"
   ]
  },
  {
   "cell_type": "code",
   "execution_count": 213,
   "metadata": {
    "collapsed": true
   },
   "outputs": [],
   "source": [
    "def stylize_plot(ax, x_label, y_label, title):\n",
    "    \n",
    "    ax.set_xticklabels(ax.get_xticklabels(), rotation = 90, family = FONT_TICK_LABELS)\n",
    "    #ax.set_yticklabels(ax.get_yticklabels())\n",
    "    \n",
    "    ax.set_xlabel(x_label, family = FONT_LABEL , fontsize = 13)\n",
    "    ax.set_ylabel(y_label, rotation = 90, family = FONT_LABEL, fontsize = 13)\n",
    "    ax.set_title(title, family = FONT_TITLE)\n",
    "    \n",
    "    plt.tight_layout()\n",
    "    \n",
    "def init_plot(figsize, back):\n",
    "    sns.set(rc={'figure.figsize':figsize})\n",
    "    sns.set_style(\"darkgrid\", {\"axes.facecolor\": back})\n",
    "    sns.set_palette(sns.dark_palette(\"purple\"))"
   ]
  },
  {
   "cell_type": "code",
   "execution_count": 216,
   "metadata": {},
   "outputs": [
    {
     "data": {
      "application/javascript": [
       "/* Put everything inside the global mpl namespace */\n",
       "window.mpl = {};\n",
       "\n",
       "\n",
       "mpl.get_websocket_type = function() {\n",
       "    if (typeof(WebSocket) !== 'undefined') {\n",
       "        return WebSocket;\n",
       "    } else if (typeof(MozWebSocket) !== 'undefined') {\n",
       "        return MozWebSocket;\n",
       "    } else {\n",
       "        alert('Your browser does not have WebSocket support.' +\n",
       "              'Please try Chrome, Safari or Firefox ≥ 6. ' +\n",
       "              'Firefox 4 and 5 are also supported but you ' +\n",
       "              'have to enable WebSockets in about:config.');\n",
       "    };\n",
       "}\n",
       "\n",
       "mpl.figure = function(figure_id, websocket, ondownload, parent_element) {\n",
       "    this.id = figure_id;\n",
       "\n",
       "    this.ws = websocket;\n",
       "\n",
       "    this.supports_binary = (this.ws.binaryType != undefined);\n",
       "\n",
       "    if (!this.supports_binary) {\n",
       "        var warnings = document.getElementById(\"mpl-warnings\");\n",
       "        if (warnings) {\n",
       "            warnings.style.display = 'block';\n",
       "            warnings.textContent = (\n",
       "                \"This browser does not support binary websocket messages. \" +\n",
       "                    \"Performance may be slow.\");\n",
       "        }\n",
       "    }\n",
       "\n",
       "    this.imageObj = new Image();\n",
       "\n",
       "    this.context = undefined;\n",
       "    this.message = undefined;\n",
       "    this.canvas = undefined;\n",
       "    this.rubberband_canvas = undefined;\n",
       "    this.rubberband_context = undefined;\n",
       "    this.format_dropdown = undefined;\n",
       "\n",
       "    this.image_mode = 'full';\n",
       "\n",
       "    this.root = $('<div/>');\n",
       "    this._root_extra_style(this.root)\n",
       "    this.root.attr('style', 'display: inline-block');\n",
       "\n",
       "    $(parent_element).append(this.root);\n",
       "\n",
       "    this._init_header(this);\n",
       "    this._init_canvas(this);\n",
       "    this._init_toolbar(this);\n",
       "\n",
       "    var fig = this;\n",
       "\n",
       "    this.waiting = false;\n",
       "\n",
       "    this.ws.onopen =  function () {\n",
       "            fig.send_message(\"supports_binary\", {value: fig.supports_binary});\n",
       "            fig.send_message(\"send_image_mode\", {});\n",
       "            if (mpl.ratio != 1) {\n",
       "                fig.send_message(\"set_dpi_ratio\", {'dpi_ratio': mpl.ratio});\n",
       "            }\n",
       "            fig.send_message(\"refresh\", {});\n",
       "        }\n",
       "\n",
       "    this.imageObj.onload = function() {\n",
       "            if (fig.image_mode == 'full') {\n",
       "                // Full images could contain transparency (where diff images\n",
       "                // almost always do), so we need to clear the canvas so that\n",
       "                // there is no ghosting.\n",
       "                fig.context.clearRect(0, 0, fig.canvas.width, fig.canvas.height);\n",
       "            }\n",
       "            fig.context.drawImage(fig.imageObj, 0, 0);\n",
       "        };\n",
       "\n",
       "    this.imageObj.onunload = function() {\n",
       "        this.ws.close();\n",
       "    }\n",
       "\n",
       "    this.ws.onmessage = this._make_on_message_function(this);\n",
       "\n",
       "    this.ondownload = ondownload;\n",
       "}\n",
       "\n",
       "mpl.figure.prototype._init_header = function() {\n",
       "    var titlebar = $(\n",
       "        '<div class=\"ui-dialog-titlebar ui-widget-header ui-corner-all ' +\n",
       "        'ui-helper-clearfix\"/>');\n",
       "    var titletext = $(\n",
       "        '<div class=\"ui-dialog-title\" style=\"width: 100%; ' +\n",
       "        'text-align: center; padding: 3px;\"/>');\n",
       "    titlebar.append(titletext)\n",
       "    this.root.append(titlebar);\n",
       "    this.header = titletext[0];\n",
       "}\n",
       "\n",
       "\n",
       "\n",
       "mpl.figure.prototype._canvas_extra_style = function(canvas_div) {\n",
       "\n",
       "}\n",
       "\n",
       "\n",
       "mpl.figure.prototype._root_extra_style = function(canvas_div) {\n",
       "\n",
       "}\n",
       "\n",
       "mpl.figure.prototype._init_canvas = function() {\n",
       "    var fig = this;\n",
       "\n",
       "    var canvas_div = $('<div/>');\n",
       "\n",
       "    canvas_div.attr('style', 'position: relative; clear: both; outline: 0');\n",
       "\n",
       "    function canvas_keyboard_event(event) {\n",
       "        return fig.key_event(event, event['data']);\n",
       "    }\n",
       "\n",
       "    canvas_div.keydown('key_press', canvas_keyboard_event);\n",
       "    canvas_div.keyup('key_release', canvas_keyboard_event);\n",
       "    this.canvas_div = canvas_div\n",
       "    this._canvas_extra_style(canvas_div)\n",
       "    this.root.append(canvas_div);\n",
       "\n",
       "    var canvas = $('<canvas/>');\n",
       "    canvas.addClass('mpl-canvas');\n",
       "    canvas.attr('style', \"left: 0; top: 0; z-index: 0; outline: 0\")\n",
       "\n",
       "    this.canvas = canvas[0];\n",
       "    this.context = canvas[0].getContext(\"2d\");\n",
       "\n",
       "    var backingStore = this.context.backingStorePixelRatio ||\n",
       "\tthis.context.webkitBackingStorePixelRatio ||\n",
       "\tthis.context.mozBackingStorePixelRatio ||\n",
       "\tthis.context.msBackingStorePixelRatio ||\n",
       "\tthis.context.oBackingStorePixelRatio ||\n",
       "\tthis.context.backingStorePixelRatio || 1;\n",
       "\n",
       "    mpl.ratio = (window.devicePixelRatio || 1) / backingStore;\n",
       "\n",
       "    var rubberband = $('<canvas/>');\n",
       "    rubberband.attr('style', \"position: absolute; left: 0; top: 0; z-index: 1;\")\n",
       "\n",
       "    var pass_mouse_events = true;\n",
       "\n",
       "    canvas_div.resizable({\n",
       "        start: function(event, ui) {\n",
       "            pass_mouse_events = false;\n",
       "        },\n",
       "        resize: function(event, ui) {\n",
       "            fig.request_resize(ui.size.width, ui.size.height);\n",
       "        },\n",
       "        stop: function(event, ui) {\n",
       "            pass_mouse_events = true;\n",
       "            fig.request_resize(ui.size.width, ui.size.height);\n",
       "        },\n",
       "    });\n",
       "\n",
       "    function mouse_event_fn(event) {\n",
       "        if (pass_mouse_events)\n",
       "            return fig.mouse_event(event, event['data']);\n",
       "    }\n",
       "\n",
       "    rubberband.mousedown('button_press', mouse_event_fn);\n",
       "    rubberband.mouseup('button_release', mouse_event_fn);\n",
       "    // Throttle sequential mouse events to 1 every 20ms.\n",
       "    rubberband.mousemove('motion_notify', mouse_event_fn);\n",
       "\n",
       "    rubberband.mouseenter('figure_enter', mouse_event_fn);\n",
       "    rubberband.mouseleave('figure_leave', mouse_event_fn);\n",
       "\n",
       "    canvas_div.on(\"wheel\", function (event) {\n",
       "        event = event.originalEvent;\n",
       "        event['data'] = 'scroll'\n",
       "        if (event.deltaY < 0) {\n",
       "            event.step = 1;\n",
       "        } else {\n",
       "            event.step = -1;\n",
       "        }\n",
       "        mouse_event_fn(event);\n",
       "    });\n",
       "\n",
       "    canvas_div.append(canvas);\n",
       "    canvas_div.append(rubberband);\n",
       "\n",
       "    this.rubberband = rubberband;\n",
       "    this.rubberband_canvas = rubberband[0];\n",
       "    this.rubberband_context = rubberband[0].getContext(\"2d\");\n",
       "    this.rubberband_context.strokeStyle = \"#000000\";\n",
       "\n",
       "    this._resize_canvas = function(width, height) {\n",
       "        // Keep the size of the canvas, canvas container, and rubber band\n",
       "        // canvas in synch.\n",
       "        canvas_div.css('width', width)\n",
       "        canvas_div.css('height', height)\n",
       "\n",
       "        canvas.attr('width', width * mpl.ratio);\n",
       "        canvas.attr('height', height * mpl.ratio);\n",
       "        canvas.attr('style', 'width: ' + width + 'px; height: ' + height + 'px;');\n",
       "\n",
       "        rubberband.attr('width', width);\n",
       "        rubberband.attr('height', height);\n",
       "    }\n",
       "\n",
       "    // Set the figure to an initial 600x600px, this will subsequently be updated\n",
       "    // upon first draw.\n",
       "    this._resize_canvas(600, 600);\n",
       "\n",
       "    // Disable right mouse context menu.\n",
       "    $(this.rubberband_canvas).bind(\"contextmenu\",function(e){\n",
       "        return false;\n",
       "    });\n",
       "\n",
       "    function set_focus () {\n",
       "        canvas.focus();\n",
       "        canvas_div.focus();\n",
       "    }\n",
       "\n",
       "    window.setTimeout(set_focus, 100);\n",
       "}\n",
       "\n",
       "mpl.figure.prototype._init_toolbar = function() {\n",
       "    var fig = this;\n",
       "\n",
       "    var nav_element = $('<div/>')\n",
       "    nav_element.attr('style', 'width: 100%');\n",
       "    this.root.append(nav_element);\n",
       "\n",
       "    // Define a callback function for later on.\n",
       "    function toolbar_event(event) {\n",
       "        return fig.toolbar_button_onclick(event['data']);\n",
       "    }\n",
       "    function toolbar_mouse_event(event) {\n",
       "        return fig.toolbar_button_onmouseover(event['data']);\n",
       "    }\n",
       "\n",
       "    for(var toolbar_ind in mpl.toolbar_items) {\n",
       "        var name = mpl.toolbar_items[toolbar_ind][0];\n",
       "        var tooltip = mpl.toolbar_items[toolbar_ind][1];\n",
       "        var image = mpl.toolbar_items[toolbar_ind][2];\n",
       "        var method_name = mpl.toolbar_items[toolbar_ind][3];\n",
       "\n",
       "        if (!name) {\n",
       "            // put a spacer in here.\n",
       "            continue;\n",
       "        }\n",
       "        var button = $('<button/>');\n",
       "        button.addClass('ui-button ui-widget ui-state-default ui-corner-all ' +\n",
       "                        'ui-button-icon-only');\n",
       "        button.attr('role', 'button');\n",
       "        button.attr('aria-disabled', 'false');\n",
       "        button.click(method_name, toolbar_event);\n",
       "        button.mouseover(tooltip, toolbar_mouse_event);\n",
       "\n",
       "        var icon_img = $('<span/>');\n",
       "        icon_img.addClass('ui-button-icon-primary ui-icon');\n",
       "        icon_img.addClass(image);\n",
       "        icon_img.addClass('ui-corner-all');\n",
       "\n",
       "        var tooltip_span = $('<span/>');\n",
       "        tooltip_span.addClass('ui-button-text');\n",
       "        tooltip_span.html(tooltip);\n",
       "\n",
       "        button.append(icon_img);\n",
       "        button.append(tooltip_span);\n",
       "\n",
       "        nav_element.append(button);\n",
       "    }\n",
       "\n",
       "    var fmt_picker_span = $('<span/>');\n",
       "\n",
       "    var fmt_picker = $('<select/>');\n",
       "    fmt_picker.addClass('mpl-toolbar-option ui-widget ui-widget-content');\n",
       "    fmt_picker_span.append(fmt_picker);\n",
       "    nav_element.append(fmt_picker_span);\n",
       "    this.format_dropdown = fmt_picker[0];\n",
       "\n",
       "    for (var ind in mpl.extensions) {\n",
       "        var fmt = mpl.extensions[ind];\n",
       "        var option = $(\n",
       "            '<option/>', {selected: fmt === mpl.default_extension}).html(fmt);\n",
       "        fmt_picker.append(option)\n",
       "    }\n",
       "\n",
       "    // Add hover states to the ui-buttons\n",
       "    $( \".ui-button\" ).hover(\n",
       "        function() { $(this).addClass(\"ui-state-hover\");},\n",
       "        function() { $(this).removeClass(\"ui-state-hover\");}\n",
       "    );\n",
       "\n",
       "    var status_bar = $('<span class=\"mpl-message\"/>');\n",
       "    nav_element.append(status_bar);\n",
       "    this.message = status_bar[0];\n",
       "}\n",
       "\n",
       "mpl.figure.prototype.request_resize = function(x_pixels, y_pixels) {\n",
       "    // Request matplotlib to resize the figure. Matplotlib will then trigger a resize in the client,\n",
       "    // which will in turn request a refresh of the image.\n",
       "    this.send_message('resize', {'width': x_pixels, 'height': y_pixels});\n",
       "}\n",
       "\n",
       "mpl.figure.prototype.send_message = function(type, properties) {\n",
       "    properties['type'] = type;\n",
       "    properties['figure_id'] = this.id;\n",
       "    this.ws.send(JSON.stringify(properties));\n",
       "}\n",
       "\n",
       "mpl.figure.prototype.send_draw_message = function() {\n",
       "    if (!this.waiting) {\n",
       "        this.waiting = true;\n",
       "        this.ws.send(JSON.stringify({type: \"draw\", figure_id: this.id}));\n",
       "    }\n",
       "}\n",
       "\n",
       "\n",
       "mpl.figure.prototype.handle_save = function(fig, msg) {\n",
       "    var format_dropdown = fig.format_dropdown;\n",
       "    var format = format_dropdown.options[format_dropdown.selectedIndex].value;\n",
       "    fig.ondownload(fig, format);\n",
       "}\n",
       "\n",
       "\n",
       "mpl.figure.prototype.handle_resize = function(fig, msg) {\n",
       "    var size = msg['size'];\n",
       "    if (size[0] != fig.canvas.width || size[1] != fig.canvas.height) {\n",
       "        fig._resize_canvas(size[0], size[1]);\n",
       "        fig.send_message(\"refresh\", {});\n",
       "    };\n",
       "}\n",
       "\n",
       "mpl.figure.prototype.handle_rubberband = function(fig, msg) {\n",
       "    var x0 = msg['x0'] / mpl.ratio;\n",
       "    var y0 = (fig.canvas.height - msg['y0']) / mpl.ratio;\n",
       "    var x1 = msg['x1'] / mpl.ratio;\n",
       "    var y1 = (fig.canvas.height - msg['y1']) / mpl.ratio;\n",
       "    x0 = Math.floor(x0) + 0.5;\n",
       "    y0 = Math.floor(y0) + 0.5;\n",
       "    x1 = Math.floor(x1) + 0.5;\n",
       "    y1 = Math.floor(y1) + 0.5;\n",
       "    var min_x = Math.min(x0, x1);\n",
       "    var min_y = Math.min(y0, y1);\n",
       "    var width = Math.abs(x1 - x0);\n",
       "    var height = Math.abs(y1 - y0);\n",
       "\n",
       "    fig.rubberband_context.clearRect(\n",
       "        0, 0, fig.canvas.width, fig.canvas.height);\n",
       "\n",
       "    fig.rubberband_context.strokeRect(min_x, min_y, width, height);\n",
       "}\n",
       "\n",
       "mpl.figure.prototype.handle_figure_label = function(fig, msg) {\n",
       "    // Updates the figure title.\n",
       "    fig.header.textContent = msg['label'];\n",
       "}\n",
       "\n",
       "mpl.figure.prototype.handle_cursor = function(fig, msg) {\n",
       "    var cursor = msg['cursor'];\n",
       "    switch(cursor)\n",
       "    {\n",
       "    case 0:\n",
       "        cursor = 'pointer';\n",
       "        break;\n",
       "    case 1:\n",
       "        cursor = 'default';\n",
       "        break;\n",
       "    case 2:\n",
       "        cursor = 'crosshair';\n",
       "        break;\n",
       "    case 3:\n",
       "        cursor = 'move';\n",
       "        break;\n",
       "    }\n",
       "    fig.rubberband_canvas.style.cursor = cursor;\n",
       "}\n",
       "\n",
       "mpl.figure.prototype.handle_message = function(fig, msg) {\n",
       "    fig.message.textContent = msg['message'];\n",
       "}\n",
       "\n",
       "mpl.figure.prototype.handle_draw = function(fig, msg) {\n",
       "    // Request the server to send over a new figure.\n",
       "    fig.send_draw_message();\n",
       "}\n",
       "\n",
       "mpl.figure.prototype.handle_image_mode = function(fig, msg) {\n",
       "    fig.image_mode = msg['mode'];\n",
       "}\n",
       "\n",
       "mpl.figure.prototype.updated_canvas_event = function() {\n",
       "    // Called whenever the canvas gets updated.\n",
       "    this.send_message(\"ack\", {});\n",
       "}\n",
       "\n",
       "// A function to construct a web socket function for onmessage handling.\n",
       "// Called in the figure constructor.\n",
       "mpl.figure.prototype._make_on_message_function = function(fig) {\n",
       "    return function socket_on_message(evt) {\n",
       "        if (evt.data instanceof Blob) {\n",
       "            /* FIXME: We get \"Resource interpreted as Image but\n",
       "             * transferred with MIME type text/plain:\" errors on\n",
       "             * Chrome.  But how to set the MIME type?  It doesn't seem\n",
       "             * to be part of the websocket stream */\n",
       "            evt.data.type = \"image/png\";\n",
       "\n",
       "            /* Free the memory for the previous frames */\n",
       "            if (fig.imageObj.src) {\n",
       "                (window.URL || window.webkitURL).revokeObjectURL(\n",
       "                    fig.imageObj.src);\n",
       "            }\n",
       "\n",
       "            fig.imageObj.src = (window.URL || window.webkitURL).createObjectURL(\n",
       "                evt.data);\n",
       "            fig.updated_canvas_event();\n",
       "            fig.waiting = false;\n",
       "            return;\n",
       "        }\n",
       "        else if (typeof evt.data === 'string' && evt.data.slice(0, 21) == \"data:image/png;base64\") {\n",
       "            fig.imageObj.src = evt.data;\n",
       "            fig.updated_canvas_event();\n",
       "            fig.waiting = false;\n",
       "            return;\n",
       "        }\n",
       "\n",
       "        var msg = JSON.parse(evt.data);\n",
       "        var msg_type = msg['type'];\n",
       "\n",
       "        // Call the  \"handle_{type}\" callback, which takes\n",
       "        // the figure and JSON message as its only arguments.\n",
       "        try {\n",
       "            var callback = fig[\"handle_\" + msg_type];\n",
       "        } catch (e) {\n",
       "            console.log(\"No handler for the '\" + msg_type + \"' message type: \", msg);\n",
       "            return;\n",
       "        }\n",
       "\n",
       "        if (callback) {\n",
       "            try {\n",
       "                // console.log(\"Handling '\" + msg_type + \"' message: \", msg);\n",
       "                callback(fig, msg);\n",
       "            } catch (e) {\n",
       "                console.log(\"Exception inside the 'handler_\" + msg_type + \"' callback:\", e, e.stack, msg);\n",
       "            }\n",
       "        }\n",
       "    };\n",
       "}\n",
       "\n",
       "// from http://stackoverflow.com/questions/1114465/getting-mouse-location-in-canvas\n",
       "mpl.findpos = function(e) {\n",
       "    //this section is from http://www.quirksmode.org/js/events_properties.html\n",
       "    var targ;\n",
       "    if (!e)\n",
       "        e = window.event;\n",
       "    if (e.target)\n",
       "        targ = e.target;\n",
       "    else if (e.srcElement)\n",
       "        targ = e.srcElement;\n",
       "    if (targ.nodeType == 3) // defeat Safari bug\n",
       "        targ = targ.parentNode;\n",
       "\n",
       "    // jQuery normalizes the pageX and pageY\n",
       "    // pageX,Y are the mouse positions relative to the document\n",
       "    // offset() returns the position of the element relative to the document\n",
       "    var x = e.pageX - $(targ).offset().left;\n",
       "    var y = e.pageY - $(targ).offset().top;\n",
       "\n",
       "    return {\"x\": x, \"y\": y};\n",
       "};\n",
       "\n",
       "/*\n",
       " * return a copy of an object with only non-object keys\n",
       " * we need this to avoid circular references\n",
       " * http://stackoverflow.com/a/24161582/3208463\n",
       " */\n",
       "function simpleKeys (original) {\n",
       "  return Object.keys(original).reduce(function (obj, key) {\n",
       "    if (typeof original[key] !== 'object')\n",
       "        obj[key] = original[key]\n",
       "    return obj;\n",
       "  }, {});\n",
       "}\n",
       "\n",
       "mpl.figure.prototype.mouse_event = function(event, name) {\n",
       "    var canvas_pos = mpl.findpos(event)\n",
       "\n",
       "    if (name === 'button_press')\n",
       "    {\n",
       "        this.canvas.focus();\n",
       "        this.canvas_div.focus();\n",
       "    }\n",
       "\n",
       "    var x = canvas_pos.x * mpl.ratio;\n",
       "    var y = canvas_pos.y * mpl.ratio;\n",
       "\n",
       "    this.send_message(name, {x: x, y: y, button: event.button,\n",
       "                             step: event.step,\n",
       "                             guiEvent: simpleKeys(event)});\n",
       "\n",
       "    /* This prevents the web browser from automatically changing to\n",
       "     * the text insertion cursor when the button is pressed.  We want\n",
       "     * to control all of the cursor setting manually through the\n",
       "     * 'cursor' event from matplotlib */\n",
       "    event.preventDefault();\n",
       "    return false;\n",
       "}\n",
       "\n",
       "mpl.figure.prototype._key_event_extra = function(event, name) {\n",
       "    // Handle any extra behaviour associated with a key event\n",
       "}\n",
       "\n",
       "mpl.figure.prototype.key_event = function(event, name) {\n",
       "\n",
       "    // Prevent repeat events\n",
       "    if (name == 'key_press')\n",
       "    {\n",
       "        if (event.which === this._key)\n",
       "            return;\n",
       "        else\n",
       "            this._key = event.which;\n",
       "    }\n",
       "    if (name == 'key_release')\n",
       "        this._key = null;\n",
       "\n",
       "    var value = '';\n",
       "    if (event.ctrlKey && event.which != 17)\n",
       "        value += \"ctrl+\";\n",
       "    if (event.altKey && event.which != 18)\n",
       "        value += \"alt+\";\n",
       "    if (event.shiftKey && event.which != 16)\n",
       "        value += \"shift+\";\n",
       "\n",
       "    value += 'k';\n",
       "    value += event.which.toString();\n",
       "\n",
       "    this._key_event_extra(event, name);\n",
       "\n",
       "    this.send_message(name, {key: value,\n",
       "                             guiEvent: simpleKeys(event)});\n",
       "    return false;\n",
       "}\n",
       "\n",
       "mpl.figure.prototype.toolbar_button_onclick = function(name) {\n",
       "    if (name == 'download') {\n",
       "        this.handle_save(this, null);\n",
       "    } else {\n",
       "        this.send_message(\"toolbar_button\", {name: name});\n",
       "    }\n",
       "};\n",
       "\n",
       "mpl.figure.prototype.toolbar_button_onmouseover = function(tooltip) {\n",
       "    this.message.textContent = tooltip;\n",
       "};\n",
       "mpl.toolbar_items = [[\"Home\", \"Reset original view\", \"fa fa-home icon-home\", \"home\"], [\"Back\", \"Back to  previous view\", \"fa fa-arrow-left icon-arrow-left\", \"back\"], [\"Forward\", \"Forward to next view\", \"fa fa-arrow-right icon-arrow-right\", \"forward\"], [\"\", \"\", \"\", \"\"], [\"Pan\", \"Pan axes with left mouse, zoom with right\", \"fa fa-arrows icon-move\", \"pan\"], [\"Zoom\", \"Zoom to rectangle\", \"fa fa-square-o icon-check-empty\", \"zoom\"], [\"\", \"\", \"\", \"\"], [\"Download\", \"Download plot\", \"fa fa-floppy-o icon-save\", \"download\"]];\n",
       "\n",
       "mpl.extensions = [\"eps\", \"jpeg\", \"pdf\", \"png\", \"ps\", \"raw\", \"svg\", \"tif\"];\n",
       "\n",
       "mpl.default_extension = \"png\";var comm_websocket_adapter = function(comm) {\n",
       "    // Create a \"websocket\"-like object which calls the given IPython comm\n",
       "    // object with the appropriate methods. Currently this is a non binary\n",
       "    // socket, so there is still some room for performance tuning.\n",
       "    var ws = {};\n",
       "\n",
       "    ws.close = function() {\n",
       "        comm.close()\n",
       "    };\n",
       "    ws.send = function(m) {\n",
       "        //console.log('sending', m);\n",
       "        comm.send(m);\n",
       "    };\n",
       "    // Register the callback with on_msg.\n",
       "    comm.on_msg(function(msg) {\n",
       "        //console.log('receiving', msg['content']['data'], msg);\n",
       "        // Pass the mpl event to the overriden (by mpl) onmessage function.\n",
       "        ws.onmessage(msg['content']['data'])\n",
       "    });\n",
       "    return ws;\n",
       "}\n",
       "\n",
       "mpl.mpl_figure_comm = function(comm, msg) {\n",
       "    // This is the function which gets called when the mpl process\n",
       "    // starts-up an IPython Comm through the \"matplotlib\" channel.\n",
       "\n",
       "    var id = msg.content.data.id;\n",
       "    // Get hold of the div created by the display call when the Comm\n",
       "    // socket was opened in Python.\n",
       "    var element = $(\"#\" + id);\n",
       "    var ws_proxy = comm_websocket_adapter(comm)\n",
       "\n",
       "    function ondownload(figure, format) {\n",
       "        window.open(figure.imageObj.src);\n",
       "    }\n",
       "\n",
       "    var fig = new mpl.figure(id, ws_proxy,\n",
       "                           ondownload,\n",
       "                           element.get(0));\n",
       "\n",
       "    // Call onopen now - mpl needs it, as it is assuming we've passed it a real\n",
       "    // web socket which is closed, not our websocket->open comm proxy.\n",
       "    ws_proxy.onopen();\n",
       "\n",
       "    fig.parent_element = element.get(0);\n",
       "    fig.cell_info = mpl.find_output_cell(\"<div id='\" + id + \"'></div>\");\n",
       "    if (!fig.cell_info) {\n",
       "        console.error(\"Failed to find cell for figure\", id, fig);\n",
       "        return;\n",
       "    }\n",
       "\n",
       "    var output_index = fig.cell_info[2]\n",
       "    var cell = fig.cell_info[0];\n",
       "\n",
       "};\n",
       "\n",
       "mpl.figure.prototype.handle_close = function(fig, msg) {\n",
       "    var width = fig.canvas.width/mpl.ratio\n",
       "    fig.root.unbind('remove')\n",
       "\n",
       "    // Update the output cell to use the data from the current canvas.\n",
       "    fig.push_to_output();\n",
       "    var dataURL = fig.canvas.toDataURL();\n",
       "    // Re-enable the keyboard manager in IPython - without this line, in FF,\n",
       "    // the notebook keyboard shortcuts fail.\n",
       "    IPython.keyboard_manager.enable()\n",
       "    $(fig.parent_element).html('<img src=\"' + dataURL + '\" width=\"' + width + '\">');\n",
       "    fig.close_ws(fig, msg);\n",
       "}\n",
       "\n",
       "mpl.figure.prototype.close_ws = function(fig, msg){\n",
       "    fig.send_message('closing', msg);\n",
       "    // fig.ws.close()\n",
       "}\n",
       "\n",
       "mpl.figure.prototype.push_to_output = function(remove_interactive) {\n",
       "    // Turn the data on the canvas into data in the output cell.\n",
       "    var width = this.canvas.width/mpl.ratio\n",
       "    var dataURL = this.canvas.toDataURL();\n",
       "    this.cell_info[1]['text/html'] = '<img src=\"' + dataURL + '\" width=\"' + width + '\">';\n",
       "}\n",
       "\n",
       "mpl.figure.prototype.updated_canvas_event = function() {\n",
       "    // Tell IPython that the notebook contents must change.\n",
       "    IPython.notebook.set_dirty(true);\n",
       "    this.send_message(\"ack\", {});\n",
       "    var fig = this;\n",
       "    // Wait a second, then push the new image to the DOM so\n",
       "    // that it is saved nicely (might be nice to debounce this).\n",
       "    setTimeout(function () { fig.push_to_output() }, 1000);\n",
       "}\n",
       "\n",
       "mpl.figure.prototype._init_toolbar = function() {\n",
       "    var fig = this;\n",
       "\n",
       "    var nav_element = $('<div/>')\n",
       "    nav_element.attr('style', 'width: 100%');\n",
       "    this.root.append(nav_element);\n",
       "\n",
       "    // Define a callback function for later on.\n",
       "    function toolbar_event(event) {\n",
       "        return fig.toolbar_button_onclick(event['data']);\n",
       "    }\n",
       "    function toolbar_mouse_event(event) {\n",
       "        return fig.toolbar_button_onmouseover(event['data']);\n",
       "    }\n",
       "\n",
       "    for(var toolbar_ind in mpl.toolbar_items){\n",
       "        var name = mpl.toolbar_items[toolbar_ind][0];\n",
       "        var tooltip = mpl.toolbar_items[toolbar_ind][1];\n",
       "        var image = mpl.toolbar_items[toolbar_ind][2];\n",
       "        var method_name = mpl.toolbar_items[toolbar_ind][3];\n",
       "\n",
       "        if (!name) { continue; };\n",
       "\n",
       "        var button = $('<button class=\"btn btn-default\" href=\"#\" title=\"' + name + '\"><i class=\"fa ' + image + ' fa-lg\"></i></button>');\n",
       "        button.click(method_name, toolbar_event);\n",
       "        button.mouseover(tooltip, toolbar_mouse_event);\n",
       "        nav_element.append(button);\n",
       "    }\n",
       "\n",
       "    // Add the status bar.\n",
       "    var status_bar = $('<span class=\"mpl-message\" style=\"text-align:right; float: right;\"/>');\n",
       "    nav_element.append(status_bar);\n",
       "    this.message = status_bar[0];\n",
       "\n",
       "    // Add the close button to the window.\n",
       "    var buttongrp = $('<div class=\"btn-group inline pull-right\"></div>');\n",
       "    var button = $('<button class=\"btn btn-mini btn-primary\" href=\"#\" title=\"Stop Interaction\"><i class=\"fa fa-power-off icon-remove icon-large\"></i></button>');\n",
       "    button.click(function (evt) { fig.handle_close(fig, {}); } );\n",
       "    button.mouseover('Stop Interaction', toolbar_mouse_event);\n",
       "    buttongrp.append(button);\n",
       "    var titlebar = this.root.find($('.ui-dialog-titlebar'));\n",
       "    titlebar.prepend(buttongrp);\n",
       "}\n",
       "\n",
       "mpl.figure.prototype._root_extra_style = function(el){\n",
       "    var fig = this\n",
       "    el.on(\"remove\", function(){\n",
       "\tfig.close_ws(fig, {});\n",
       "    });\n",
       "}\n",
       "\n",
       "mpl.figure.prototype._canvas_extra_style = function(el){\n",
       "    // this is important to make the div 'focusable\n",
       "    el.attr('tabindex', 0)\n",
       "    // reach out to IPython and tell the keyboard manager to turn it's self\n",
       "    // off when our div gets focus\n",
       "\n",
       "    // location in version 3\n",
       "    if (IPython.notebook.keyboard_manager) {\n",
       "        IPython.notebook.keyboard_manager.register_events(el);\n",
       "    }\n",
       "    else {\n",
       "        // location in version 2\n",
       "        IPython.keyboard_manager.register_events(el);\n",
       "    }\n",
       "\n",
       "}\n",
       "\n",
       "mpl.figure.prototype._key_event_extra = function(event, name) {\n",
       "    var manager = IPython.notebook.keyboard_manager;\n",
       "    if (!manager)\n",
       "        manager = IPython.keyboard_manager;\n",
       "\n",
       "    // Check for shift+enter\n",
       "    if (event.shiftKey && event.which == 13) {\n",
       "        this.canvas_div.blur();\n",
       "        // select the cell after this one\n",
       "        var index = IPython.notebook.find_cell_index(this.cell_info[0]);\n",
       "        IPython.notebook.select(index + 1);\n",
       "    }\n",
       "}\n",
       "\n",
       "mpl.figure.prototype.handle_save = function(fig, msg) {\n",
       "    fig.ondownload(fig, null);\n",
       "}\n",
       "\n",
       "\n",
       "mpl.find_output_cell = function(html_output) {\n",
       "    // Return the cell and output element which can be found *uniquely* in the notebook.\n",
       "    // Note - this is a bit hacky, but it is done because the \"notebook_saving.Notebook\"\n",
       "    // IPython event is triggered only after the cells have been serialised, which for\n",
       "    // our purposes (turning an active figure into a static one), is too late.\n",
       "    var cells = IPython.notebook.get_cells();\n",
       "    var ncells = cells.length;\n",
       "    for (var i=0; i<ncells; i++) {\n",
       "        var cell = cells[i];\n",
       "        if (cell.cell_type === 'code'){\n",
       "            for (var j=0; j<cell.output_area.outputs.length; j++) {\n",
       "                var data = cell.output_area.outputs[j];\n",
       "                if (data.data) {\n",
       "                    // IPython >= 3 moved mimebundle to data attribute of output\n",
       "                    data = data.data;\n",
       "                }\n",
       "                if (data['text/html'] == html_output) {\n",
       "                    return [cell, data, j];\n",
       "                }\n",
       "            }\n",
       "        }\n",
       "    }\n",
       "}\n",
       "\n",
       "// Register the function which deals with the matplotlib target/channel.\n",
       "// The kernel may be null if the page has been refreshed.\n",
       "if (IPython.notebook.kernel != null) {\n",
       "    IPython.notebook.kernel.comm_manager.register_target('matplotlib', mpl.mpl_figure_comm);\n",
       "}\n"
      ],
      "text/plain": [
       "<IPython.core.display.Javascript object>"
      ]
     },
     "metadata": {},
     "output_type": "display_data"
    },
    {
     "data": {
      "text/html": [
       "<img src=\"data:image/png;base64,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\" width=\"1000\">"
      ],
      "text/plain": [
       "<IPython.core.display.HTML object>"
      ]
     },
     "metadata": {},
     "output_type": "display_data"
    }
   ],
   "source": [
    "#To find out most injured player in 2018 Season\n",
    "\n",
    "injury_series = df[df['Season'] == '18/19'].groupby(by = 'Name')['Days Out'].sum()\n",
    "injury_series = injury_series.sort_values(ascending = False)\n",
    "\n",
    "fig = plt.figure()\n",
    "\n",
    "\n",
    "init_plot((10, 10), \"#b3e5fc\")\n",
    "ax = sns.barplot(injury_series.index, injury_series.values, palette= sns.light_palette(\"navy\", reverse=True))\n",
    "stylize_plot(ax, \"Name\" , \"Days Injured\", \"Injury History Of MUFC Players 2018/19 Season\")"
   ]
  },
  {
   "cell_type": "code",
   "execution_count": 88,
   "metadata": {},
   "outputs": [
    {
     "data": {
      "text/plain": [
       "Name\n",
       "Alexis Sánchez      3\n",
       "Antonio Valencia    3\n",
       "Marcos Rojo         2\n",
       "Ander Herrera       2\n",
       "Anthony Martial     2\n",
       "Name: Injury, dtype: int64"
      ]
     },
     "execution_count": 88,
     "metadata": {},
     "output_type": "execute_result"
    }
   ],
   "source": [
    "#Most number of injuries\n",
    "#Graph is pointless\n",
    "\n",
    "ij_count = df[df['Season'] == '18/19'].groupby('Name')['Injury'].count()\n",
    "ij_count = ij_count.sort_values(ascending = False)\n",
    "\n",
    "ij_count.head()\n",
    "#fig = plt.figure()\n",
    "#ax = sns.barplot(ij_count.index, ij_count.values)"
   ]
  },
  {
   "cell_type": "code",
   "execution_count": 218,
   "metadata": {
    "scrolled": true
   },
   "outputs": [
    {
     "data": {
      "application/javascript": [
       "/* Put everything inside the global mpl namespace */\n",
       "window.mpl = {};\n",
       "\n",
       "\n",
       "mpl.get_websocket_type = function() {\n",
       "    if (typeof(WebSocket) !== 'undefined') {\n",
       "        return WebSocket;\n",
       "    } else if (typeof(MozWebSocket) !== 'undefined') {\n",
       "        return MozWebSocket;\n",
       "    } else {\n",
       "        alert('Your browser does not have WebSocket support.' +\n",
       "              'Please try Chrome, Safari or Firefox ≥ 6. ' +\n",
       "              'Firefox 4 and 5 are also supported but you ' +\n",
       "              'have to enable WebSockets in about:config.');\n",
       "    };\n",
       "}\n",
       "\n",
       "mpl.figure = function(figure_id, websocket, ondownload, parent_element) {\n",
       "    this.id = figure_id;\n",
       "\n",
       "    this.ws = websocket;\n",
       "\n",
       "    this.supports_binary = (this.ws.binaryType != undefined);\n",
       "\n",
       "    if (!this.supports_binary) {\n",
       "        var warnings = document.getElementById(\"mpl-warnings\");\n",
       "        if (warnings) {\n",
       "            warnings.style.display = 'block';\n",
       "            warnings.textContent = (\n",
       "                \"This browser does not support binary websocket messages. \" +\n",
       "                    \"Performance may be slow.\");\n",
       "        }\n",
       "    }\n",
       "\n",
       "    this.imageObj = new Image();\n",
       "\n",
       "    this.context = undefined;\n",
       "    this.message = undefined;\n",
       "    this.canvas = undefined;\n",
       "    this.rubberband_canvas = undefined;\n",
       "    this.rubberband_context = undefined;\n",
       "    this.format_dropdown = undefined;\n",
       "\n",
       "    this.image_mode = 'full';\n",
       "\n",
       "    this.root = $('<div/>');\n",
       "    this._root_extra_style(this.root)\n",
       "    this.root.attr('style', 'display: inline-block');\n",
       "\n",
       "    $(parent_element).append(this.root);\n",
       "\n",
       "    this._init_header(this);\n",
       "    this._init_canvas(this);\n",
       "    this._init_toolbar(this);\n",
       "\n",
       "    var fig = this;\n",
       "\n",
       "    this.waiting = false;\n",
       "\n",
       "    this.ws.onopen =  function () {\n",
       "            fig.send_message(\"supports_binary\", {value: fig.supports_binary});\n",
       "            fig.send_message(\"send_image_mode\", {});\n",
       "            if (mpl.ratio != 1) {\n",
       "                fig.send_message(\"set_dpi_ratio\", {'dpi_ratio': mpl.ratio});\n",
       "            }\n",
       "            fig.send_message(\"refresh\", {});\n",
       "        }\n",
       "\n",
       "    this.imageObj.onload = function() {\n",
       "            if (fig.image_mode == 'full') {\n",
       "                // Full images could contain transparency (where diff images\n",
       "                // almost always do), so we need to clear the canvas so that\n",
       "                // there is no ghosting.\n",
       "                fig.context.clearRect(0, 0, fig.canvas.width, fig.canvas.height);\n",
       "            }\n",
       "            fig.context.drawImage(fig.imageObj, 0, 0);\n",
       "        };\n",
       "\n",
       "    this.imageObj.onunload = function() {\n",
       "        this.ws.close();\n",
       "    }\n",
       "\n",
       "    this.ws.onmessage = this._make_on_message_function(this);\n",
       "\n",
       "    this.ondownload = ondownload;\n",
       "}\n",
       "\n",
       "mpl.figure.prototype._init_header = function() {\n",
       "    var titlebar = $(\n",
       "        '<div class=\"ui-dialog-titlebar ui-widget-header ui-corner-all ' +\n",
       "        'ui-helper-clearfix\"/>');\n",
       "    var titletext = $(\n",
       "        '<div class=\"ui-dialog-title\" style=\"width: 100%; ' +\n",
       "        'text-align: center; padding: 3px;\"/>');\n",
       "    titlebar.append(titletext)\n",
       "    this.root.append(titlebar);\n",
       "    this.header = titletext[0];\n",
       "}\n",
       "\n",
       "\n",
       "\n",
       "mpl.figure.prototype._canvas_extra_style = function(canvas_div) {\n",
       "\n",
       "}\n",
       "\n",
       "\n",
       "mpl.figure.prototype._root_extra_style = function(canvas_div) {\n",
       "\n",
       "}\n",
       "\n",
       "mpl.figure.prototype._init_canvas = function() {\n",
       "    var fig = this;\n",
       "\n",
       "    var canvas_div = $('<div/>');\n",
       "\n",
       "    canvas_div.attr('style', 'position: relative; clear: both; outline: 0');\n",
       "\n",
       "    function canvas_keyboard_event(event) {\n",
       "        return fig.key_event(event, event['data']);\n",
       "    }\n",
       "\n",
       "    canvas_div.keydown('key_press', canvas_keyboard_event);\n",
       "    canvas_div.keyup('key_release', canvas_keyboard_event);\n",
       "    this.canvas_div = canvas_div\n",
       "    this._canvas_extra_style(canvas_div)\n",
       "    this.root.append(canvas_div);\n",
       "\n",
       "    var canvas = $('<canvas/>');\n",
       "    canvas.addClass('mpl-canvas');\n",
       "    canvas.attr('style', \"left: 0; top: 0; z-index: 0; outline: 0\")\n",
       "\n",
       "    this.canvas = canvas[0];\n",
       "    this.context = canvas[0].getContext(\"2d\");\n",
       "\n",
       "    var backingStore = this.context.backingStorePixelRatio ||\n",
       "\tthis.context.webkitBackingStorePixelRatio ||\n",
       "\tthis.context.mozBackingStorePixelRatio ||\n",
       "\tthis.context.msBackingStorePixelRatio ||\n",
       "\tthis.context.oBackingStorePixelRatio ||\n",
       "\tthis.context.backingStorePixelRatio || 1;\n",
       "\n",
       "    mpl.ratio = (window.devicePixelRatio || 1) / backingStore;\n",
       "\n",
       "    var rubberband = $('<canvas/>');\n",
       "    rubberband.attr('style', \"position: absolute; left: 0; top: 0; z-index: 1;\")\n",
       "\n",
       "    var pass_mouse_events = true;\n",
       "\n",
       "    canvas_div.resizable({\n",
       "        start: function(event, ui) {\n",
       "            pass_mouse_events = false;\n",
       "        },\n",
       "        resize: function(event, ui) {\n",
       "            fig.request_resize(ui.size.width, ui.size.height);\n",
       "        },\n",
       "        stop: function(event, ui) {\n",
       "            pass_mouse_events = true;\n",
       "            fig.request_resize(ui.size.width, ui.size.height);\n",
       "        },\n",
       "    });\n",
       "\n",
       "    function mouse_event_fn(event) {\n",
       "        if (pass_mouse_events)\n",
       "            return fig.mouse_event(event, event['data']);\n",
       "    }\n",
       "\n",
       "    rubberband.mousedown('button_press', mouse_event_fn);\n",
       "    rubberband.mouseup('button_release', mouse_event_fn);\n",
       "    // Throttle sequential mouse events to 1 every 20ms.\n",
       "    rubberband.mousemove('motion_notify', mouse_event_fn);\n",
       "\n",
       "    rubberband.mouseenter('figure_enter', mouse_event_fn);\n",
       "    rubberband.mouseleave('figure_leave', mouse_event_fn);\n",
       "\n",
       "    canvas_div.on(\"wheel\", function (event) {\n",
       "        event = event.originalEvent;\n",
       "        event['data'] = 'scroll'\n",
       "        if (event.deltaY < 0) {\n",
       "            event.step = 1;\n",
       "        } else {\n",
       "            event.step = -1;\n",
       "        }\n",
       "        mouse_event_fn(event);\n",
       "    });\n",
       "\n",
       "    canvas_div.append(canvas);\n",
       "    canvas_div.append(rubberband);\n",
       "\n",
       "    this.rubberband = rubberband;\n",
       "    this.rubberband_canvas = rubberband[0];\n",
       "    this.rubberband_context = rubberband[0].getContext(\"2d\");\n",
       "    this.rubberband_context.strokeStyle = \"#000000\";\n",
       "\n",
       "    this._resize_canvas = function(width, height) {\n",
       "        // Keep the size of the canvas, canvas container, and rubber band\n",
       "        // canvas in synch.\n",
       "        canvas_div.css('width', width)\n",
       "        canvas_div.css('height', height)\n",
       "\n",
       "        canvas.attr('width', width * mpl.ratio);\n",
       "        canvas.attr('height', height * mpl.ratio);\n",
       "        canvas.attr('style', 'width: ' + width + 'px; height: ' + height + 'px;');\n",
       "\n",
       "        rubberband.attr('width', width);\n",
       "        rubberband.attr('height', height);\n",
       "    }\n",
       "\n",
       "    // Set the figure to an initial 600x600px, this will subsequently be updated\n",
       "    // upon first draw.\n",
       "    this._resize_canvas(600, 600);\n",
       "\n",
       "    // Disable right mouse context menu.\n",
       "    $(this.rubberband_canvas).bind(\"contextmenu\",function(e){\n",
       "        return false;\n",
       "    });\n",
       "\n",
       "    function set_focus () {\n",
       "        canvas.focus();\n",
       "        canvas_div.focus();\n",
       "    }\n",
       "\n",
       "    window.setTimeout(set_focus, 100);\n",
       "}\n",
       "\n",
       "mpl.figure.prototype._init_toolbar = function() {\n",
       "    var fig = this;\n",
       "\n",
       "    var nav_element = $('<div/>')\n",
       "    nav_element.attr('style', 'width: 100%');\n",
       "    this.root.append(nav_element);\n",
       "\n",
       "    // Define a callback function for later on.\n",
       "    function toolbar_event(event) {\n",
       "        return fig.toolbar_button_onclick(event['data']);\n",
       "    }\n",
       "    function toolbar_mouse_event(event) {\n",
       "        return fig.toolbar_button_onmouseover(event['data']);\n",
       "    }\n",
       "\n",
       "    for(var toolbar_ind in mpl.toolbar_items) {\n",
       "        var name = mpl.toolbar_items[toolbar_ind][0];\n",
       "        var tooltip = mpl.toolbar_items[toolbar_ind][1];\n",
       "        var image = mpl.toolbar_items[toolbar_ind][2];\n",
       "        var method_name = mpl.toolbar_items[toolbar_ind][3];\n",
       "\n",
       "        if (!name) {\n",
       "            // put a spacer in here.\n",
       "            continue;\n",
       "        }\n",
       "        var button = $('<button/>');\n",
       "        button.addClass('ui-button ui-widget ui-state-default ui-corner-all ' +\n",
       "                        'ui-button-icon-only');\n",
       "        button.attr('role', 'button');\n",
       "        button.attr('aria-disabled', 'false');\n",
       "        button.click(method_name, toolbar_event);\n",
       "        button.mouseover(tooltip, toolbar_mouse_event);\n",
       "\n",
       "        var icon_img = $('<span/>');\n",
       "        icon_img.addClass('ui-button-icon-primary ui-icon');\n",
       "        icon_img.addClass(image);\n",
       "        icon_img.addClass('ui-corner-all');\n",
       "\n",
       "        var tooltip_span = $('<span/>');\n",
       "        tooltip_span.addClass('ui-button-text');\n",
       "        tooltip_span.html(tooltip);\n",
       "\n",
       "        button.append(icon_img);\n",
       "        button.append(tooltip_span);\n",
       "\n",
       "        nav_element.append(button);\n",
       "    }\n",
       "\n",
       "    var fmt_picker_span = $('<span/>');\n",
       "\n",
       "    var fmt_picker = $('<select/>');\n",
       "    fmt_picker.addClass('mpl-toolbar-option ui-widget ui-widget-content');\n",
       "    fmt_picker_span.append(fmt_picker);\n",
       "    nav_element.append(fmt_picker_span);\n",
       "    this.format_dropdown = fmt_picker[0];\n",
       "\n",
       "    for (var ind in mpl.extensions) {\n",
       "        var fmt = mpl.extensions[ind];\n",
       "        var option = $(\n",
       "            '<option/>', {selected: fmt === mpl.default_extension}).html(fmt);\n",
       "        fmt_picker.append(option)\n",
       "    }\n",
       "\n",
       "    // Add hover states to the ui-buttons\n",
       "    $( \".ui-button\" ).hover(\n",
       "        function() { $(this).addClass(\"ui-state-hover\");},\n",
       "        function() { $(this).removeClass(\"ui-state-hover\");}\n",
       "    );\n",
       "\n",
       "    var status_bar = $('<span class=\"mpl-message\"/>');\n",
       "    nav_element.append(status_bar);\n",
       "    this.message = status_bar[0];\n",
       "}\n",
       "\n",
       "mpl.figure.prototype.request_resize = function(x_pixels, y_pixels) {\n",
       "    // Request matplotlib to resize the figure. Matplotlib will then trigger a resize in the client,\n",
       "    // which will in turn request a refresh of the image.\n",
       "    this.send_message('resize', {'width': x_pixels, 'height': y_pixels});\n",
       "}\n",
       "\n",
       "mpl.figure.prototype.send_message = function(type, properties) {\n",
       "    properties['type'] = type;\n",
       "    properties['figure_id'] = this.id;\n",
       "    this.ws.send(JSON.stringify(properties));\n",
       "}\n",
       "\n",
       "mpl.figure.prototype.send_draw_message = function() {\n",
       "    if (!this.waiting) {\n",
       "        this.waiting = true;\n",
       "        this.ws.send(JSON.stringify({type: \"draw\", figure_id: this.id}));\n",
       "    }\n",
       "}\n",
       "\n",
       "\n",
       "mpl.figure.prototype.handle_save = function(fig, msg) {\n",
       "    var format_dropdown = fig.format_dropdown;\n",
       "    var format = format_dropdown.options[format_dropdown.selectedIndex].value;\n",
       "    fig.ondownload(fig, format);\n",
       "}\n",
       "\n",
       "\n",
       "mpl.figure.prototype.handle_resize = function(fig, msg) {\n",
       "    var size = msg['size'];\n",
       "    if (size[0] != fig.canvas.width || size[1] != fig.canvas.height) {\n",
       "        fig._resize_canvas(size[0], size[1]);\n",
       "        fig.send_message(\"refresh\", {});\n",
       "    };\n",
       "}\n",
       "\n",
       "mpl.figure.prototype.handle_rubberband = function(fig, msg) {\n",
       "    var x0 = msg['x0'] / mpl.ratio;\n",
       "    var y0 = (fig.canvas.height - msg['y0']) / mpl.ratio;\n",
       "    var x1 = msg['x1'] / mpl.ratio;\n",
       "    var y1 = (fig.canvas.height - msg['y1']) / mpl.ratio;\n",
       "    x0 = Math.floor(x0) + 0.5;\n",
       "    y0 = Math.floor(y0) + 0.5;\n",
       "    x1 = Math.floor(x1) + 0.5;\n",
       "    y1 = Math.floor(y1) + 0.5;\n",
       "    var min_x = Math.min(x0, x1);\n",
       "    var min_y = Math.min(y0, y1);\n",
       "    var width = Math.abs(x1 - x0);\n",
       "    var height = Math.abs(y1 - y0);\n",
       "\n",
       "    fig.rubberband_context.clearRect(\n",
       "        0, 0, fig.canvas.width, fig.canvas.height);\n",
       "\n",
       "    fig.rubberband_context.strokeRect(min_x, min_y, width, height);\n",
       "}\n",
       "\n",
       "mpl.figure.prototype.handle_figure_label = function(fig, msg) {\n",
       "    // Updates the figure title.\n",
       "    fig.header.textContent = msg['label'];\n",
       "}\n",
       "\n",
       "mpl.figure.prototype.handle_cursor = function(fig, msg) {\n",
       "    var cursor = msg['cursor'];\n",
       "    switch(cursor)\n",
       "    {\n",
       "    case 0:\n",
       "        cursor = 'pointer';\n",
       "        break;\n",
       "    case 1:\n",
       "        cursor = 'default';\n",
       "        break;\n",
       "    case 2:\n",
       "        cursor = 'crosshair';\n",
       "        break;\n",
       "    case 3:\n",
       "        cursor = 'move';\n",
       "        break;\n",
       "    }\n",
       "    fig.rubberband_canvas.style.cursor = cursor;\n",
       "}\n",
       "\n",
       "mpl.figure.prototype.handle_message = function(fig, msg) {\n",
       "    fig.message.textContent = msg['message'];\n",
       "}\n",
       "\n",
       "mpl.figure.prototype.handle_draw = function(fig, msg) {\n",
       "    // Request the server to send over a new figure.\n",
       "    fig.send_draw_message();\n",
       "}\n",
       "\n",
       "mpl.figure.prototype.handle_image_mode = function(fig, msg) {\n",
       "    fig.image_mode = msg['mode'];\n",
       "}\n",
       "\n",
       "mpl.figure.prototype.updated_canvas_event = function() {\n",
       "    // Called whenever the canvas gets updated.\n",
       "    this.send_message(\"ack\", {});\n",
       "}\n",
       "\n",
       "// A function to construct a web socket function for onmessage handling.\n",
       "// Called in the figure constructor.\n",
       "mpl.figure.prototype._make_on_message_function = function(fig) {\n",
       "    return function socket_on_message(evt) {\n",
       "        if (evt.data instanceof Blob) {\n",
       "            /* FIXME: We get \"Resource interpreted as Image but\n",
       "             * transferred with MIME type text/plain:\" errors on\n",
       "             * Chrome.  But how to set the MIME type?  It doesn't seem\n",
       "             * to be part of the websocket stream */\n",
       "            evt.data.type = \"image/png\";\n",
       "\n",
       "            /* Free the memory for the previous frames */\n",
       "            if (fig.imageObj.src) {\n",
       "                (window.URL || window.webkitURL).revokeObjectURL(\n",
       "                    fig.imageObj.src);\n",
       "            }\n",
       "\n",
       "            fig.imageObj.src = (window.URL || window.webkitURL).createObjectURL(\n",
       "                evt.data);\n",
       "            fig.updated_canvas_event();\n",
       "            fig.waiting = false;\n",
       "            return;\n",
       "        }\n",
       "        else if (typeof evt.data === 'string' && evt.data.slice(0, 21) == \"data:image/png;base64\") {\n",
       "            fig.imageObj.src = evt.data;\n",
       "            fig.updated_canvas_event();\n",
       "            fig.waiting = false;\n",
       "            return;\n",
       "        }\n",
       "\n",
       "        var msg = JSON.parse(evt.data);\n",
       "        var msg_type = msg['type'];\n",
       "\n",
       "        // Call the  \"handle_{type}\" callback, which takes\n",
       "        // the figure and JSON message as its only arguments.\n",
       "        try {\n",
       "            var callback = fig[\"handle_\" + msg_type];\n",
       "        } catch (e) {\n",
       "            console.log(\"No handler for the '\" + msg_type + \"' message type: \", msg);\n",
       "            return;\n",
       "        }\n",
       "\n",
       "        if (callback) {\n",
       "            try {\n",
       "                // console.log(\"Handling '\" + msg_type + \"' message: \", msg);\n",
       "                callback(fig, msg);\n",
       "            } catch (e) {\n",
       "                console.log(\"Exception inside the 'handler_\" + msg_type + \"' callback:\", e, e.stack, msg);\n",
       "            }\n",
       "        }\n",
       "    };\n",
       "}\n",
       "\n",
       "// from http://stackoverflow.com/questions/1114465/getting-mouse-location-in-canvas\n",
       "mpl.findpos = function(e) {\n",
       "    //this section is from http://www.quirksmode.org/js/events_properties.html\n",
       "    var targ;\n",
       "    if (!e)\n",
       "        e = window.event;\n",
       "    if (e.target)\n",
       "        targ = e.target;\n",
       "    else if (e.srcElement)\n",
       "        targ = e.srcElement;\n",
       "    if (targ.nodeType == 3) // defeat Safari bug\n",
       "        targ = targ.parentNode;\n",
       "\n",
       "    // jQuery normalizes the pageX and pageY\n",
       "    // pageX,Y are the mouse positions relative to the document\n",
       "    // offset() returns the position of the element relative to the document\n",
       "    var x = e.pageX - $(targ).offset().left;\n",
       "    var y = e.pageY - $(targ).offset().top;\n",
       "\n",
       "    return {\"x\": x, \"y\": y};\n",
       "};\n",
       "\n",
       "/*\n",
       " * return a copy of an object with only non-object keys\n",
       " * we need this to avoid circular references\n",
       " * http://stackoverflow.com/a/24161582/3208463\n",
       " */\n",
       "function simpleKeys (original) {\n",
       "  return Object.keys(original).reduce(function (obj, key) {\n",
       "    if (typeof original[key] !== 'object')\n",
       "        obj[key] = original[key]\n",
       "    return obj;\n",
       "  }, {});\n",
       "}\n",
       "\n",
       "mpl.figure.prototype.mouse_event = function(event, name) {\n",
       "    var canvas_pos = mpl.findpos(event)\n",
       "\n",
       "    if (name === 'button_press')\n",
       "    {\n",
       "        this.canvas.focus();\n",
       "        this.canvas_div.focus();\n",
       "    }\n",
       "\n",
       "    var x = canvas_pos.x * mpl.ratio;\n",
       "    var y = canvas_pos.y * mpl.ratio;\n",
       "\n",
       "    this.send_message(name, {x: x, y: y, button: event.button,\n",
       "                             step: event.step,\n",
       "                             guiEvent: simpleKeys(event)});\n",
       "\n",
       "    /* This prevents the web browser from automatically changing to\n",
       "     * the text insertion cursor when the button is pressed.  We want\n",
       "     * to control all of the cursor setting manually through the\n",
       "     * 'cursor' event from matplotlib */\n",
       "    event.preventDefault();\n",
       "    return false;\n",
       "}\n",
       "\n",
       "mpl.figure.prototype._key_event_extra = function(event, name) {\n",
       "    // Handle any extra behaviour associated with a key event\n",
       "}\n",
       "\n",
       "mpl.figure.prototype.key_event = function(event, name) {\n",
       "\n",
       "    // Prevent repeat events\n",
       "    if (name == 'key_press')\n",
       "    {\n",
       "        if (event.which === this._key)\n",
       "            return;\n",
       "        else\n",
       "            this._key = event.which;\n",
       "    }\n",
       "    if (name == 'key_release')\n",
       "        this._key = null;\n",
       "\n",
       "    var value = '';\n",
       "    if (event.ctrlKey && event.which != 17)\n",
       "        value += \"ctrl+\";\n",
       "    if (event.altKey && event.which != 18)\n",
       "        value += \"alt+\";\n",
       "    if (event.shiftKey && event.which != 16)\n",
       "        value += \"shift+\";\n",
       "\n",
       "    value += 'k';\n",
       "    value += event.which.toString();\n",
       "\n",
       "    this._key_event_extra(event, name);\n",
       "\n",
       "    this.send_message(name, {key: value,\n",
       "                             guiEvent: simpleKeys(event)});\n",
       "    return false;\n",
       "}\n",
       "\n",
       "mpl.figure.prototype.toolbar_button_onclick = function(name) {\n",
       "    if (name == 'download') {\n",
       "        this.handle_save(this, null);\n",
       "    } else {\n",
       "        this.send_message(\"toolbar_button\", {name: name});\n",
       "    }\n",
       "};\n",
       "\n",
       "mpl.figure.prototype.toolbar_button_onmouseover = function(tooltip) {\n",
       "    this.message.textContent = tooltip;\n",
       "};\n",
       "mpl.toolbar_items = [[\"Home\", \"Reset original view\", \"fa fa-home icon-home\", \"home\"], [\"Back\", \"Back to  previous view\", \"fa fa-arrow-left icon-arrow-left\", \"back\"], [\"Forward\", \"Forward to next view\", \"fa fa-arrow-right icon-arrow-right\", \"forward\"], [\"\", \"\", \"\", \"\"], [\"Pan\", \"Pan axes with left mouse, zoom with right\", \"fa fa-arrows icon-move\", \"pan\"], [\"Zoom\", \"Zoom to rectangle\", \"fa fa-square-o icon-check-empty\", \"zoom\"], [\"\", \"\", \"\", \"\"], [\"Download\", \"Download plot\", \"fa fa-floppy-o icon-save\", \"download\"]];\n",
       "\n",
       "mpl.extensions = [\"eps\", \"jpeg\", \"pdf\", \"png\", \"ps\", \"raw\", \"svg\", \"tif\"];\n",
       "\n",
       "mpl.default_extension = \"png\";var comm_websocket_adapter = function(comm) {\n",
       "    // Create a \"websocket\"-like object which calls the given IPython comm\n",
       "    // object with the appropriate methods. Currently this is a non binary\n",
       "    // socket, so there is still some room for performance tuning.\n",
       "    var ws = {};\n",
       "\n",
       "    ws.close = function() {\n",
       "        comm.close()\n",
       "    };\n",
       "    ws.send = function(m) {\n",
       "        //console.log('sending', m);\n",
       "        comm.send(m);\n",
       "    };\n",
       "    // Register the callback with on_msg.\n",
       "    comm.on_msg(function(msg) {\n",
       "        //console.log('receiving', msg['content']['data'], msg);\n",
       "        // Pass the mpl event to the overriden (by mpl) onmessage function.\n",
       "        ws.onmessage(msg['content']['data'])\n",
       "    });\n",
       "    return ws;\n",
       "}\n",
       "\n",
       "mpl.mpl_figure_comm = function(comm, msg) {\n",
       "    // This is the function which gets called when the mpl process\n",
       "    // starts-up an IPython Comm through the \"matplotlib\" channel.\n",
       "\n",
       "    var id = msg.content.data.id;\n",
       "    // Get hold of the div created by the display call when the Comm\n",
       "    // socket was opened in Python.\n",
       "    var element = $(\"#\" + id);\n",
       "    var ws_proxy = comm_websocket_adapter(comm)\n",
       "\n",
       "    function ondownload(figure, format) {\n",
       "        window.open(figure.imageObj.src);\n",
       "    }\n",
       "\n",
       "    var fig = new mpl.figure(id, ws_proxy,\n",
       "                           ondownload,\n",
       "                           element.get(0));\n",
       "\n",
       "    // Call onopen now - mpl needs it, as it is assuming we've passed it a real\n",
       "    // web socket which is closed, not our websocket->open comm proxy.\n",
       "    ws_proxy.onopen();\n",
       "\n",
       "    fig.parent_element = element.get(0);\n",
       "    fig.cell_info = mpl.find_output_cell(\"<div id='\" + id + \"'></div>\");\n",
       "    if (!fig.cell_info) {\n",
       "        console.error(\"Failed to find cell for figure\", id, fig);\n",
       "        return;\n",
       "    }\n",
       "\n",
       "    var output_index = fig.cell_info[2]\n",
       "    var cell = fig.cell_info[0];\n",
       "\n",
       "};\n",
       "\n",
       "mpl.figure.prototype.handle_close = function(fig, msg) {\n",
       "    var width = fig.canvas.width/mpl.ratio\n",
       "    fig.root.unbind('remove')\n",
       "\n",
       "    // Update the output cell to use the data from the current canvas.\n",
       "    fig.push_to_output();\n",
       "    var dataURL = fig.canvas.toDataURL();\n",
       "    // Re-enable the keyboard manager in IPython - without this line, in FF,\n",
       "    // the notebook keyboard shortcuts fail.\n",
       "    IPython.keyboard_manager.enable()\n",
       "    $(fig.parent_element).html('<img src=\"' + dataURL + '\" width=\"' + width + '\">');\n",
       "    fig.close_ws(fig, msg);\n",
       "}\n",
       "\n",
       "mpl.figure.prototype.close_ws = function(fig, msg){\n",
       "    fig.send_message('closing', msg);\n",
       "    // fig.ws.close()\n",
       "}\n",
       "\n",
       "mpl.figure.prototype.push_to_output = function(remove_interactive) {\n",
       "    // Turn the data on the canvas into data in the output cell.\n",
       "    var width = this.canvas.width/mpl.ratio\n",
       "    var dataURL = this.canvas.toDataURL();\n",
       "    this.cell_info[1]['text/html'] = '<img src=\"' + dataURL + '\" width=\"' + width + '\">';\n",
       "}\n",
       "\n",
       "mpl.figure.prototype.updated_canvas_event = function() {\n",
       "    // Tell IPython that the notebook contents must change.\n",
       "    IPython.notebook.set_dirty(true);\n",
       "    this.send_message(\"ack\", {});\n",
       "    var fig = this;\n",
       "    // Wait a second, then push the new image to the DOM so\n",
       "    // that it is saved nicely (might be nice to debounce this).\n",
       "    setTimeout(function () { fig.push_to_output() }, 1000);\n",
       "}\n",
       "\n",
       "mpl.figure.prototype._init_toolbar = function() {\n",
       "    var fig = this;\n",
       "\n",
       "    var nav_element = $('<div/>')\n",
       "    nav_element.attr('style', 'width: 100%');\n",
       "    this.root.append(nav_element);\n",
       "\n",
       "    // Define a callback function for later on.\n",
       "    function toolbar_event(event) {\n",
       "        return fig.toolbar_button_onclick(event['data']);\n",
       "    }\n",
       "    function toolbar_mouse_event(event) {\n",
       "        return fig.toolbar_button_onmouseover(event['data']);\n",
       "    }\n",
       "\n",
       "    for(var toolbar_ind in mpl.toolbar_items){\n",
       "        var name = mpl.toolbar_items[toolbar_ind][0];\n",
       "        var tooltip = mpl.toolbar_items[toolbar_ind][1];\n",
       "        var image = mpl.toolbar_items[toolbar_ind][2];\n",
       "        var method_name = mpl.toolbar_items[toolbar_ind][3];\n",
       "\n",
       "        if (!name) { continue; };\n",
       "\n",
       "        var button = $('<button class=\"btn btn-default\" href=\"#\" title=\"' + name + '\"><i class=\"fa ' + image + ' fa-lg\"></i></button>');\n",
       "        button.click(method_name, toolbar_event);\n",
       "        button.mouseover(tooltip, toolbar_mouse_event);\n",
       "        nav_element.append(button);\n",
       "    }\n",
       "\n",
       "    // Add the status bar.\n",
       "    var status_bar = $('<span class=\"mpl-message\" style=\"text-align:right; float: right;\"/>');\n",
       "    nav_element.append(status_bar);\n",
       "    this.message = status_bar[0];\n",
       "\n",
       "    // Add the close button to the window.\n",
       "    var buttongrp = $('<div class=\"btn-group inline pull-right\"></div>');\n",
       "    var button = $('<button class=\"btn btn-mini btn-primary\" href=\"#\" title=\"Stop Interaction\"><i class=\"fa fa-power-off icon-remove icon-large\"></i></button>');\n",
       "    button.click(function (evt) { fig.handle_close(fig, {}); } );\n",
       "    button.mouseover('Stop Interaction', toolbar_mouse_event);\n",
       "    buttongrp.append(button);\n",
       "    var titlebar = this.root.find($('.ui-dialog-titlebar'));\n",
       "    titlebar.prepend(buttongrp);\n",
       "}\n",
       "\n",
       "mpl.figure.prototype._root_extra_style = function(el){\n",
       "    var fig = this\n",
       "    el.on(\"remove\", function(){\n",
       "\tfig.close_ws(fig, {});\n",
       "    });\n",
       "}\n",
       "\n",
       "mpl.figure.prototype._canvas_extra_style = function(el){\n",
       "    // this is important to make the div 'focusable\n",
       "    el.attr('tabindex', 0)\n",
       "    // reach out to IPython and tell the keyboard manager to turn it's self\n",
       "    // off when our div gets focus\n",
       "\n",
       "    // location in version 3\n",
       "    if (IPython.notebook.keyboard_manager) {\n",
       "        IPython.notebook.keyboard_manager.register_events(el);\n",
       "    }\n",
       "    else {\n",
       "        // location in version 2\n",
       "        IPython.keyboard_manager.register_events(el);\n",
       "    }\n",
       "\n",
       "}\n",
       "\n",
       "mpl.figure.prototype._key_event_extra = function(event, name) {\n",
       "    var manager = IPython.notebook.keyboard_manager;\n",
       "    if (!manager)\n",
       "        manager = IPython.keyboard_manager;\n",
       "\n",
       "    // Check for shift+enter\n",
       "    if (event.shiftKey && event.which == 13) {\n",
       "        this.canvas_div.blur();\n",
       "        // select the cell after this one\n",
       "        var index = IPython.notebook.find_cell_index(this.cell_info[0]);\n",
       "        IPython.notebook.select(index + 1);\n",
       "    }\n",
       "}\n",
       "\n",
       "mpl.figure.prototype.handle_save = function(fig, msg) {\n",
       "    fig.ondownload(fig, null);\n",
       "}\n",
       "\n",
       "\n",
       "mpl.find_output_cell = function(html_output) {\n",
       "    // Return the cell and output element which can be found *uniquely* in the notebook.\n",
       "    // Note - this is a bit hacky, but it is done because the \"notebook_saving.Notebook\"\n",
       "    // IPython event is triggered only after the cells have been serialised, which for\n",
       "    // our purposes (turning an active figure into a static one), is too late.\n",
       "    var cells = IPython.notebook.get_cells();\n",
       "    var ncells = cells.length;\n",
       "    for (var i=0; i<ncells; i++) {\n",
       "        var cell = cells[i];\n",
       "        if (cell.cell_type === 'code'){\n",
       "            for (var j=0; j<cell.output_area.outputs.length; j++) {\n",
       "                var data = cell.output_area.outputs[j];\n",
       "                if (data.data) {\n",
       "                    // IPython >= 3 moved mimebundle to data attribute of output\n",
       "                    data = data.data;\n",
       "                }\n",
       "                if (data['text/html'] == html_output) {\n",
       "                    return [cell, data, j];\n",
       "                }\n",
       "            }\n",
       "        }\n",
       "    }\n",
       "}\n",
       "\n",
       "// Register the function which deals with the matplotlib target/channel.\n",
       "// The kernel may be null if the page has been refreshed.\n",
       "if (IPython.notebook.kernel != null) {\n",
       "    IPython.notebook.kernel.comm_manager.register_target('matplotlib', mpl.mpl_figure_comm);\n",
       "}\n"
      ],
      "text/plain": [
       "<IPython.core.display.Javascript object>"
      ]
     },
     "metadata": {},
     "output_type": "display_data"
    },
    {
     "data": {
      "text/html": [
       "<img src=\"data:image/png;base64,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\" width=\"1000\">"
      ],
      "text/plain": [
       "<IPython.core.display.HTML object>"
      ]
     },
     "metadata": {},
     "output_type": "display_data"
    }
   ],
   "source": [
    "#Calculating months in which most injured\n",
    "\n",
    "df['Date Injured'] = pd.to_datetime(df['Date Injured'])\n",
    "df['Date Return'] = pd.to_datetime(df['Date Return'])\n",
    "\n",
    "month_series = df[df['Season'] == '18/19'].reset_index()['Date Injured'].dt.month_name()\n",
    "cnts = month_series.value_counts()\n",
    "\n",
    "plt.figure()\n",
    "\n",
    "init_plot((10, 10), \"#b3e5fc\")\n",
    "ax = sns.barplot(cnts.index, cnts.values, order= SEASON_ORDER, palette = sns.light_palette(\"navy\", reverse=True))\n",
    "stylize_plot(ax, \"Name\" , \"Days Injured\", \"Months in which most injuries occurred (2018/19 Season)\")"
   ]
  },
  {
   "cell_type": "code",
   "execution_count": 252,
   "metadata": {
    "collapsed": true
   },
   "outputs": [],
   "source": [
    "pl = get_player_links(TEAM_URL, '2018')\n",
    "il = get_injury_links(pl)"
   ]
  },
  {
   "cell_type": "code",
   "execution_count": 255,
   "metadata": {},
   "outputs": [
    {
     "data": {
      "text/plain": [
       "{'Alexis Sánchez': 'https://www.transfermarkt.com/alexis-sanchez/verletzungen/spieler/40433',\n",
       " 'Ander Herrera': 'https://www.transfermarkt.com/ander-herrera/verletzungen/spieler/99343',\n",
       " 'Andreas Pereira': 'https://www.transfermarkt.com/andreas-pereira/verletzungen/spieler/203394',\n",
       " 'Angel Gomes': 'https://www.transfermarkt.com/angel-gomes/verletzungen/spieler/392770',\n",
       " 'Anthony Martial': 'https://www.transfermarkt.com/anthony-martial/verletzungen/spieler/182877',\n",
       " 'Antonio Valencia': 'https://www.transfermarkt.com/antonio-valencia/verletzungen/spieler/33544',\n",
       " 'Ashley Young': 'https://www.transfermarkt.com/ashley-young/verletzungen/spieler/14086',\n",
       " 'Axel Tuanzebe': 'https://www.transfermarkt.com/axel-tuanzebe/verletzungen/spieler/342046',\n",
       " 'Cameron Borthwick-Jackson': 'https://www.transfermarkt.com/cameron-borthwick-jackson/verletzungen/spieler/258879',\n",
       " 'Chris Smalling': 'https://www.transfermarkt.com/chris-smalling/verletzungen/spieler/103427',\n",
       " 'David de Gea': 'https://www.transfermarkt.com/david-de-gea/verletzungen/spieler/59377',\n",
       " 'Diogo Dalot': 'https://www.transfermarkt.com/diogo-dalot/verletzungen/spieler/357147',\n",
       " 'Eric Bailly': 'https://www.transfermarkt.com/eric-bailly/verletzungen/spieler/286384',\n",
       " 'Fred': 'https://www.transfermarkt.com/fred/verletzungen/spieler/191614',\n",
       " 'James Garner': 'https://www.transfermarkt.com/james-garner/verletzungen/spieler/505219',\n",
       " 'James Wilson': 'https://www.transfermarkt.com/james-wilson/verletzungen/spieler/214104',\n",
       " 'Jesse Lingard': 'https://www.transfermarkt.com/jesse-lingard/verletzungen/spieler/141660',\n",
       " 'Juan Mata': 'https://www.transfermarkt.com/juan-mata/verletzungen/spieler/44068',\n",
       " 'Lee Grant': 'https://www.transfermarkt.com/lee-grant/verletzungen/spieler/13460',\n",
       " 'Luke Shaw': 'https://www.transfermarkt.com/luke-shaw/verletzungen/spieler/183288',\n",
       " 'Marcos Rojo': 'https://www.transfermarkt.com/marcos-rojo/verletzungen/spieler/93176',\n",
       " 'Marcus Rashford': 'https://www.transfermarkt.com/marcus-rashford/verletzungen/spieler/258923',\n",
       " 'Matteo Darmian': 'https://www.transfermarkt.com/matteo-darmian/verletzungen/spieler/54906',\n",
       " 'Nemanja Matic': 'https://www.transfermarkt.com/nemanja-matic/verletzungen/spieler/74683',\n",
       " 'Paul Pogba': 'https://www.transfermarkt.com/paul-pogba/verletzungen/spieler/122153',\n",
       " 'Phil Jones': 'https://www.transfermarkt.com/phil-jones/verletzungen/spieler/117996',\n",
       " 'Romelu Lukaku': 'https://www.transfermarkt.com/romelu-lukaku/verletzungen/spieler/96341',\n",
       " 'Scott McTominay': 'https://www.transfermarkt.com/scott-mctominay/verletzungen/spieler/315969',\n",
       " 'Sergio Romero': 'https://www.transfermarkt.com/sergio-romero/verletzungen/spieler/30690',\n",
       " 'Timothy Fosu-Mensah': 'https://www.transfermarkt.com/timothy-fosu-mensah/verletzungen/spieler/315131',\n",
       " 'Victor Lindelöf': 'https://www.transfermarkt.com/victor-lindelof/verletzungen/spieler/184573'}"
      ]
     },
     "execution_count": 255,
     "metadata": {},
     "output_type": "execute_result"
    }
   ],
   "source": [
    "il"
   ]
  },
  {
   "cell_type": "code",
   "execution_count": 285,
   "metadata": {},
   "outputs": [],
   "source": [
    "link = il['Phil Jones']\n",
    "\n",
    "response = requests.get(link, headers = HEADERS)\n",
    "soup = BeautifulSoup(response.text, \"html.parser\")"
   ]
  },
  {
   "cell_type": "code",
   "execution_count": 286,
   "metadata": {},
   "outputs": [],
   "source": [
    "games_links = soup.find_all('td', class_ = ['rechts hauptlink wappen_verletzung'])"
   ]
  },
  {
   "cell_type": "code",
   "execution_count": 288,
   "metadata": {},
   "outputs": [
    {
     "data": {
      "text/plain": [
       "162"
      ]
     },
     "execution_count": 288,
     "metadata": {},
     "output_type": "execute_result"
    }
   ],
   "source": [
    "str(games_links[1]).find('Manchester United')"
   ]
  },
  {
   "cell_type": "code",
   "execution_count": 291,
   "metadata": {},
   "outputs": [
    {
     "data": {
      "text/plain": [
       "<td class=\"rechts hauptlink wappen_verletzung\">5<a class=\"vereinprofil_tooltip\" href=\"/manchester-united/startseite/verein/985/saison_id/2018\" id=\"985\"><img alt=\"Manchester United\" class=\"tiny_wappen\" src=\"https://tmssl.akamaized.net//images/wappen/tiny/985.png?lm=1457975903\" title=\" \"/></a></td>"
      ]
     },
     "execution_count": 291,
     "metadata": {},
     "output_type": "execute_result"
    }
   ],
   "source": [
    "games_links[1]"
   ]
  },
  {
   "cell_type": "code",
   "execution_count": 304,
   "metadata": {
    "collapsed": true
   },
   "outputs": [],
   "source": [
    "pattern = r'\"alt=\"'\n",
    "m = re.search(pattern, str(games_links[1]))"
   ]
  },
  {
   "cell_type": "code",
   "execution_count": 305,
   "metadata": {},
   "outputs": [
    {
     "ename": "AttributeError",
     "evalue": "'NoneType' object has no attribute 'group'",
     "output_type": "error",
     "traceback": [
      "\u001b[1;31m---------------------------------------------------------------------------\u001b[0m",
      "\u001b[1;31mAttributeError\u001b[0m                            Traceback (most recent call last)",
      "\u001b[1;32m<ipython-input-305-c6ebaf1e4dd8>\u001b[0m in \u001b[0;36m<module>\u001b[1;34m()\u001b[0m\n\u001b[1;32m----> 1\u001b[1;33m \u001b[0mm\u001b[0m\u001b[1;33m.\u001b[0m\u001b[0mgroup\u001b[0m\u001b[1;33m(\u001b[0m\u001b[1;33m)\u001b[0m\u001b[1;33m\u001b[0m\u001b[0m\n\u001b[0m",
      "\u001b[1;31mAttributeError\u001b[0m: 'NoneType' object has no attribute 'group'"
     ]
    }
   ],
   "source": [
    "m.group()"
   ]
  },
  {
   "cell_type": "code",
   "execution_count": null,
   "metadata": {
    "collapsed": true
   },
   "outputs": [],
   "source": []
  },
  {
   "cell_type": "code",
   "execution_count": 289,
   "metadata": {},
   "outputs": [
    {
     "data": {
      "text/plain": [
       "'M'"
      ]
     },
     "execution_count": 289,
     "metadata": {},
     "output_type": "execute_result"
    }
   ],
   "source": [
    "str(games_links[1])[162]"
   ]
  },
  {
   "cell_type": "code",
   "execution_count": null,
   "metadata": {
    "collapsed": true
   },
   "outputs": [],
   "source": [
    "str(games_links[1]).find"
   ]
  },
  {
   "cell_type": "markdown",
   "metadata": {
    "heading_collapsed": true
   },
   "source": [
    "## MUFC Past Seasons Analysis"
   ]
  },
  {
   "cell_type": "code",
   "execution_count": 236,
   "metadata": {
    "hidden": true
   },
   "outputs": [
    {
     "name": "stderr",
     "output_type": "stream",
     "text": [
      "\r",
      "  0%|                                                                                           | 0/31 [00:00<?, ?it/s]"
     ]
    },
    {
     "name": "stdout",
     "output_type": "stream",
     "text": [
      "David de Gea\n"
     ]
    },
    {
     "name": "stderr",
     "output_type": "stream",
     "text": [
      "\r",
      "  3%|██▋                                                                                | 1/31 [00:02<01:10,  2.36s/it]"
     ]
    },
    {
     "name": "stdout",
     "output_type": "stream",
     "text": [
      "Sergio Romero\n"
     ]
    },
    {
     "name": "stderr",
     "output_type": "stream",
     "text": [
      "\r",
      "  6%|█████▎                                                                             | 2/31 [00:04<01:08,  2.35s/it]"
     ]
    },
    {
     "name": "stdout",
     "output_type": "stream",
     "text": [
      "Lee Grant\n"
     ]
    },
    {
     "name": "stderr",
     "output_type": "stream",
     "text": [
      "\r",
      " 10%|████████                                                                           | 3/31 [00:06<00:56,  2.03s/it]"
     ]
    },
    {
     "name": "stdout",
     "output_type": "stream",
     "text": [
      "Victor Lindelöf\n"
     ]
    },
    {
     "name": "stderr",
     "output_type": "stream",
     "text": [
      "\r",
      " 13%|██████████▋                                                                        | 4/31 [00:08<00:56,  2.08s/it]"
     ]
    },
    {
     "name": "stdout",
     "output_type": "stream",
     "text": [
      "Eric Bailly\n"
     ]
    },
    {
     "name": "stderr",
     "output_type": "stream",
     "text": [
      "\r",
      " 16%|█████████████▍                                                                     | 5/31 [00:09<00:50,  1.96s/it]"
     ]
    },
    {
     "name": "stdout",
     "output_type": "stream",
     "text": [
      "Phil Jones\n"
     ]
    },
    {
     "name": "stderr",
     "output_type": "stream",
     "text": [
      "\r",
      " 19%|████████████████                                                                   | 6/31 [00:12<00:50,  2.01s/it]"
     ]
    },
    {
     "name": "stdout",
     "output_type": "stream",
     "text": [
      "Chris Smalling\n"
     ]
    },
    {
     "name": "stderr",
     "output_type": "stream",
     "text": [
      "\r",
      " 23%|██████████████████▋                                                                | 7/31 [00:14<00:48,  2.04s/it]"
     ]
    },
    {
     "name": "stdout",
     "output_type": "stream",
     "text": [
      "Marcos Rojo\n"
     ]
    },
    {
     "name": "stderr",
     "output_type": "stream",
     "text": [
      "\r",
      " 26%|█████████████████████▍                                                             | 8/31 [00:16<00:47,  2.07s/it]"
     ]
    },
    {
     "name": "stdout",
     "output_type": "stream",
     "text": [
      "Axel Tuanzebe\n"
     ]
    },
    {
     "name": "stderr",
     "output_type": "stream",
     "text": [
      "\r",
      " 29%|████████████████████████                                                           | 9/31 [00:18<00:46,  2.09s/it]"
     ]
    },
    {
     "name": "stdout",
     "output_type": "stream",
     "text": [
      "Luke Shaw\n"
     ]
    },
    {
     "name": "stderr",
     "output_type": "stream",
     "text": [
      "\r",
      " 32%|██████████████████████████▍                                                       | 10/31 [00:21<00:45,  2.16s/it]"
     ]
    },
    {
     "name": "stdout",
     "output_type": "stream",
     "text": [
      "Ashley Young\n"
     ]
    },
    {
     "name": "stderr",
     "output_type": "stream",
     "text": [
      "\r",
      " 35%|█████████████████████████████                                                     | 11/31 [00:23<00:42,  2.13s/it]"
     ]
    },
    {
     "name": "stdout",
     "output_type": "stream",
     "text": [
      "Cameron Borthwick-Jackson\n"
     ]
    },
    {
     "name": "stderr",
     "output_type": "stream",
     "text": [
      "\r",
      " 39%|███████████████████████████████▋                                                  | 12/31 [00:25<00:40,  2.12s/it]"
     ]
    },
    {
     "name": "stdout",
     "output_type": "stream",
     "text": [
      "Diogo Dalot\n"
     ]
    },
    {
     "name": "stderr",
     "output_type": "stream",
     "text": [
      "\r",
      " 42%|██████████████████████████████████▍                                               | 13/31 [00:27<00:38,  2.12s/it]"
     ]
    },
    {
     "name": "stdout",
     "output_type": "stream",
     "text": [
      "Matteo Darmian\n"
     ]
    },
    {
     "name": "stderr",
     "output_type": "stream",
     "text": [
      "\r",
      " 45%|█████████████████████████████████████                                             | 14/31 [00:29<00:36,  2.12s/it]"
     ]
    },
    {
     "name": "stdout",
     "output_type": "stream",
     "text": [
      "Timothy Fosu-Mensah\n"
     ]
    },
    {
     "name": "stderr",
     "output_type": "stream",
     "text": [
      "\r",
      " 48%|███████████████████████████████████████▋                                          | 15/31 [00:31<00:34,  2.13s/it]"
     ]
    },
    {
     "name": "stdout",
     "output_type": "stream",
     "text": [
      "Antonio Valencia\n"
     ]
    },
    {
     "name": "stderr",
     "output_type": "stream",
     "text": [
      "\r",
      " 52%|██████████████████████████████████████████▎                                       | 16/31 [00:34<00:32,  2.14s/it]"
     ]
    },
    {
     "name": "stdout",
     "output_type": "stream",
     "text": [
      "Nemanja Matic\n"
     ]
    },
    {
     "name": "stderr",
     "output_type": "stream",
     "text": [
      "\r",
      " 55%|████████████████████████████████████████████▉                                     | 17/31 [00:36<00:30,  2.15s/it]"
     ]
    },
    {
     "name": "stdout",
     "output_type": "stream",
     "text": [
      "Paul Pogba\n"
     ]
    },
    {
     "name": "stderr",
     "output_type": "stream",
     "text": [
      "\r",
      " 58%|███████████████████████████████████████████████▌                                  | 18/31 [00:38<00:28,  2.16s/it]"
     ]
    },
    {
     "name": "stdout",
     "output_type": "stream",
     "text": [
      "Fred\n"
     ]
    },
    {
     "name": "stderr",
     "output_type": "stream",
     "text": [
      "\r",
      " 61%|██████████████████████████████████████████████████▎                               | 19/31 [00:40<00:25,  2.12s/it]"
     ]
    },
    {
     "name": "stdout",
     "output_type": "stream",
     "text": [
      "Ander Herrera\n"
     ]
    },
    {
     "name": "stderr",
     "output_type": "stream",
     "text": [
      "\r",
      " 65%|████████████████████████████████████████████████████▉                             | 20/31 [00:42<00:23,  2.13s/it]"
     ]
    },
    {
     "name": "stdout",
     "output_type": "stream",
     "text": [
      "Scott McTominay\n"
     ]
    },
    {
     "name": "stderr",
     "output_type": "stream",
     "text": [
      "\r",
      " 68%|███████████████████████████████████████████████████████▌                          | 21/31 [00:44<00:21,  2.12s/it]"
     ]
    },
    {
     "name": "stdout",
     "output_type": "stream",
     "text": [
      "Juan Mata\n"
     ]
    },
    {
     "name": "stderr",
     "output_type": "stream",
     "text": [
      "\r",
      " 71%|██████████████████████████████████████████████████████████▏                       | 22/31 [00:46<00:19,  2.12s/it]"
     ]
    },
    {
     "name": "stdout",
     "output_type": "stream",
     "text": [
      "Andreas Pereira\n"
     ]
    },
    {
     "name": "stderr",
     "output_type": "stream",
     "text": [
      "\r",
      " 74%|████████████████████████████████████████████████████████████▊                     | 23/31 [00:48<00:16,  2.12s/it]"
     ]
    },
    {
     "name": "stdout",
     "output_type": "stream",
     "text": [
      "Anthony Martial\n"
     ]
    },
    {
     "name": "stderr",
     "output_type": "stream",
     "text": [
      "\r",
      " 77%|███████████████████████████████████████████████████████████████▍                  | 24/31 [00:50<00:14,  2.12s/it]"
     ]
    },
    {
     "name": "stdout",
     "output_type": "stream",
     "text": [
      "Alexis Sánchez\n"
     ]
    },
    {
     "name": "stderr",
     "output_type": "stream",
     "text": [
      "\r",
      " 81%|██████████████████████████████████████████████████████████████████▏               | 25/31 [00:53<00:12,  2.14s/it]"
     ]
    },
    {
     "name": "stdout",
     "output_type": "stream",
     "text": [
      "Jesse Lingard\n"
     ]
    },
    {
     "name": "stderr",
     "output_type": "stream",
     "text": [
      "\r",
      " 84%|████████████████████████████████████████████████████████████████████▊             | 26/31 [00:55<00:10,  2.14s/it]"
     ]
    },
    {
     "name": "stdout",
     "output_type": "stream",
     "text": [
      "Romelu Lukaku\n"
     ]
    },
    {
     "name": "stderr",
     "output_type": "stream",
     "text": [
      "\r",
      " 87%|███████████████████████████████████████████████████████████████████████▍          | 27/31 [00:57<00:08,  2.14s/it]"
     ]
    },
    {
     "name": "stdout",
     "output_type": "stream",
     "text": [
      "Marcus Rashford\n"
     ]
    },
    {
     "name": "stderr",
     "output_type": "stream",
     "text": [
      "\r",
      " 90%|██████████████████████████████████████████████████████████████████████████        | 28/31 [00:59<00:06,  2.14s/it]"
     ]
    },
    {
     "name": "stdout",
     "output_type": "stream",
     "text": [
      "James Wilson\n"
     ]
    },
    {
     "name": "stderr",
     "output_type": "stream",
     "text": [
      "\r",
      " 94%|████████████████████████████████████████████████████████████████████████████▋     | 29/31 [01:02<00:04,  2.15s/it]"
     ]
    },
    {
     "name": "stdout",
     "output_type": "stream",
     "text": [
      "James Garner\n"
     ]
    },
    {
     "name": "stderr",
     "output_type": "stream",
     "text": [
      "\r",
      " 97%|███████████████████████████████████████████████████████████████████████████████▎  | 30/31 [01:04<00:02,  2.16s/it]"
     ]
    },
    {
     "name": "stdout",
     "output_type": "stream",
     "text": [
      "Angel Gomes\n"
     ]
    },
    {
     "name": "stderr",
     "output_type": "stream",
     "text": [
      "100%|██████████████████████████████████████████████████████████████████████████████████| 31/31 [01:06<00:00,  2.15s/it]\n",
      "  0%|                                                                                           | 0/35 [00:00<?, ?it/s]"
     ]
    },
    {
     "name": "stdout",
     "output_type": "stream",
     "text": [
      "David de Gea\n"
     ]
    },
    {
     "name": "stderr",
     "output_type": "stream",
     "text": [
      "\r",
      "  3%|██▎                                                                                | 1/35 [00:02<01:12,  2.14s/it]"
     ]
    },
    {
     "name": "stdout",
     "output_type": "stream",
     "text": [
      "Sergio Romero\n"
     ]
    },
    {
     "name": "stderr",
     "output_type": "stream",
     "text": [
      "\r",
      "  6%|████▋                                                                              | 2/35 [00:04<01:15,  2.27s/it]"
     ]
    },
    {
     "name": "stdout",
     "output_type": "stream",
     "text": [
      "Sam Johnstone\n"
     ]
    },
    {
     "name": "stderr",
     "output_type": "stream",
     "text": [
      "\r",
      "  9%|███████                                                                            | 3/35 [00:06<01:12,  2.28s/it]"
     ]
    },
    {
     "name": "stdout",
     "output_type": "stream",
     "text": [
      "Joel Pereira\n"
     ]
    },
    {
     "name": "stderr",
     "output_type": "stream",
     "text": [
      "\r",
      " 11%|█████████▍                                                                         | 4/35 [00:08<01:09,  2.23s/it]"
     ]
    },
    {
     "name": "stdout",
     "output_type": "stream",
     "text": [
      "Eric Bailly\n"
     ]
    },
    {
     "name": "stderr",
     "output_type": "stream",
     "text": [
      "\r",
      " 14%|███████████▊                                                                       | 5/35 [00:11<01:08,  2.30s/it]"
     ]
    },
    {
     "name": "stdout",
     "output_type": "stream",
     "text": [
      "Victor Lindelöf\n"
     ]
    },
    {
     "name": "stderr",
     "output_type": "stream",
     "text": [
      "\r",
      " 17%|██████████████▏                                                                    | 6/35 [00:13<01:07,  2.31s/it]"
     ]
    },
    {
     "name": "stdout",
     "output_type": "stream",
     "text": [
      "Daley Blind\n"
     ]
    },
    {
     "name": "stderr",
     "output_type": "stream",
     "text": [
      "\r",
      " 20%|████████████████▌                                                                  | 7/35 [00:16<01:06,  2.37s/it]"
     ]
    },
    {
     "name": "stdout",
     "output_type": "stream",
     "text": [
      "Marcos Rojo\n"
     ]
    },
    {
     "name": "stderr",
     "output_type": "stream",
     "text": [
      "\r",
      " 23%|██████████████████▉                                                                | 8/35 [00:18<01:03,  2.37s/it]"
     ]
    },
    {
     "name": "stdout",
     "output_type": "stream",
     "text": [
      "Chris Smalling\n"
     ]
    },
    {
     "name": "stderr",
     "output_type": "stream",
     "text": [
      "\r",
      " 26%|█████████████████████▎                                                             | 9/35 [00:20<00:59,  2.29s/it]"
     ]
    },
    {
     "name": "stdout",
     "output_type": "stream",
     "text": [
      "Phil Jones\n"
     ]
    },
    {
     "name": "stderr",
     "output_type": "stream",
     "text": [
      "\r",
      " 29%|███████████████████████▍                                                          | 10/35 [00:23<00:57,  2.31s/it]"
     ]
    },
    {
     "name": "stdout",
     "output_type": "stream",
     "text": [
      "Axel Tuanzebe\n"
     ]
    },
    {
     "name": "stderr",
     "output_type": "stream",
     "text": [
      "\r",
      " 31%|█████████████████████████▊                                                        | 11/35 [00:25<00:54,  2.29s/it]"
     ]
    },
    {
     "name": "stdout",
     "output_type": "stream",
     "text": [
      "Luke Shaw\n"
     ]
    },
    {
     "name": "stderr",
     "output_type": "stream",
     "text": [
      "\r",
      " 34%|████████████████████████████                                                      | 12/35 [00:27<00:52,  2.28s/it]"
     ]
    },
    {
     "name": "stdout",
     "output_type": "stream",
     "text": [
      "Ashley Young\n"
     ]
    },
    {
     "name": "stderr",
     "output_type": "stream",
     "text": [
      "\r",
      " 37%|██████████████████████████████▍                                                   | 13/35 [00:29<00:49,  2.27s/it]"
     ]
    },
    {
     "name": "stdout",
     "output_type": "stream",
     "text": [
      "Cameron Borthwick-Jackson\n"
     ]
    },
    {
     "name": "stderr",
     "output_type": "stream",
     "text": [
      "\r",
      " 40%|████████████████████████████████▊                                                 | 14/35 [00:31<00:47,  2.28s/it]"
     ]
    },
    {
     "name": "stdout",
     "output_type": "stream",
     "text": [
      "Matteo Darmian\n"
     ]
    },
    {
     "name": "stderr",
     "output_type": "stream",
     "text": [
      "\r",
      " 43%|███████████████████████████████████▏                                              | 15/35 [00:34<00:45,  2.28s/it]"
     ]
    },
    {
     "name": "stdout",
     "output_type": "stream",
     "text": [
      "Antonio Valencia\n"
     ]
    },
    {
     "name": "stderr",
     "output_type": "stream",
     "text": [
      "\r",
      " 46%|█████████████████████████████████████▍                                            | 16/35 [00:36<00:43,  2.28s/it]"
     ]
    },
    {
     "name": "stdout",
     "output_type": "stream",
     "text": [
      "Timothy Fosu-Mensah\n"
     ]
    },
    {
     "name": "stderr",
     "output_type": "stream",
     "text": [
      "\r",
      " 49%|███████████████████████████████████████▊                                          | 17/35 [00:37<00:40,  2.23s/it]"
     ]
    },
    {
     "name": "stdout",
     "output_type": "stream",
     "text": [
      "Nemanja Matic\n"
     ]
    },
    {
     "name": "stderr",
     "output_type": "stream",
     "text": [
      "\r",
      " 51%|██████████████████████████████████████████▏                                       | 18/35 [00:40<00:37,  2.23s/it]"
     ]
    },
    {
     "name": "stdout",
     "output_type": "stream",
     "text": [
      "Michael Carrick\n"
     ]
    },
    {
     "name": "stderr",
     "output_type": "stream",
     "text": [
      "\r",
      " 54%|████████████████████████████████████████████▌                                     | 19/35 [00:42<00:35,  2.23s/it]"
     ]
    },
    {
     "name": "stdout",
     "output_type": "stream",
     "text": [
      "Paul Pogba\n"
     ]
    },
    {
     "name": "stderr",
     "output_type": "stream",
     "text": [
      "\r",
      " 57%|██████████████████████████████████████████████▊                                   | 20/35 [00:44<00:33,  2.23s/it]"
     ]
    },
    {
     "name": "stdout",
     "output_type": "stream",
     "text": [
      "Ander Herrera\n"
     ]
    },
    {
     "name": "stderr",
     "output_type": "stream",
     "text": [
      "\r",
      " 60%|█████████████████████████████████████████████████▏                                | 21/35 [00:46<00:31,  2.22s/it]"
     ]
    },
    {
     "name": "stdout",
     "output_type": "stream",
     "text": [
      "Marouane Fellaini\n"
     ]
    },
    {
     "name": "stderr",
     "output_type": "stream",
     "text": [
      "\r",
      " 63%|███████████████████████████████████████████████████▌                              | 22/35 [00:49<00:29,  2.24s/it]"
     ]
    },
    {
     "name": "stdout",
     "output_type": "stream",
     "text": [
      "Ethan Hamilton\n"
     ]
    },
    {
     "name": "stderr",
     "output_type": "stream",
     "text": [
      "\r",
      " 66%|█████████████████████████████████████████████████████▉                            | 23/35 [00:51<00:26,  2.23s/it]"
     ]
    },
    {
     "name": "stdout",
     "output_type": "stream",
     "text": [
      "Scott McTominay\n"
     ]
    },
    {
     "name": "stderr",
     "output_type": "stream",
     "text": [
      "\r",
      " 69%|████████████████████████████████████████████████████████▏                         | 24/35 [00:53<00:24,  2.24s/it]"
     ]
    },
    {
     "name": "stdout",
     "output_type": "stream",
     "text": [
      "Henrikh Mkhitaryan\n"
     ]
    },
    {
     "name": "stderr",
     "output_type": "stream",
     "text": [
      "\r",
      " 71%|██████████████████████████████████████████████████████████▌                       | 25/35 [00:55<00:22,  2.24s/it]"
     ]
    },
    {
     "name": "stdout",
     "output_type": "stream",
     "text": [
      "Juan Mata\n"
     ]
    },
    {
     "name": "stderr",
     "output_type": "stream",
     "text": [
      "\r",
      " 74%|████████████████████████████████████████████████████████████▉                     | 26/35 [00:57<00:19,  2.20s/it]"
     ]
    },
    {
     "name": "stdout",
     "output_type": "stream",
     "text": [
      "Angel Gomes\n"
     ]
    },
    {
     "name": "stderr",
     "output_type": "stream",
     "text": [
      "\r",
      " 77%|███████████████████████████████████████████████████████████████▎                  | 27/35 [00:58<00:17,  2.17s/it]"
     ]
    },
    {
     "name": "stdout",
     "output_type": "stream",
     "text": [
      "Alexis Sánchez\n"
     ]
    },
    {
     "name": "stderr",
     "output_type": "stream",
     "text": [
      "\r",
      " 80%|█████████████████████████████████████████████████████████████████▌                | 28/35 [01:00<00:15,  2.18s/it]"
     ]
    },
    {
     "name": "stdout",
     "output_type": "stream",
     "text": [
      "Anthony Martial\n"
     ]
    },
    {
     "name": "stderr",
     "output_type": "stream",
     "text": [
      "\r",
      " 83%|███████████████████████████████████████████████████████████████████▉              | 29/35 [01:03<00:13,  2.18s/it]"
     ]
    },
    {
     "name": "stdout",
     "output_type": "stream",
     "text": [
      "Jesse Lingard\n"
     ]
    },
    {
     "name": "stderr",
     "output_type": "stream",
     "text": [
      "\r",
      " 86%|██████████████████████████████████████████████████████████████████████▎           | 30/35 [01:05<00:10,  2.18s/it]"
     ]
    },
    {
     "name": "stdout",
     "output_type": "stream",
     "text": [
      "Romelu Lukaku\n"
     ]
    },
    {
     "name": "stderr",
     "output_type": "stream",
     "text": [
      "\r",
      " 89%|████████████████████████████████████████████████████████████████████████▋         | 31/35 [01:07<00:08,  2.18s/it]"
     ]
    },
    {
     "name": "stdout",
     "output_type": "stream",
     "text": [
      "Marcus Rashford\n"
     ]
    },
    {
     "name": "stderr",
     "output_type": "stream",
     "text": [
      "\r",
      " 91%|██████████████████████████████████████████████████████████████████████████▉       | 32/35 [01:09<00:06,  2.18s/it]"
     ]
    },
    {
     "name": "stdout",
     "output_type": "stream",
     "text": [
      "Wayne Rooney\n"
     ]
    },
    {
     "name": "stderr",
     "output_type": "stream",
     "text": [
      "\r",
      " 94%|█████████████████████████████████████████████████████████████████████████████▎    | 33/35 [01:11<00:04,  2.16s/it]"
     ]
    },
    {
     "name": "stdout",
     "output_type": "stream",
     "text": [
      "Zlatan Ibrahimovic\n"
     ]
    },
    {
     "name": "stderr",
     "output_type": "stream",
     "text": [
      "\r",
      " 97%|███████████████████████████████████████████████████████████████████████████████▋  | 34/35 [01:13<00:02,  2.17s/it]"
     ]
    },
    {
     "name": "stdout",
     "output_type": "stream",
     "text": [
      "James Wilson\n"
     ]
    },
    {
     "name": "stderr",
     "output_type": "stream",
     "text": [
      "100%|██████████████████████████████████████████████████████████████████████████████████| 35/35 [01:15<00:00,  2.16s/it]\n",
      "  0%|                                                                                           | 0/42 [00:00<?, ?it/s]"
     ]
    },
    {
     "name": "stdout",
     "output_type": "stream",
     "text": [
      "David de Gea\n"
     ]
    },
    {
     "name": "stderr",
     "output_type": "stream",
     "text": [
      "\r",
      "  2%|█▉                                                                                 | 1/42 [00:02<01:30,  2.21s/it]"
     ]
    },
    {
     "name": "stdout",
     "output_type": "stream",
     "text": [
      "Sergio Romero\n"
     ]
    },
    {
     "name": "stderr",
     "output_type": "stream",
     "text": [
      "\r",
      "  5%|███▉                                                                               | 2/42 [00:04<01:34,  2.36s/it]"
     ]
    },
    {
     "name": "stdout",
     "output_type": "stream",
     "text": [
      "Sam Johnstone\n"
     ]
    },
    {
     "name": "stderr",
     "output_type": "stream",
     "text": [
      "\r",
      "  7%|█████▉                                                                             | 3/42 [00:06<01:27,  2.25s/it]"
     ]
    },
    {
     "name": "stdout",
     "output_type": "stream",
     "text": [
      "Joel Pereira\n"
     ]
    },
    {
     "name": "stderr",
     "output_type": "stream",
     "text": [
      "\r",
      " 10%|███████▉                                                                           | 4/42 [00:08<01:23,  2.19s/it]"
     ]
    },
    {
     "name": "stdout",
     "output_type": "stream",
     "text": [
      "Dean Henderson\n"
     ]
    },
    {
     "name": "stderr",
     "output_type": "stream",
     "text": [
      "\r",
      " 12%|█████████▉                                                                         | 5/42 [00:10<01:19,  2.16s/it]"
     ]
    },
    {
     "name": "stdout",
     "output_type": "stream",
     "text": [
      "Kieran O'Hara\n"
     ]
    },
    {
     "name": "stderr",
     "output_type": "stream",
     "text": [
      "\r",
      " 14%|███████████▊                                                                       | 6/42 [00:12<01:16,  2.11s/it]"
     ]
    },
    {
     "name": "stdout",
     "output_type": "stream",
     "text": [
      "Chris Smalling\n"
     ]
    },
    {
     "name": "stderr",
     "output_type": "stream",
     "text": [
      "\r",
      " 17%|█████████████▊                                                                     | 7/42 [00:14<01:13,  2.10s/it]"
     ]
    },
    {
     "name": "stdout",
     "output_type": "stream",
     "text": [
      "Daley Blind\n"
     ]
    },
    {
     "name": "stderr",
     "output_type": "stream",
     "text": [
      "\r",
      " 19%|███████████████▊                                                                   | 8/42 [00:16<01:11,  2.09s/it]"
     ]
    },
    {
     "name": "stdout",
     "output_type": "stream",
     "text": [
      "Marcos Rojo\n"
     ]
    },
    {
     "name": "stderr",
     "output_type": "stream",
     "text": [
      "\r",
      " 21%|█████████████████▊                                                                 | 9/42 [00:19<01:09,  2.11s/it]"
     ]
    },
    {
     "name": "stdout",
     "output_type": "stream",
     "text": [
      "Phil Jones\n"
     ]
    },
    {
     "name": "stderr",
     "output_type": "stream",
     "text": [
      "\r",
      " 24%|███████████████████▌                                                              | 10/42 [00:21<01:08,  2.15s/it]"
     ]
    },
    {
     "name": "stdout",
     "output_type": "stream",
     "text": [
      "Eric Bailly\n"
     ]
    },
    {
     "name": "stderr",
     "output_type": "stream",
     "text": [
      "\r",
      " 26%|█████████████████████▍                                                            | 11/42 [00:23<01:06,  2.16s/it]"
     ]
    },
    {
     "name": "stdout",
     "output_type": "stream",
     "text": [
      "Axel Tuanzebe\n"
     ]
    },
    {
     "name": "stderr",
     "output_type": "stream",
     "text": [
      "\r",
      " 29%|███████████████████████▍                                                          | 12/42 [00:25<01:04,  2.15s/it]"
     ]
    },
    {
     "name": "stdout",
     "output_type": "stream",
     "text": [
      "Luke Shaw\n"
     ]
    },
    {
     "name": "stderr",
     "output_type": "stream",
     "text": [
      "\r",
      " 31%|█████████████████████████▍                                                        | 13/42 [00:28<01:02,  2.16s/it]"
     ]
    },
    {
     "name": "stdout",
     "output_type": "stream",
     "text": [
      "Ashley Young\n"
     ]
    },
    {
     "name": "stderr",
     "output_type": "stream",
     "text": [
      "\r",
      " 33%|███████████████████████████▎                                                      | 14/42 [00:30<01:00,  2.15s/it]"
     ]
    },
    {
     "name": "stdout",
     "output_type": "stream",
     "text": [
      "Cameron Borthwick-Jackson\n"
     ]
    },
    {
     "name": "stderr",
     "output_type": "stream",
     "text": [
      "\r",
      " 36%|█████████████████████████████▎                                                    | 15/42 [00:32<00:58,  2.15s/it]"
     ]
    },
    {
     "name": "stdout",
     "output_type": "stream",
     "text": [
      "Demetri Mitchell\n"
     ]
    },
    {
     "name": "stderr",
     "output_type": "stream",
     "text": [
      "\r",
      " 38%|███████████████████████████████▏                                                  | 16/42 [00:34<00:56,  2.15s/it]"
     ]
    },
    {
     "name": "stdout",
     "output_type": "stream",
     "text": [
      "Matteo Darmian\n"
     ]
    },
    {
     "name": "stderr",
     "output_type": "stream",
     "text": [
      "\r",
      " 40%|█████████████████████████████████▏                                                | 17/42 [00:36<00:53,  2.16s/it]"
     ]
    },
    {
     "name": "stdout",
     "output_type": "stream",
     "text": [
      "Antonio Valencia\n"
     ]
    },
    {
     "name": "stderr",
     "output_type": "stream",
     "text": [
      "\r",
      " 43%|███████████████████████████████████▏                                              | 18/42 [00:38<00:51,  2.16s/it]"
     ]
    },
    {
     "name": "stdout",
     "output_type": "stream",
     "text": [
      "Guillermo Varela\n"
     ]
    },
    {
     "name": "stderr",
     "output_type": "stream",
     "text": [
      "\r",
      " 45%|█████████████████████████████████████                                             | 19/42 [00:40<00:49,  2.16s/it]"
     ]
    },
    {
     "name": "stdout",
     "output_type": "stream",
     "text": [
      "Timothy Fosu-Mensah\n"
     ]
    },
    {
     "name": "stderr",
     "output_type": "stream",
     "text": [
      "\r",
      " 48%|███████████████████████████████████████                                           | 20/42 [00:43<00:47,  2.15s/it]"
     ]
    },
    {
     "name": "stdout",
     "output_type": "stream",
     "text": [
      "Morgan Schneiderlin\n"
     ]
    },
    {
     "name": "stderr",
     "output_type": "stream",
     "text": [
      "\r",
      " 50%|█████████████████████████████████████████                                         | 21/42 [00:45<00:45,  2.15s/it]"
     ]
    },
    {
     "name": "stdout",
     "output_type": "stream",
     "text": [
      "Michael Carrick\n"
     ]
    },
    {
     "name": "stderr",
     "output_type": "stream",
     "text": [
      "\r",
      " 52%|██████████████████████████████████████████▉                                       | 22/42 [00:47<00:42,  2.14s/it]"
     ]
    },
    {
     "name": "stdout",
     "output_type": "stream",
     "text": [
      "Paul Pogba\n"
     ]
    },
    {
     "name": "stderr",
     "output_type": "stream",
     "text": [
      "\r",
      " 55%|████████████████████████████████████████████▉                                     | 23/42 [00:48<00:40,  2.11s/it]"
     ]
    },
    {
     "name": "stdout",
     "output_type": "stream",
     "text": [
      "Ander Herrera\n"
     ]
    },
    {
     "name": "stderr",
     "output_type": "stream",
     "text": [
      "\r",
      " 57%|██████████████████████████████████████████████▊                                   | 24/42 [00:50<00:37,  2.11s/it]"
     ]
    },
    {
     "name": "stdout",
     "output_type": "stream",
     "text": [
      "Marouane Fellaini\n"
     ]
    },
    {
     "name": "stderr",
     "output_type": "stream",
     "text": [
      "\r",
      " 60%|████████████████████████████████████████████████▊                                 | 25/42 [00:52<00:36,  2.12s/it]"
     ]
    },
    {
     "name": "stdout",
     "output_type": "stream",
     "text": [
      "Bastian Schweinsteiger\n"
     ]
    },
    {
     "name": "stderr",
     "output_type": "stream",
     "text": [
      "\r",
      " 62%|██████████████████████████████████████████████████▊                               | 26/42 [00:55<00:34,  2.14s/it]"
     ]
    },
    {
     "name": "stdout",
     "output_type": "stream",
     "text": [
      "Matty Willock\n"
     ]
    },
    {
     "name": "stderr",
     "output_type": "stream",
     "text": [
      "\r",
      " 64%|████████████████████████████████████████████████████▋                             | 27/42 [00:58<00:32,  2.15s/it]"
     ]
    },
    {
     "name": "stdout",
     "output_type": "stream",
     "text": [
      "Scott McTominay\n"
     ]
    },
    {
     "name": "stderr",
     "output_type": "stream",
     "text": [
      "\r",
      " 67%|██████████████████████████████████████████████████████▋                           | 28/42 [01:00<00:30,  2.15s/it]"
     ]
    },
    {
     "name": "stdout",
     "output_type": "stream",
     "text": [
      "Juan Mata\n"
     ]
    },
    {
     "name": "stderr",
     "output_type": "stream",
     "text": [
      "\r",
      " 69%|████████████████████████████████████████████████████████▌                         | 29/42 [01:02<00:27,  2.15s/it]"
     ]
    },
    {
     "name": "stdout",
     "output_type": "stream",
     "text": [
      "Henrikh Mkhitaryan\n"
     ]
    },
    {
     "name": "stderr",
     "output_type": "stream",
     "text": [
      "\r",
      " 71%|██████████████████████████████████████████████████████████▌                       | 30/42 [01:04<00:25,  2.16s/it]"
     ]
    },
    {
     "name": "stdout",
     "output_type": "stream",
     "text": [
      "Andreas Pereira\n"
     ]
    },
    {
     "name": "stderr",
     "output_type": "stream",
     "text": [
      "\r",
      " 74%|████████████████████████████████████████████████████████████▌                     | 31/42 [01:06<00:23,  2.14s/it]"
     ]
    },
    {
     "name": "stdout",
     "output_type": "stream",
     "text": [
      "Josh Harrop\n"
     ]
    },
    {
     "name": "stderr",
     "output_type": "stream",
     "text": [
      "\r",
      " 76%|██████████████████████████████████████████████████████████████▍                   | 32/42 [01:08<00:21,  2.13s/it]"
     ]
    },
    {
     "name": "stdout",
     "output_type": "stream",
     "text": [
      "Angel Gomes\n"
     ]
    },
    {
     "name": "stderr",
     "output_type": "stream",
     "text": [
      "\r",
      " 79%|████████████████████████████████████████████████████████████████▍                 | 33/42 [01:09<00:18,  2.11s/it]"
     ]
    },
    {
     "name": "stdout",
     "output_type": "stream",
     "text": [
      "Anthony Martial\n"
     ]
    },
    {
     "name": "stderr",
     "output_type": "stream",
     "text": [
      "\r",
      " 81%|██████████████████████████████████████████████████████████████████▍               | 34/42 [01:11<00:16,  2.11s/it]"
     ]
    },
    {
     "name": "stdout",
     "output_type": "stream",
     "text": [
      "Adnan Januzaj\n"
     ]
    },
    {
     "name": "stderr",
     "output_type": "stream",
     "text": [
      "\r",
      " 83%|████████████████████████████████████████████████████████████████████▎             | 35/42 [01:13<00:14,  2.11s/it]"
     ]
    },
    {
     "name": "stdout",
     "output_type": "stream",
     "text": [
      "Jesse Lingard\n"
     ]
    },
    {
     "name": "stderr",
     "output_type": "stream",
     "text": [
      "\r",
      " 86%|██████████████████████████████████████████████████████████████████████▎           | 36/42 [01:15<00:12,  2.10s/it]"
     ]
    },
    {
     "name": "stdout",
     "output_type": "stream",
     "text": [
      "Zak Dearnley\n"
     ]
    },
    {
     "name": "stderr",
     "output_type": "stream",
     "text": [
      "\r",
      " 88%|████████████████████████████████████████████████████████████████████████▏         | 37/42 [01:17<00:10,  2.10s/it]"
     ]
    },
    {
     "name": "stdout",
     "output_type": "stream",
     "text": [
      "Wayne Rooney\n"
     ]
    },
    {
     "name": "stderr",
     "output_type": "stream",
     "text": [
      "\r",
      " 90%|██████████████████████████████████████████████████████████████████████████▏       | 38/42 [01:19<00:08,  2.08s/it]"
     ]
    },
    {
     "name": "stdout",
     "output_type": "stream",
     "text": [
      "Memphis Depay\n"
     ]
    },
    {
     "name": "stderr",
     "output_type": "stream",
     "text": [
      "\r",
      " 93%|████████████████████████████████████████████████████████████████████████████▏     | 39/42 [01:21<00:06,  2.09s/it]"
     ]
    },
    {
     "name": "stdout",
     "output_type": "stream",
     "text": [
      "Zlatan Ibrahimovic\n"
     ]
    },
    {
     "name": "stderr",
     "output_type": "stream",
     "text": [
      "\r",
      " 95%|██████████████████████████████████████████████████████████████████████████████    | 40/42 [01:23<00:04,  2.09s/it]"
     ]
    },
    {
     "name": "stdout",
     "output_type": "stream",
     "text": [
      "Marcus Rashford\n"
     ]
    },
    {
     "name": "stderr",
     "output_type": "stream",
     "text": [
      "\r",
      " 98%|████████████████████████████████████████████████████████████████████████████████  | 41/42 [01:26<00:02,  2.11s/it]"
     ]
    },
    {
     "name": "stdout",
     "output_type": "stream",
     "text": [
      "James Wilson\n"
     ]
    },
    {
     "name": "stderr",
     "output_type": "stream",
     "text": [
      "100%|██████████████████████████████████████████████████████████████████████████████████| 42/42 [01:28<00:00,  2.11s/it]\n",
      "  0%|                                                                                           | 0/44 [00:00<?, ?it/s]"
     ]
    },
    {
     "name": "stdout",
     "output_type": "stream",
     "text": [
      "David de Gea\n"
     ]
    },
    {
     "name": "stderr",
     "output_type": "stream",
     "text": [
      "\r",
      "  2%|█▉                                                                                 | 1/44 [00:02<01:33,  2.17s/it]"
     ]
    },
    {
     "name": "stdout",
     "output_type": "stream",
     "text": [
      "Sergio Romero\n"
     ]
    },
    {
     "name": "stderr",
     "output_type": "stream",
     "text": [
      "\r",
      "  5%|███▊                                                                               | 2/44 [00:04<01:29,  2.14s/it]"
     ]
    },
    {
     "name": "stdout",
     "output_type": "stream",
     "text": [
      "Víctor Valdés\n"
     ]
    },
    {
     "name": "stderr",
     "output_type": "stream",
     "text": [
      "\r",
      "  7%|█████▋                                                                             | 3/44 [00:06<01:26,  2.12s/it]"
     ]
    },
    {
     "name": "stdout",
     "output_type": "stream",
     "text": [
      "Sam Johnstone\n"
     ]
    },
    {
     "name": "stderr",
     "output_type": "stream",
     "text": [
      "\r",
      "  9%|███████▌                                                                           | 4/44 [00:08<01:23,  2.09s/it]"
     ]
    },
    {
     "name": "stdout",
     "output_type": "stream",
     "text": [
      "Joel Pereira\n"
     ]
    },
    {
     "name": "stderr",
     "output_type": "stream",
     "text": [
      "\r",
      " 11%|█████████▍                                                                         | 5/44 [00:10<01:21,  2.09s/it]"
     ]
    },
    {
     "name": "stdout",
     "output_type": "stream",
     "text": [
      "Dean Henderson\n"
     ]
    },
    {
     "name": "stderr",
     "output_type": "stream",
     "text": [
      "\r",
      " 14%|███████████▎                                                                       | 6/44 [00:12<01:18,  2.06s/it]"
     ]
    },
    {
     "name": "stdout",
     "output_type": "stream",
     "text": [
      "Marcos Rojo\n"
     ]
    },
    {
     "name": "stderr",
     "output_type": "stream",
     "text": [
      "\r",
      " 16%|█████████████▏                                                                     | 7/44 [00:14<01:18,  2.12s/it]"
     ]
    },
    {
     "name": "stdout",
     "output_type": "stream",
     "text": [
      "Daley Blind\n"
     ]
    },
    {
     "name": "stderr",
     "output_type": "stream",
     "text": [
      "\r",
      " 18%|███████████████                                                                    | 8/44 [00:16<01:16,  2.12s/it]"
     ]
    },
    {
     "name": "stdout",
     "output_type": "stream",
     "text": [
      "Phil Jones\n"
     ]
    },
    {
     "name": "stderr",
     "output_type": "stream",
     "text": [
      "\r",
      " 20%|████████████████▉                                                                  | 9/44 [00:19<01:15,  2.16s/it]"
     ]
    },
    {
     "name": "stdout",
     "output_type": "stream",
     "text": [
      "Chris Smalling\n"
     ]
    },
    {
     "name": "stderr",
     "output_type": "stream",
     "text": [
      "\r",
      " 23%|██████████████████▋                                                               | 10/44 [00:21<01:13,  2.16s/it]"
     ]
    },
    {
     "name": "stdout",
     "output_type": "stream",
     "text": [
      "Ro-Shaun Williams\n"
     ]
    },
    {
     "name": "stderr",
     "output_type": "stream",
     "text": [
      "\r",
      " 25%|████████████████████▌                                                             | 11/44 [00:23<01:11,  2.17s/it]"
     ]
    },
    {
     "name": "stdout",
     "output_type": "stream",
     "text": [
      "Regan Poole\n"
     ]
    },
    {
     "name": "stderr",
     "output_type": "stream",
     "text": [
      "\r",
      " 27%|██████████████████████▎                                                           | 12/44 [00:26<01:09,  2.17s/it]"
     ]
    },
    {
     "name": "stdout",
     "output_type": "stream",
     "text": [
      "Axel Tuanzebe\n"
     ]
    },
    {
     "name": "stderr",
     "output_type": "stream",
     "text": [
      "\r",
      " 30%|████████████████████████▏                                                         | 13/44 [00:27<01:05,  2.11s/it]"
     ]
    },
    {
     "name": "stdout",
     "output_type": "stream",
     "text": [
      "Luke Shaw\n"
     ]
    },
    {
     "name": "stderr",
     "output_type": "stream",
     "text": [
      "\r",
      " 32%|██████████████████████████                                                        | 14/44 [00:29<01:02,  2.10s/it]"
     ]
    },
    {
     "name": "stdout",
     "output_type": "stream",
     "text": [
      "Ashley Young\n"
     ]
    },
    {
     "name": "stderr",
     "output_type": "stream",
     "text": [
      "\r",
      " 34%|███████████████████████████▉                                                      | 15/44 [00:31<01:01,  2.10s/it]"
     ]
    },
    {
     "name": "stdout",
     "output_type": "stream",
     "text": [
      "Tyler Blackett\n"
     ]
    },
    {
     "name": "stderr",
     "output_type": "stream",
     "text": [
      "\r",
      " 36%|█████████████████████████████▊                                                    | 16/44 [00:33<00:58,  2.10s/it]"
     ]
    },
    {
     "name": "stdout",
     "output_type": "stream",
     "text": [
      "Cameron Borthwick-Jackson\n"
     ]
    },
    {
     "name": "stderr",
     "output_type": "stream",
     "text": [
      "\r",
      " 39%|███████████████████████████████▋                                                  | 17/44 [00:35<00:56,  2.10s/it]"
     ]
    },
    {
     "name": "stdout",
     "output_type": "stream",
     "text": [
      "Antonio Valencia\n"
     ]
    },
    {
     "name": "stderr",
     "output_type": "stream",
     "text": [
      "\r",
      " 41%|█████████████████████████████████▌                                                | 18/44 [00:37<00:54,  2.08s/it]"
     ]
    },
    {
     "name": "stdout",
     "output_type": "stream",
     "text": [
      "Matteo Darmian\n"
     ]
    },
    {
     "name": "stderr",
     "output_type": "stream",
     "text": [
      "\r",
      " 43%|███████████████████████████████████▍                                              | 19/44 [00:39<00:51,  2.08s/it]"
     ]
    },
    {
     "name": "stdout",
     "output_type": "stream",
     "text": [
      "Guillermo Varela\n"
     ]
    },
    {
     "name": "stderr",
     "output_type": "stream",
     "text": [
      "\r",
      " 45%|█████████████████████████████████████▎                                            | 20/44 [00:41<00:49,  2.06s/it]"
     ]
    },
    {
     "name": "stdout",
     "output_type": "stream",
     "text": [
      "Donald Love\n"
     ]
    },
    {
     "name": "stderr",
     "output_type": "stream",
     "text": [
      "\r",
      " 48%|███████████████████████████████████████▏                                          | 21/44 [00:43<00:47,  2.06s/it]"
     ]
    },
    {
     "name": "stdout",
     "output_type": "stream",
     "text": [
      "Joe Riley\n"
     ]
    },
    {
     "name": "stderr",
     "output_type": "stream",
     "text": [
      "\r",
      " 50%|█████████████████████████████████████████                                         | 22/44 [00:45<00:45,  2.06s/it]"
     ]
    },
    {
     "name": "stdout",
     "output_type": "stream",
     "text": [
      "Timothy Fosu-Mensah\n"
     ]
    },
    {
     "name": "stderr",
     "output_type": "stream",
     "text": [
      "\r",
      " 52%|██████████████████████████████████████████▊                                       | 23/44 [00:47<00:43,  2.07s/it]"
     ]
    },
    {
     "name": "stdout",
     "output_type": "stream",
     "text": [
      "Morgan Schneiderlin\n"
     ]
    },
    {
     "name": "stderr",
     "output_type": "stream",
     "text": [
      "\r",
      " 55%|████████████████████████████████████████████▋                                     | 24/44 [00:50<00:41,  2.09s/it]"
     ]
    },
    {
     "name": "stdout",
     "output_type": "stream",
     "text": [
      "Michael Carrick\n"
     ]
    },
    {
     "name": "stderr",
     "output_type": "stream",
     "text": [
      "\r",
      " 57%|██████████████████████████████████████████████▌                                   | 25/44 [00:52<00:39,  2.10s/it]"
     ]
    },
    {
     "name": "stdout",
     "output_type": "stream",
     "text": [
      "Paddy McNair\n"
     ]
    },
    {
     "name": "stderr",
     "output_type": "stream",
     "text": [
      "\r",
      " 59%|████████████████████████████████████████████████▍                                 | 26/44 [00:54<00:37,  2.08s/it]"
     ]
    },
    {
     "name": "stdout",
     "output_type": "stream",
     "text": [
      "Bastian Schweinsteiger\n"
     ]
    },
    {
     "name": "stderr",
     "output_type": "stream",
     "text": [
      "\r",
      " 61%|██████████████████████████████████████████████████▎                               | 27/44 [00:56<00:35,  2.10s/it]"
     ]
    },
    {
     "name": "stdout",
     "output_type": "stream",
     "text": [
      "Ander Herrera\n"
     ]
    },
    {
     "name": "stderr",
     "output_type": "stream",
     "text": [
      "\r",
      " 64%|████████████████████████████████████████████████████▏                             | 28/44 [00:58<00:33,  2.10s/it]"
     ]
    },
    {
     "name": "stdout",
     "output_type": "stream",
     "text": [
      "Marouane Fellaini\n"
     ]
    },
    {
     "name": "stderr",
     "output_type": "stream",
     "text": [
      "\r",
      " 66%|██████████████████████████████████████████████████████                            | 29/44 [01:01<00:31,  2.12s/it]"
     ]
    },
    {
     "name": "stdout",
     "output_type": "stream",
     "text": [
      "Joe Rothwell\n"
     ]
    },
    {
     "name": "stderr",
     "output_type": "stream",
     "text": [
      "\r",
      " 68%|███████████████████████████████████████████████████████▉                          | 30/44 [01:04<00:29,  2.14s/it]"
     ]
    },
    {
     "name": "stdout",
     "output_type": "stream",
     "text": [
      "Sean Goss\n"
     ]
    },
    {
     "name": "stderr",
     "output_type": "stream",
     "text": [
      "\r",
      " 70%|█████████████████████████████████████████████████████████▊                        | 31/44 [01:06<00:27,  2.14s/it]"
     ]
    },
    {
     "name": "stdout",
     "output_type": "stream",
     "text": [
      "James Weir\n"
     ]
    },
    {
     "name": "stderr",
     "output_type": "stream",
     "text": [
      "\r",
      " 73%|███████████████████████████████████████████████████████████▋                      | 32/44 [01:08<00:25,  2.14s/it]"
     ]
    },
    {
     "name": "stdout",
     "output_type": "stream",
     "text": [
      "Juan Mata\n"
     ]
    },
    {
     "name": "stderr",
     "output_type": "stream",
     "text": [
      "\r",
      " 75%|█████████████████████████████████████████████████████████████▌                    | 33/44 [01:10<00:23,  2.14s/it]"
     ]
    },
    {
     "name": "stdout",
     "output_type": "stream",
     "text": [
      "Nick Powell\n"
     ]
    },
    {
     "name": "stderr",
     "output_type": "stream",
     "text": [
      "\r",
      " 77%|███████████████████████████████████████████████████████████████▎                  | 34/44 [01:12<00:21,  2.15s/it]"
     ]
    },
    {
     "name": "stdout",
     "output_type": "stream",
     "text": [
      "Andreas Pereira\n"
     ]
    },
    {
     "name": "stderr",
     "output_type": "stream",
     "text": [
      "\r",
      " 80%|█████████████████████████████████████████████████████████████████▏                | 35/44 [01:15<00:19,  2.15s/it]"
     ]
    },
    {
     "name": "stdout",
     "output_type": "stream",
     "text": [
      "Anthony Martial\n"
     ]
    },
    {
     "name": "stderr",
     "output_type": "stream",
     "text": [
      "\r",
      " 82%|███████████████████████████████████████████████████████████████████               | 36/44 [01:17<00:17,  2.15s/it]"
     ]
    },
    {
     "name": "stdout",
     "output_type": "stream",
     "text": [
      "Adnan Januzaj\n"
     ]
    },
    {
     "name": "stderr",
     "output_type": "stream",
     "text": [
      "\r",
      " 84%|████████████████████████████████████████████████████████████████████▉             | 37/44 [01:19<00:15,  2.15s/it]"
     ]
    },
    {
     "name": "stdout",
     "output_type": "stream",
     "text": [
      "Jesse Lingard\n"
     ]
    },
    {
     "name": "stderr",
     "output_type": "stream",
     "text": [
      "\r",
      " 86%|██████████████████████████████████████████████████████████████████████▊           | 38/44 [01:21<00:12,  2.15s/it]"
     ]
    },
    {
     "name": "stdout",
     "output_type": "stream",
     "text": [
      "Wayne Rooney\n"
     ]
    },
    {
     "name": "stderr",
     "output_type": "stream",
     "text": [
      "\r",
      " 89%|████████████████████████████████████████████████████████████████████████▋         | 39/44 [01:24<00:10,  2.16s/it]"
     ]
    },
    {
     "name": "stdout",
     "output_type": "stream",
     "text": [
      "Memphis Depay\n"
     ]
    },
    {
     "name": "stderr",
     "output_type": "stream",
     "text": [
      "\r",
      " 91%|██████████████████████████████████████████████████████████████████████████▌       | 40/44 [01:26<00:08,  2.16s/it]"
     ]
    },
    {
     "name": "stdout",
     "output_type": "stream",
     "text": [
      "Chicharito\n"
     ]
    },
    {
     "name": "stderr",
     "output_type": "stream",
     "text": [
      "\r",
      " 93%|████████████████████████████████████████████████████████████████████████████▍     | 41/44 [01:28<00:06,  2.16s/it]"
     ]
    },
    {
     "name": "stdout",
     "output_type": "stream",
     "text": [
      "James Wilson\n"
     ]
    },
    {
     "name": "stderr",
     "output_type": "stream",
     "text": [
      "\r",
      " 95%|██████████████████████████████████████████████████████████████████████████████▎   | 42/44 [01:30<00:04,  2.17s/it]"
     ]
    },
    {
     "name": "stdout",
     "output_type": "stream",
     "text": [
      "Will Keane\n"
     ]
    },
    {
     "name": "stderr",
     "output_type": "stream",
     "text": [
      "\r",
      " 98%|████████████████████████████████████████████████████████████████████████████████▏ | 43/44 [01:32<00:02,  2.15s/it]"
     ]
    },
    {
     "name": "stdout",
     "output_type": "stream",
     "text": [
      "Marcus Rashford\n"
     ]
    },
    {
     "name": "stderr",
     "output_type": "stream",
     "text": [
      "100%|██████████████████████████████████████████████████████████████████████████████████| 44/44 [01:34<00:00,  2.15s/it]\n",
      "  0%|                                                                                           | 0/43 [00:00<?, ?it/s]"
     ]
    },
    {
     "name": "stdout",
     "output_type": "stream",
     "text": [
      "David de Gea\n"
     ]
    },
    {
     "name": "stderr",
     "output_type": "stream",
     "text": [
      "\r",
      "  2%|█▉                                                                                 | 1/43 [00:02<01:52,  2.69s/it]"
     ]
    },
    {
     "name": "stdout",
     "output_type": "stream",
     "text": [
      "Víctor Valdés\n"
     ]
    },
    {
     "name": "stderr",
     "output_type": "stream",
     "text": [
      "\r",
      "  5%|███▊                                                                               | 2/43 [00:05<01:52,  2.74s/it]"
     ]
    },
    {
     "name": "stdout",
     "output_type": "stream",
     "text": [
      "Anders Lindegaard\n"
     ]
    },
    {
     "name": "stderr",
     "output_type": "stream",
     "text": [
      "\r",
      "  7%|█████▊                                                                             | 3/43 [00:08<01:52,  2.82s/it]"
     ]
    },
    {
     "name": "stdout",
     "output_type": "stream",
     "text": [
      "Ben Amos\n"
     ]
    },
    {
     "name": "stderr",
     "output_type": "stream",
     "text": [
      "\r",
      "  9%|███████▋                                                                           | 4/43 [00:10<01:47,  2.75s/it]"
     ]
    },
    {
     "name": "stdout",
     "output_type": "stream",
     "text": [
      "Sam Johnstone\n"
     ]
    },
    {
     "name": "stderr",
     "output_type": "stream",
     "text": [
      "\r",
      " 12%|█████████▋                                                                         | 5/43 [00:13<01:43,  2.73s/it]"
     ]
    },
    {
     "name": "stdout",
     "output_type": "stream",
     "text": [
      "Phil Jones\n"
     ]
    },
    {
     "name": "stderr",
     "output_type": "stream",
     "text": [
      "\r",
      " 14%|███████████▌                                                                       | 6/43 [00:15<01:38,  2.66s/it]"
     ]
    },
    {
     "name": "stdout",
     "output_type": "stream",
     "text": [
      "Jonny Evans\n"
     ]
    },
    {
     "name": "stderr",
     "output_type": "stream",
     "text": [
      "\r",
      " 16%|█████████████▌                                                                     | 7/43 [00:17<01:30,  2.50s/it]"
     ]
    },
    {
     "name": "stdout",
     "output_type": "stream",
     "text": [
      "Chris Smalling\n"
     ]
    },
    {
     "name": "stderr",
     "output_type": "stream",
     "text": [
      "\r",
      " 19%|███████████████▍                                                                   | 8/43 [00:19<01:27,  2.49s/it]"
     ]
    },
    {
     "name": "stdout",
     "output_type": "stream",
     "text": [
      "Daley Blind\n"
     ]
    },
    {
     "name": "stderr",
     "output_type": "stream",
     "text": [
      "\r",
      " 21%|█████████████████▎                                                                 | 9/43 [00:21<01:21,  2.39s/it]"
     ]
    },
    {
     "name": "stdout",
     "output_type": "stream",
     "text": [
      "Marcos Rojo\n"
     ]
    },
    {
     "name": "stderr",
     "output_type": "stream",
     "text": [
      "\r",
      " 23%|███████████████████                                                               | 10/43 [00:23<01:16,  2.33s/it]"
     ]
    },
    {
     "name": "stdout",
     "output_type": "stream",
     "text": [
      "Michael Keane\n"
     ]
    },
    {
     "name": "stderr",
     "output_type": "stream",
     "text": [
      "\r",
      " 26%|████████████████████▉                                                             | 11/43 [00:26<01:15,  2.37s/it]"
     ]
    },
    {
     "name": "stdout",
     "output_type": "stream",
     "text": [
      "Tom Thorpe\n"
     ]
    },
    {
     "name": "stderr",
     "output_type": "stream",
     "text": [
      "\r",
      " 28%|██████████████████████▉                                                           | 12/43 [00:27<01:11,  2.29s/it]"
     ]
    },
    {
     "name": "stdout",
     "output_type": "stream",
     "text": [
      "Ashley Young\n"
     ]
    },
    {
     "name": "stderr",
     "output_type": "stream",
     "text": [
      "\r",
      " 30%|████████████████████████▊                                                         | 13/43 [00:29<01:08,  2.28s/it]"
     ]
    },
    {
     "name": "stdout",
     "output_type": "stream",
     "text": [
      "Luke Shaw\n"
     ]
    },
    {
     "name": "stderr",
     "output_type": "stream",
     "text": [
      "\r",
      " 33%|██████████████████████████▋                                                       | 14/43 [00:31<01:06,  2.28s/it]"
     ]
    },
    {
     "name": "stdout",
     "output_type": "stream",
     "text": [
      "Reece James\n"
     ]
    },
    {
     "name": "stderr",
     "output_type": "stream",
     "text": [
      "\r",
      " 35%|████████████████████████████▌                                                     | 15/43 [00:33<01:03,  2.26s/it]"
     ]
    },
    {
     "name": "stdout",
     "output_type": "stream",
     "text": [
      "Tyler Blackett\n"
     ]
    },
    {
     "name": "stderr",
     "output_type": "stream",
     "text": [
      "\r",
      " 37%|██████████████████████████████▌                                                   | 16/43 [00:36<01:00,  2.25s/it]"
     ]
    },
    {
     "name": "stdout",
     "output_type": "stream",
     "text": [
      "Antonio Valencia\n"
     ]
    },
    {
     "name": "stderr",
     "output_type": "stream",
     "text": [
      "\r",
      " 40%|████████████████████████████████▍                                                 | 17/43 [00:37<00:57,  2.21s/it]"
     ]
    },
    {
     "name": "stdout",
     "output_type": "stream",
     "text": [
      "Rafael\n"
     ]
    },
    {
     "name": "stderr",
     "output_type": "stream",
     "text": [
      "\r",
      " 42%|██████████████████████████████████▎                                               | 18/43 [00:39<00:55,  2.21s/it]"
     ]
    },
    {
     "name": "stdout",
     "output_type": "stream",
     "text": [
      "Marnick Vermijl\n"
     ]
    },
    {
     "name": "stderr",
     "output_type": "stream",
     "text": [
      "\r",
      " 44%|████████████████████████████████████▏                                             | 19/43 [00:41<00:52,  2.21s/it]"
     ]
    },
    {
     "name": "stdout",
     "output_type": "stream",
     "text": [
      "Saidy Janko\n"
     ]
    },
    {
     "name": "stderr",
     "output_type": "stream",
     "text": [
      "\r",
      " 47%|██████████████████████████████████████▏                                           | 20/43 [00:43<00:49,  2.17s/it]"
     ]
    },
    {
     "name": "stdout",
     "output_type": "stream",
     "text": [
      "Michael Carrick\n"
     ]
    },
    {
     "name": "stderr",
     "output_type": "stream",
     "text": [
      "\r",
      " 49%|████████████████████████████████████████                                          | 21/43 [00:45<00:47,  2.15s/it]"
     ]
    },
    {
     "name": "stdout",
     "output_type": "stream",
     "text": [
      "Paddy McNair\n"
     ]
    },
    {
     "name": "stderr",
     "output_type": "stream",
     "text": [
      "\r",
      " 51%|█████████████████████████████████████████▉                                        | 22/43 [00:47<00:45,  2.15s/it]"
     ]
    },
    {
     "name": "stdout",
     "output_type": "stream",
     "text": [
      "Marouane Fellaini\n"
     ]
    },
    {
     "name": "stderr",
     "output_type": "stream",
     "text": [
      "\r",
      " 53%|███████████████████████████████████████████▊                                      | 23/43 [00:49<00:43,  2.15s/it]"
     ]
    },
    {
     "name": "stdout",
     "output_type": "stream",
     "text": [
      "Ander Herrera\n"
     ]
    },
    {
     "name": "stderr",
     "output_type": "stream",
     "text": [
      "\r",
      " 56%|█████████████████████████████████████████████▊                                    | 24/43 [00:51<00:40,  2.16s/it]"
     ]
    },
    {
     "name": "stdout",
     "output_type": "stream",
     "text": [
      "Tom Cleverley\n"
     ]
    },
    {
     "name": "stderr",
     "output_type": "stream",
     "text": [
      "\r",
      " 58%|███████████████████████████████████████████████▋                                  | 25/43 [00:54<00:39,  2.18s/it]"
     ]
    },
    {
     "name": "stdout",
     "output_type": "stream",
     "text": [
      "Anderson\n"
     ]
    },
    {
     "name": "stderr",
     "output_type": "stream",
     "text": [
      "\r",
      " 60%|█████████████████████████████████████████████████▌                                | 26/43 [00:57<00:37,  2.20s/it]"
     ]
    },
    {
     "name": "stdout",
     "output_type": "stream",
     "text": [
      "Darren Fletcher\n"
     ]
    },
    {
     "name": "stderr",
     "output_type": "stream",
     "text": [
      "\r",
      " 63%|███████████████████████████████████████████████████▍                              | 27/43 [00:59<00:35,  2.20s/it]"
     ]
    },
    {
     "name": "stdout",
     "output_type": "stream",
     "text": [
      "Juan Mata\n"
     ]
    },
    {
     "name": "stderr",
     "output_type": "stream",
     "text": [
      "\r",
      " 65%|█████████████████████████████████████████████████████▍                            | 28/43 [01:01<00:32,  2.20s/it]"
     ]
    },
    {
     "name": "stdout",
     "output_type": "stream",
     "text": [
      "Shinji Kagawa\n"
     ]
    },
    {
     "name": "stderr",
     "output_type": "stream",
     "text": [
      "\r",
      " 67%|███████████████████████████████████████████████████████▎                          | 29/43 [01:03<00:30,  2.18s/it]"
     ]
    },
    {
     "name": "stdout",
     "output_type": "stream",
     "text": [
      "Nick Powell\n"
     ]
    },
    {
     "name": "stderr",
     "output_type": "stream",
     "text": [
      "\r",
      " 70%|█████████████████████████████████████████████████████████▏                        | 30/43 [01:05<00:28,  2.18s/it]"
     ]
    },
    {
     "name": "stdout",
     "output_type": "stream",
     "text": [
      "Andreas Pereira\n"
     ]
    },
    {
     "name": "stderr",
     "output_type": "stream",
     "text": [
      "\r",
      " 72%|███████████████████████████████████████████████████████████                       | 31/43 [01:07<00:26,  2.19s/it]"
     ]
    },
    {
     "name": "stdout",
     "output_type": "stream",
     "text": [
      "Nani\n"
     ]
    },
    {
     "name": "stderr",
     "output_type": "stream",
     "text": [
      "\r",
      " 74%|█████████████████████████████████████████████████████████████                     | 32/43 [01:10<00:24,  2.19s/it]"
     ]
    },
    {
     "name": "stdout",
     "output_type": "stream",
     "text": [
      "Ángel Di María\n"
     ]
    },
    {
     "name": "stderr",
     "output_type": "stream",
     "text": [
      "\r",
      " 77%|██████████████████████████████████████████████████████████████▉                   | 33/43 [01:12<00:22,  2.20s/it]"
     ]
    },
    {
     "name": "stdout",
     "output_type": "stream",
     "text": [
      "Wilfried Zaha\n"
     ]
    },
    {
     "name": "stderr",
     "output_type": "stream",
     "text": [
      "\r",
      " 79%|████████████████████████████████████████████████████████████████▊                 | 34/43 [01:14<00:19,  2.20s/it]"
     ]
    },
    {
     "name": "stdout",
     "output_type": "stream",
     "text": [
      "Adnan Januzaj\n"
     ]
    },
    {
     "name": "stderr",
     "output_type": "stream",
     "text": [
      "\r",
      " 81%|██████████████████████████████████████████████████████████████████▋               | 35/43 [01:16<00:17,  2.18s/it]"
     ]
    },
    {
     "name": "stdout",
     "output_type": "stream",
     "text": [
      "Jesse Lingard\n"
     ]
    },
    {
     "name": "stderr",
     "output_type": "stream",
     "text": [
      "\r",
      " 84%|████████████████████████████████████████████████████████████████████▋             | 36/43 [01:18<00:15,  2.19s/it]"
     ]
    },
    {
     "name": "stdout",
     "output_type": "stream",
     "text": [
      "Falcao\n"
     ]
    },
    {
     "name": "stderr",
     "output_type": "stream",
     "text": [
      "\r",
      " 86%|██████████████████████████████████████████████████████████████████████▌           | 37/43 [01:21<00:13,  2.19s/it]"
     ]
    },
    {
     "name": "stdout",
     "output_type": "stream",
     "text": [
      "Wayne Rooney\n"
     ]
    },
    {
     "name": "stderr",
     "output_type": "stream",
     "text": [
      "\r",
      " 88%|████████████████████████████████████████████████████████████████████████▍         | 38/43 [01:23<00:10,  2.19s/it]"
     ]
    },
    {
     "name": "stdout",
     "output_type": "stream",
     "text": [
      "Robin van Persie\n"
     ]
    },
    {
     "name": "stderr",
     "output_type": "stream",
     "text": [
      "\r",
      " 91%|██████████████████████████████████████████████████████████████████████████▎       | 39/43 [01:25<00:08,  2.20s/it]"
     ]
    },
    {
     "name": "stdout",
     "output_type": "stream",
     "text": [
      "Danny Welbeck\n"
     ]
    },
    {
     "name": "stderr",
     "output_type": "stream",
     "text": [
      "\r",
      " 93%|████████████████████████████████████████████████████████████████████████████▎     | 40/43 [01:28<00:06,  2.20s/it]"
     ]
    },
    {
     "name": "stdout",
     "output_type": "stream",
     "text": [
      "Chicharito\n"
     ]
    },
    {
     "name": "stderr",
     "output_type": "stream",
     "text": [
      "\r",
      " 95%|██████████████████████████████████████████████████████████████████████████████▏   | 41/43 [01:30<00:04,  2.20s/it]"
     ]
    },
    {
     "name": "stdout",
     "output_type": "stream",
     "text": [
      "Will Keane\n"
     ]
    },
    {
     "name": "stderr",
     "output_type": "stream",
     "text": [
      "\r",
      " 98%|████████████████████████████████████████████████████████████████████████████████  | 42/43 [01:31<00:02,  2.18s/it]"
     ]
    },
    {
     "name": "stdout",
     "output_type": "stream",
     "text": [
      "James Wilson\n"
     ]
    },
    {
     "name": "stderr",
     "output_type": "stream",
     "text": [
      "100%|██████████████████████████████████████████████████████████████████████████████████| 43/43 [01:33<00:00,  2.19s/it]\n"
     ]
    }
   ],
   "source": [
    "season_df = get_seasons_data(5, TEAM_URL, 'Manchester United')"
   ]
  },
  {
   "cell_type": "code",
   "execution_count": 241,
   "metadata": {
    "hidden": true
   },
   "outputs": [
    {
     "data": {
      "text/plain": [
       "(1200, 8)"
      ]
     },
     "execution_count": 241,
     "metadata": {},
     "output_type": "execute_result"
    }
   ],
   "source": [
    "season_df.shape"
   ]
  },
  {
   "cell_type": "code",
   "execution_count": 249,
   "metadata": {
    "hidden": true
   },
   "outputs": [
    {
     "data": {
      "application/javascript": [
       "/* Put everything inside the global mpl namespace */\n",
       "window.mpl = {};\n",
       "\n",
       "\n",
       "mpl.get_websocket_type = function() {\n",
       "    if (typeof(WebSocket) !== 'undefined') {\n",
       "        return WebSocket;\n",
       "    } else if (typeof(MozWebSocket) !== 'undefined') {\n",
       "        return MozWebSocket;\n",
       "    } else {\n",
       "        alert('Your browser does not have WebSocket support.' +\n",
       "              'Please try Chrome, Safari or Firefox ≥ 6. ' +\n",
       "              'Firefox 4 and 5 are also supported but you ' +\n",
       "              'have to enable WebSockets in about:config.');\n",
       "    };\n",
       "}\n",
       "\n",
       "mpl.figure = function(figure_id, websocket, ondownload, parent_element) {\n",
       "    this.id = figure_id;\n",
       "\n",
       "    this.ws = websocket;\n",
       "\n",
       "    this.supports_binary = (this.ws.binaryType != undefined);\n",
       "\n",
       "    if (!this.supports_binary) {\n",
       "        var warnings = document.getElementById(\"mpl-warnings\");\n",
       "        if (warnings) {\n",
       "            warnings.style.display = 'block';\n",
       "            warnings.textContent = (\n",
       "                \"This browser does not support binary websocket messages. \" +\n",
       "                    \"Performance may be slow.\");\n",
       "        }\n",
       "    }\n",
       "\n",
       "    this.imageObj = new Image();\n",
       "\n",
       "    this.context = undefined;\n",
       "    this.message = undefined;\n",
       "    this.canvas = undefined;\n",
       "    this.rubberband_canvas = undefined;\n",
       "    this.rubberband_context = undefined;\n",
       "    this.format_dropdown = undefined;\n",
       "\n",
       "    this.image_mode = 'full';\n",
       "\n",
       "    this.root = $('<div/>');\n",
       "    this._root_extra_style(this.root)\n",
       "    this.root.attr('style', 'display: inline-block');\n",
       "\n",
       "    $(parent_element).append(this.root);\n",
       "\n",
       "    this._init_header(this);\n",
       "    this._init_canvas(this);\n",
       "    this._init_toolbar(this);\n",
       "\n",
       "    var fig = this;\n",
       "\n",
       "    this.waiting = false;\n",
       "\n",
       "    this.ws.onopen =  function () {\n",
       "            fig.send_message(\"supports_binary\", {value: fig.supports_binary});\n",
       "            fig.send_message(\"send_image_mode\", {});\n",
       "            if (mpl.ratio != 1) {\n",
       "                fig.send_message(\"set_dpi_ratio\", {'dpi_ratio': mpl.ratio});\n",
       "            }\n",
       "            fig.send_message(\"refresh\", {});\n",
       "        }\n",
       "\n",
       "    this.imageObj.onload = function() {\n",
       "            if (fig.image_mode == 'full') {\n",
       "                // Full images could contain transparency (where diff images\n",
       "                // almost always do), so we need to clear the canvas so that\n",
       "                // there is no ghosting.\n",
       "                fig.context.clearRect(0, 0, fig.canvas.width, fig.canvas.height);\n",
       "            }\n",
       "            fig.context.drawImage(fig.imageObj, 0, 0);\n",
       "        };\n",
       "\n",
       "    this.imageObj.onunload = function() {\n",
       "        this.ws.close();\n",
       "    }\n",
       "\n",
       "    this.ws.onmessage = this._make_on_message_function(this);\n",
       "\n",
       "    this.ondownload = ondownload;\n",
       "}\n",
       "\n",
       "mpl.figure.prototype._init_header = function() {\n",
       "    var titlebar = $(\n",
       "        '<div class=\"ui-dialog-titlebar ui-widget-header ui-corner-all ' +\n",
       "        'ui-helper-clearfix\"/>');\n",
       "    var titletext = $(\n",
       "        '<div class=\"ui-dialog-title\" style=\"width: 100%; ' +\n",
       "        'text-align: center; padding: 3px;\"/>');\n",
       "    titlebar.append(titletext)\n",
       "    this.root.append(titlebar);\n",
       "    this.header = titletext[0];\n",
       "}\n",
       "\n",
       "\n",
       "\n",
       "mpl.figure.prototype._canvas_extra_style = function(canvas_div) {\n",
       "\n",
       "}\n",
       "\n",
       "\n",
       "mpl.figure.prototype._root_extra_style = function(canvas_div) {\n",
       "\n",
       "}\n",
       "\n",
       "mpl.figure.prototype._init_canvas = function() {\n",
       "    var fig = this;\n",
       "\n",
       "    var canvas_div = $('<div/>');\n",
       "\n",
       "    canvas_div.attr('style', 'position: relative; clear: both; outline: 0');\n",
       "\n",
       "    function canvas_keyboard_event(event) {\n",
       "        return fig.key_event(event, event['data']);\n",
       "    }\n",
       "\n",
       "    canvas_div.keydown('key_press', canvas_keyboard_event);\n",
       "    canvas_div.keyup('key_release', canvas_keyboard_event);\n",
       "    this.canvas_div = canvas_div\n",
       "    this._canvas_extra_style(canvas_div)\n",
       "    this.root.append(canvas_div);\n",
       "\n",
       "    var canvas = $('<canvas/>');\n",
       "    canvas.addClass('mpl-canvas');\n",
       "    canvas.attr('style', \"left: 0; top: 0; z-index: 0; outline: 0\")\n",
       "\n",
       "    this.canvas = canvas[0];\n",
       "    this.context = canvas[0].getContext(\"2d\");\n",
       "\n",
       "    var backingStore = this.context.backingStorePixelRatio ||\n",
       "\tthis.context.webkitBackingStorePixelRatio ||\n",
       "\tthis.context.mozBackingStorePixelRatio ||\n",
       "\tthis.context.msBackingStorePixelRatio ||\n",
       "\tthis.context.oBackingStorePixelRatio ||\n",
       "\tthis.context.backingStorePixelRatio || 1;\n",
       "\n",
       "    mpl.ratio = (window.devicePixelRatio || 1) / backingStore;\n",
       "\n",
       "    var rubberband = $('<canvas/>');\n",
       "    rubberband.attr('style', \"position: absolute; left: 0; top: 0; z-index: 1;\")\n",
       "\n",
       "    var pass_mouse_events = true;\n",
       "\n",
       "    canvas_div.resizable({\n",
       "        start: function(event, ui) {\n",
       "            pass_mouse_events = false;\n",
       "        },\n",
       "        resize: function(event, ui) {\n",
       "            fig.request_resize(ui.size.width, ui.size.height);\n",
       "        },\n",
       "        stop: function(event, ui) {\n",
       "            pass_mouse_events = true;\n",
       "            fig.request_resize(ui.size.width, ui.size.height);\n",
       "        },\n",
       "    });\n",
       "\n",
       "    function mouse_event_fn(event) {\n",
       "        if (pass_mouse_events)\n",
       "            return fig.mouse_event(event, event['data']);\n",
       "    }\n",
       "\n",
       "    rubberband.mousedown('button_press', mouse_event_fn);\n",
       "    rubberband.mouseup('button_release', mouse_event_fn);\n",
       "    // Throttle sequential mouse events to 1 every 20ms.\n",
       "    rubberband.mousemove('motion_notify', mouse_event_fn);\n",
       "\n",
       "    rubberband.mouseenter('figure_enter', mouse_event_fn);\n",
       "    rubberband.mouseleave('figure_leave', mouse_event_fn);\n",
       "\n",
       "    canvas_div.on(\"wheel\", function (event) {\n",
       "        event = event.originalEvent;\n",
       "        event['data'] = 'scroll'\n",
       "        if (event.deltaY < 0) {\n",
       "            event.step = 1;\n",
       "        } else {\n",
       "            event.step = -1;\n",
       "        }\n",
       "        mouse_event_fn(event);\n",
       "    });\n",
       "\n",
       "    canvas_div.append(canvas);\n",
       "    canvas_div.append(rubberband);\n",
       "\n",
       "    this.rubberband = rubberband;\n",
       "    this.rubberband_canvas = rubberband[0];\n",
       "    this.rubberband_context = rubberband[0].getContext(\"2d\");\n",
       "    this.rubberband_context.strokeStyle = \"#000000\";\n",
       "\n",
       "    this._resize_canvas = function(width, height) {\n",
       "        // Keep the size of the canvas, canvas container, and rubber band\n",
       "        // canvas in synch.\n",
       "        canvas_div.css('width', width)\n",
       "        canvas_div.css('height', height)\n",
       "\n",
       "        canvas.attr('width', width * mpl.ratio);\n",
       "        canvas.attr('height', height * mpl.ratio);\n",
       "        canvas.attr('style', 'width: ' + width + 'px; height: ' + height + 'px;');\n",
       "\n",
       "        rubberband.attr('width', width);\n",
       "        rubberband.attr('height', height);\n",
       "    }\n",
       "\n",
       "    // Set the figure to an initial 600x600px, this will subsequently be updated\n",
       "    // upon first draw.\n",
       "    this._resize_canvas(600, 600);\n",
       "\n",
       "    // Disable right mouse context menu.\n",
       "    $(this.rubberband_canvas).bind(\"contextmenu\",function(e){\n",
       "        return false;\n",
       "    });\n",
       "\n",
       "    function set_focus () {\n",
       "        canvas.focus();\n",
       "        canvas_div.focus();\n",
       "    }\n",
       "\n",
       "    window.setTimeout(set_focus, 100);\n",
       "}\n",
       "\n",
       "mpl.figure.prototype._init_toolbar = function() {\n",
       "    var fig = this;\n",
       "\n",
       "    var nav_element = $('<div/>')\n",
       "    nav_element.attr('style', 'width: 100%');\n",
       "    this.root.append(nav_element);\n",
       "\n",
       "    // Define a callback function for later on.\n",
       "    function toolbar_event(event) {\n",
       "        return fig.toolbar_button_onclick(event['data']);\n",
       "    }\n",
       "    function toolbar_mouse_event(event) {\n",
       "        return fig.toolbar_button_onmouseover(event['data']);\n",
       "    }\n",
       "\n",
       "    for(var toolbar_ind in mpl.toolbar_items) {\n",
       "        var name = mpl.toolbar_items[toolbar_ind][0];\n",
       "        var tooltip = mpl.toolbar_items[toolbar_ind][1];\n",
       "        var image = mpl.toolbar_items[toolbar_ind][2];\n",
       "        var method_name = mpl.toolbar_items[toolbar_ind][3];\n",
       "\n",
       "        if (!name) {\n",
       "            // put a spacer in here.\n",
       "            continue;\n",
       "        }\n",
       "        var button = $('<button/>');\n",
       "        button.addClass('ui-button ui-widget ui-state-default ui-corner-all ' +\n",
       "                        'ui-button-icon-only');\n",
       "        button.attr('role', 'button');\n",
       "        button.attr('aria-disabled', 'false');\n",
       "        button.click(method_name, toolbar_event);\n",
       "        button.mouseover(tooltip, toolbar_mouse_event);\n",
       "\n",
       "        var icon_img = $('<span/>');\n",
       "        icon_img.addClass('ui-button-icon-primary ui-icon');\n",
       "        icon_img.addClass(image);\n",
       "        icon_img.addClass('ui-corner-all');\n",
       "\n",
       "        var tooltip_span = $('<span/>');\n",
       "        tooltip_span.addClass('ui-button-text');\n",
       "        tooltip_span.html(tooltip);\n",
       "\n",
       "        button.append(icon_img);\n",
       "        button.append(tooltip_span);\n",
       "\n",
       "        nav_element.append(button);\n",
       "    }\n",
       "\n",
       "    var fmt_picker_span = $('<span/>');\n",
       "\n",
       "    var fmt_picker = $('<select/>');\n",
       "    fmt_picker.addClass('mpl-toolbar-option ui-widget ui-widget-content');\n",
       "    fmt_picker_span.append(fmt_picker);\n",
       "    nav_element.append(fmt_picker_span);\n",
       "    this.format_dropdown = fmt_picker[0];\n",
       "\n",
       "    for (var ind in mpl.extensions) {\n",
       "        var fmt = mpl.extensions[ind];\n",
       "        var option = $(\n",
       "            '<option/>', {selected: fmt === mpl.default_extension}).html(fmt);\n",
       "        fmt_picker.append(option)\n",
       "    }\n",
       "\n",
       "    // Add hover states to the ui-buttons\n",
       "    $( \".ui-button\" ).hover(\n",
       "        function() { $(this).addClass(\"ui-state-hover\");},\n",
       "        function() { $(this).removeClass(\"ui-state-hover\");}\n",
       "    );\n",
       "\n",
       "    var status_bar = $('<span class=\"mpl-message\"/>');\n",
       "    nav_element.append(status_bar);\n",
       "    this.message = status_bar[0];\n",
       "}\n",
       "\n",
       "mpl.figure.prototype.request_resize = function(x_pixels, y_pixels) {\n",
       "    // Request matplotlib to resize the figure. Matplotlib will then trigger a resize in the client,\n",
       "    // which will in turn request a refresh of the image.\n",
       "    this.send_message('resize', {'width': x_pixels, 'height': y_pixels});\n",
       "}\n",
       "\n",
       "mpl.figure.prototype.send_message = function(type, properties) {\n",
       "    properties['type'] = type;\n",
       "    properties['figure_id'] = this.id;\n",
       "    this.ws.send(JSON.stringify(properties));\n",
       "}\n",
       "\n",
       "mpl.figure.prototype.send_draw_message = function() {\n",
       "    if (!this.waiting) {\n",
       "        this.waiting = true;\n",
       "        this.ws.send(JSON.stringify({type: \"draw\", figure_id: this.id}));\n",
       "    }\n",
       "}\n",
       "\n",
       "\n",
       "mpl.figure.prototype.handle_save = function(fig, msg) {\n",
       "    var format_dropdown = fig.format_dropdown;\n",
       "    var format = format_dropdown.options[format_dropdown.selectedIndex].value;\n",
       "    fig.ondownload(fig, format);\n",
       "}\n",
       "\n",
       "\n",
       "mpl.figure.prototype.handle_resize = function(fig, msg) {\n",
       "    var size = msg['size'];\n",
       "    if (size[0] != fig.canvas.width || size[1] != fig.canvas.height) {\n",
       "        fig._resize_canvas(size[0], size[1]);\n",
       "        fig.send_message(\"refresh\", {});\n",
       "    };\n",
       "}\n",
       "\n",
       "mpl.figure.prototype.handle_rubberband = function(fig, msg) {\n",
       "    var x0 = msg['x0'] / mpl.ratio;\n",
       "    var y0 = (fig.canvas.height - msg['y0']) / mpl.ratio;\n",
       "    var x1 = msg['x1'] / mpl.ratio;\n",
       "    var y1 = (fig.canvas.height - msg['y1']) / mpl.ratio;\n",
       "    x0 = Math.floor(x0) + 0.5;\n",
       "    y0 = Math.floor(y0) + 0.5;\n",
       "    x1 = Math.floor(x1) + 0.5;\n",
       "    y1 = Math.floor(y1) + 0.5;\n",
       "    var min_x = Math.min(x0, x1);\n",
       "    var min_y = Math.min(y0, y1);\n",
       "    var width = Math.abs(x1 - x0);\n",
       "    var height = Math.abs(y1 - y0);\n",
       "\n",
       "    fig.rubberband_context.clearRect(\n",
       "        0, 0, fig.canvas.width, fig.canvas.height);\n",
       "\n",
       "    fig.rubberband_context.strokeRect(min_x, min_y, width, height);\n",
       "}\n",
       "\n",
       "mpl.figure.prototype.handle_figure_label = function(fig, msg) {\n",
       "    // Updates the figure title.\n",
       "    fig.header.textContent = msg['label'];\n",
       "}\n",
       "\n",
       "mpl.figure.prototype.handle_cursor = function(fig, msg) {\n",
       "    var cursor = msg['cursor'];\n",
       "    switch(cursor)\n",
       "    {\n",
       "    case 0:\n",
       "        cursor = 'pointer';\n",
       "        break;\n",
       "    case 1:\n",
       "        cursor = 'default';\n",
       "        break;\n",
       "    case 2:\n",
       "        cursor = 'crosshair';\n",
       "        break;\n",
       "    case 3:\n",
       "        cursor = 'move';\n",
       "        break;\n",
       "    }\n",
       "    fig.rubberband_canvas.style.cursor = cursor;\n",
       "}\n",
       "\n",
       "mpl.figure.prototype.handle_message = function(fig, msg) {\n",
       "    fig.message.textContent = msg['message'];\n",
       "}\n",
       "\n",
       "mpl.figure.prototype.handle_draw = function(fig, msg) {\n",
       "    // Request the server to send over a new figure.\n",
       "    fig.send_draw_message();\n",
       "}\n",
       "\n",
       "mpl.figure.prototype.handle_image_mode = function(fig, msg) {\n",
       "    fig.image_mode = msg['mode'];\n",
       "}\n",
       "\n",
       "mpl.figure.prototype.updated_canvas_event = function() {\n",
       "    // Called whenever the canvas gets updated.\n",
       "    this.send_message(\"ack\", {});\n",
       "}\n",
       "\n",
       "// A function to construct a web socket function for onmessage handling.\n",
       "// Called in the figure constructor.\n",
       "mpl.figure.prototype._make_on_message_function = function(fig) {\n",
       "    return function socket_on_message(evt) {\n",
       "        if (evt.data instanceof Blob) {\n",
       "            /* FIXME: We get \"Resource interpreted as Image but\n",
       "             * transferred with MIME type text/plain:\" errors on\n",
       "             * Chrome.  But how to set the MIME type?  It doesn't seem\n",
       "             * to be part of the websocket stream */\n",
       "            evt.data.type = \"image/png\";\n",
       "\n",
       "            /* Free the memory for the previous frames */\n",
       "            if (fig.imageObj.src) {\n",
       "                (window.URL || window.webkitURL).revokeObjectURL(\n",
       "                    fig.imageObj.src);\n",
       "            }\n",
       "\n",
       "            fig.imageObj.src = (window.URL || window.webkitURL).createObjectURL(\n",
       "                evt.data);\n",
       "            fig.updated_canvas_event();\n",
       "            fig.waiting = false;\n",
       "            return;\n",
       "        }\n",
       "        else if (typeof evt.data === 'string' && evt.data.slice(0, 21) == \"data:image/png;base64\") {\n",
       "            fig.imageObj.src = evt.data;\n",
       "            fig.updated_canvas_event();\n",
       "            fig.waiting = false;\n",
       "            return;\n",
       "        }\n",
       "\n",
       "        var msg = JSON.parse(evt.data);\n",
       "        var msg_type = msg['type'];\n",
       "\n",
       "        // Call the  \"handle_{type}\" callback, which takes\n",
       "        // the figure and JSON message as its only arguments.\n",
       "        try {\n",
       "            var callback = fig[\"handle_\" + msg_type];\n",
       "        } catch (e) {\n",
       "            console.log(\"No handler for the '\" + msg_type + \"' message type: \", msg);\n",
       "            return;\n",
       "        }\n",
       "\n",
       "        if (callback) {\n",
       "            try {\n",
       "                // console.log(\"Handling '\" + msg_type + \"' message: \", msg);\n",
       "                callback(fig, msg);\n",
       "            } catch (e) {\n",
       "                console.log(\"Exception inside the 'handler_\" + msg_type + \"' callback:\", e, e.stack, msg);\n",
       "            }\n",
       "        }\n",
       "    };\n",
       "}\n",
       "\n",
       "// from http://stackoverflow.com/questions/1114465/getting-mouse-location-in-canvas\n",
       "mpl.findpos = function(e) {\n",
       "    //this section is from http://www.quirksmode.org/js/events_properties.html\n",
       "    var targ;\n",
       "    if (!e)\n",
       "        e = window.event;\n",
       "    if (e.target)\n",
       "        targ = e.target;\n",
       "    else if (e.srcElement)\n",
       "        targ = e.srcElement;\n",
       "    if (targ.nodeType == 3) // defeat Safari bug\n",
       "        targ = targ.parentNode;\n",
       "\n",
       "    // jQuery normalizes the pageX and pageY\n",
       "    // pageX,Y are the mouse positions relative to the document\n",
       "    // offset() returns the position of the element relative to the document\n",
       "    var x = e.pageX - $(targ).offset().left;\n",
       "    var y = e.pageY - $(targ).offset().top;\n",
       "\n",
       "    return {\"x\": x, \"y\": y};\n",
       "};\n",
       "\n",
       "/*\n",
       " * return a copy of an object with only non-object keys\n",
       " * we need this to avoid circular references\n",
       " * http://stackoverflow.com/a/24161582/3208463\n",
       " */\n",
       "function simpleKeys (original) {\n",
       "  return Object.keys(original).reduce(function (obj, key) {\n",
       "    if (typeof original[key] !== 'object')\n",
       "        obj[key] = original[key]\n",
       "    return obj;\n",
       "  }, {});\n",
       "}\n",
       "\n",
       "mpl.figure.prototype.mouse_event = function(event, name) {\n",
       "    var canvas_pos = mpl.findpos(event)\n",
       "\n",
       "    if (name === 'button_press')\n",
       "    {\n",
       "        this.canvas.focus();\n",
       "        this.canvas_div.focus();\n",
       "    }\n",
       "\n",
       "    var x = canvas_pos.x * mpl.ratio;\n",
       "    var y = canvas_pos.y * mpl.ratio;\n",
       "\n",
       "    this.send_message(name, {x: x, y: y, button: event.button,\n",
       "                             step: event.step,\n",
       "                             guiEvent: simpleKeys(event)});\n",
       "\n",
       "    /* This prevents the web browser from automatically changing to\n",
       "     * the text insertion cursor when the button is pressed.  We want\n",
       "     * to control all of the cursor setting manually through the\n",
       "     * 'cursor' event from matplotlib */\n",
       "    event.preventDefault();\n",
       "    return false;\n",
       "}\n",
       "\n",
       "mpl.figure.prototype._key_event_extra = function(event, name) {\n",
       "    // Handle any extra behaviour associated with a key event\n",
       "}\n",
       "\n",
       "mpl.figure.prototype.key_event = function(event, name) {\n",
       "\n",
       "    // Prevent repeat events\n",
       "    if (name == 'key_press')\n",
       "    {\n",
       "        if (event.which === this._key)\n",
       "            return;\n",
       "        else\n",
       "            this._key = event.which;\n",
       "    }\n",
       "    if (name == 'key_release')\n",
       "        this._key = null;\n",
       "\n",
       "    var value = '';\n",
       "    if (event.ctrlKey && event.which != 17)\n",
       "        value += \"ctrl+\";\n",
       "    if (event.altKey && event.which != 18)\n",
       "        value += \"alt+\";\n",
       "    if (event.shiftKey && event.which != 16)\n",
       "        value += \"shift+\";\n",
       "\n",
       "    value += 'k';\n",
       "    value += event.which.toString();\n",
       "\n",
       "    this._key_event_extra(event, name);\n",
       "\n",
       "    this.send_message(name, {key: value,\n",
       "                             guiEvent: simpleKeys(event)});\n",
       "    return false;\n",
       "}\n",
       "\n",
       "mpl.figure.prototype.toolbar_button_onclick = function(name) {\n",
       "    if (name == 'download') {\n",
       "        this.handle_save(this, null);\n",
       "    } else {\n",
       "        this.send_message(\"toolbar_button\", {name: name});\n",
       "    }\n",
       "};\n",
       "\n",
       "mpl.figure.prototype.toolbar_button_onmouseover = function(tooltip) {\n",
       "    this.message.textContent = tooltip;\n",
       "};\n",
       "mpl.toolbar_items = [[\"Home\", \"Reset original view\", \"fa fa-home icon-home\", \"home\"], [\"Back\", \"Back to  previous view\", \"fa fa-arrow-left icon-arrow-left\", \"back\"], [\"Forward\", \"Forward to next view\", \"fa fa-arrow-right icon-arrow-right\", \"forward\"], [\"\", \"\", \"\", \"\"], [\"Pan\", \"Pan axes with left mouse, zoom with right\", \"fa fa-arrows icon-move\", \"pan\"], [\"Zoom\", \"Zoom to rectangle\", \"fa fa-square-o icon-check-empty\", \"zoom\"], [\"\", \"\", \"\", \"\"], [\"Download\", \"Download plot\", \"fa fa-floppy-o icon-save\", \"download\"]];\n",
       "\n",
       "mpl.extensions = [\"eps\", \"jpeg\", \"pdf\", \"png\", \"ps\", \"raw\", \"svg\", \"tif\"];\n",
       "\n",
       "mpl.default_extension = \"png\";var comm_websocket_adapter = function(comm) {\n",
       "    // Create a \"websocket\"-like object which calls the given IPython comm\n",
       "    // object with the appropriate methods. Currently this is a non binary\n",
       "    // socket, so there is still some room for performance tuning.\n",
       "    var ws = {};\n",
       "\n",
       "    ws.close = function() {\n",
       "        comm.close()\n",
       "    };\n",
       "    ws.send = function(m) {\n",
       "        //console.log('sending', m);\n",
       "        comm.send(m);\n",
       "    };\n",
       "    // Register the callback with on_msg.\n",
       "    comm.on_msg(function(msg) {\n",
       "        //console.log('receiving', msg['content']['data'], msg);\n",
       "        // Pass the mpl event to the overriden (by mpl) onmessage function.\n",
       "        ws.onmessage(msg['content']['data'])\n",
       "    });\n",
       "    return ws;\n",
       "}\n",
       "\n",
       "mpl.mpl_figure_comm = function(comm, msg) {\n",
       "    // This is the function which gets called when the mpl process\n",
       "    // starts-up an IPython Comm through the \"matplotlib\" channel.\n",
       "\n",
       "    var id = msg.content.data.id;\n",
       "    // Get hold of the div created by the display call when the Comm\n",
       "    // socket was opened in Python.\n",
       "    var element = $(\"#\" + id);\n",
       "    var ws_proxy = comm_websocket_adapter(comm)\n",
       "\n",
       "    function ondownload(figure, format) {\n",
       "        window.open(figure.imageObj.src);\n",
       "    }\n",
       "\n",
       "    var fig = new mpl.figure(id, ws_proxy,\n",
       "                           ondownload,\n",
       "                           element.get(0));\n",
       "\n",
       "    // Call onopen now - mpl needs it, as it is assuming we've passed it a real\n",
       "    // web socket which is closed, not our websocket->open comm proxy.\n",
       "    ws_proxy.onopen();\n",
       "\n",
       "    fig.parent_element = element.get(0);\n",
       "    fig.cell_info = mpl.find_output_cell(\"<div id='\" + id + \"'></div>\");\n",
       "    if (!fig.cell_info) {\n",
       "        console.error(\"Failed to find cell for figure\", id, fig);\n",
       "        return;\n",
       "    }\n",
       "\n",
       "    var output_index = fig.cell_info[2]\n",
       "    var cell = fig.cell_info[0];\n",
       "\n",
       "};\n",
       "\n",
       "mpl.figure.prototype.handle_close = function(fig, msg) {\n",
       "    var width = fig.canvas.width/mpl.ratio\n",
       "    fig.root.unbind('remove')\n",
       "\n",
       "    // Update the output cell to use the data from the current canvas.\n",
       "    fig.push_to_output();\n",
       "    var dataURL = fig.canvas.toDataURL();\n",
       "    // Re-enable the keyboard manager in IPython - without this line, in FF,\n",
       "    // the notebook keyboard shortcuts fail.\n",
       "    IPython.keyboard_manager.enable()\n",
       "    $(fig.parent_element).html('<img src=\"' + dataURL + '\" width=\"' + width + '\">');\n",
       "    fig.close_ws(fig, msg);\n",
       "}\n",
       "\n",
       "mpl.figure.prototype.close_ws = function(fig, msg){\n",
       "    fig.send_message('closing', msg);\n",
       "    // fig.ws.close()\n",
       "}\n",
       "\n",
       "mpl.figure.prototype.push_to_output = function(remove_interactive) {\n",
       "    // Turn the data on the canvas into data in the output cell.\n",
       "    var width = this.canvas.width/mpl.ratio\n",
       "    var dataURL = this.canvas.toDataURL();\n",
       "    this.cell_info[1]['text/html'] = '<img src=\"' + dataURL + '\" width=\"' + width + '\">';\n",
       "}\n",
       "\n",
       "mpl.figure.prototype.updated_canvas_event = function() {\n",
       "    // Tell IPython that the notebook contents must change.\n",
       "    IPython.notebook.set_dirty(true);\n",
       "    this.send_message(\"ack\", {});\n",
       "    var fig = this;\n",
       "    // Wait a second, then push the new image to the DOM so\n",
       "    // that it is saved nicely (might be nice to debounce this).\n",
       "    setTimeout(function () { fig.push_to_output() }, 1000);\n",
       "}\n",
       "\n",
       "mpl.figure.prototype._init_toolbar = function() {\n",
       "    var fig = this;\n",
       "\n",
       "    var nav_element = $('<div/>')\n",
       "    nav_element.attr('style', 'width: 100%');\n",
       "    this.root.append(nav_element);\n",
       "\n",
       "    // Define a callback function for later on.\n",
       "    function toolbar_event(event) {\n",
       "        return fig.toolbar_button_onclick(event['data']);\n",
       "    }\n",
       "    function toolbar_mouse_event(event) {\n",
       "        return fig.toolbar_button_onmouseover(event['data']);\n",
       "    }\n",
       "\n",
       "    for(var toolbar_ind in mpl.toolbar_items){\n",
       "        var name = mpl.toolbar_items[toolbar_ind][0];\n",
       "        var tooltip = mpl.toolbar_items[toolbar_ind][1];\n",
       "        var image = mpl.toolbar_items[toolbar_ind][2];\n",
       "        var method_name = mpl.toolbar_items[toolbar_ind][3];\n",
       "\n",
       "        if (!name) { continue; };\n",
       "\n",
       "        var button = $('<button class=\"btn btn-default\" href=\"#\" title=\"' + name + '\"><i class=\"fa ' + image + ' fa-lg\"></i></button>');\n",
       "        button.click(method_name, toolbar_event);\n",
       "        button.mouseover(tooltip, toolbar_mouse_event);\n",
       "        nav_element.append(button);\n",
       "    }\n",
       "\n",
       "    // Add the status bar.\n",
       "    var status_bar = $('<span class=\"mpl-message\" style=\"text-align:right; float: right;\"/>');\n",
       "    nav_element.append(status_bar);\n",
       "    this.message = status_bar[0];\n",
       "\n",
       "    // Add the close button to the window.\n",
       "    var buttongrp = $('<div class=\"btn-group inline pull-right\"></div>');\n",
       "    var button = $('<button class=\"btn btn-mini btn-primary\" href=\"#\" title=\"Stop Interaction\"><i class=\"fa fa-power-off icon-remove icon-large\"></i></button>');\n",
       "    button.click(function (evt) { fig.handle_close(fig, {}); } );\n",
       "    button.mouseover('Stop Interaction', toolbar_mouse_event);\n",
       "    buttongrp.append(button);\n",
       "    var titlebar = this.root.find($('.ui-dialog-titlebar'));\n",
       "    titlebar.prepend(buttongrp);\n",
       "}\n",
       "\n",
       "mpl.figure.prototype._root_extra_style = function(el){\n",
       "    var fig = this\n",
       "    el.on(\"remove\", function(){\n",
       "\tfig.close_ws(fig, {});\n",
       "    });\n",
       "}\n",
       "\n",
       "mpl.figure.prototype._canvas_extra_style = function(el){\n",
       "    // this is important to make the div 'focusable\n",
       "    el.attr('tabindex', 0)\n",
       "    // reach out to IPython and tell the keyboard manager to turn it's self\n",
       "    // off when our div gets focus\n",
       "\n",
       "    // location in version 3\n",
       "    if (IPython.notebook.keyboard_manager) {\n",
       "        IPython.notebook.keyboard_manager.register_events(el);\n",
       "    }\n",
       "    else {\n",
       "        // location in version 2\n",
       "        IPython.keyboard_manager.register_events(el);\n",
       "    }\n",
       "\n",
       "}\n",
       "\n",
       "mpl.figure.prototype._key_event_extra = function(event, name) {\n",
       "    var manager = IPython.notebook.keyboard_manager;\n",
       "    if (!manager)\n",
       "        manager = IPython.keyboard_manager;\n",
       "\n",
       "    // Check for shift+enter\n",
       "    if (event.shiftKey && event.which == 13) {\n",
       "        this.canvas_div.blur();\n",
       "        // select the cell after this one\n",
       "        var index = IPython.notebook.find_cell_index(this.cell_info[0]);\n",
       "        IPython.notebook.select(index + 1);\n",
       "    }\n",
       "}\n",
       "\n",
       "mpl.figure.prototype.handle_save = function(fig, msg) {\n",
       "    fig.ondownload(fig, null);\n",
       "}\n",
       "\n",
       "\n",
       "mpl.find_output_cell = function(html_output) {\n",
       "    // Return the cell and output element which can be found *uniquely* in the notebook.\n",
       "    // Note - this is a bit hacky, but it is done because the \"notebook_saving.Notebook\"\n",
       "    // IPython event is triggered only after the cells have been serialised, which for\n",
       "    // our purposes (turning an active figure into a static one), is too late.\n",
       "    var cells = IPython.notebook.get_cells();\n",
       "    var ncells = cells.length;\n",
       "    for (var i=0; i<ncells; i++) {\n",
       "        var cell = cells[i];\n",
       "        if (cell.cell_type === 'code'){\n",
       "            for (var j=0; j<cell.output_area.outputs.length; j++) {\n",
       "                var data = cell.output_area.outputs[j];\n",
       "                if (data.data) {\n",
       "                    // IPython >= 3 moved mimebundle to data attribute of output\n",
       "                    data = data.data;\n",
       "                }\n",
       "                if (data['text/html'] == html_output) {\n",
       "                    return [cell, data, j];\n",
       "                }\n",
       "            }\n",
       "        }\n",
       "    }\n",
       "}\n",
       "\n",
       "// Register the function which deals with the matplotlib target/channel.\n",
       "// The kernel may be null if the page has been refreshed.\n",
       "if (IPython.notebook.kernel != null) {\n",
       "    IPython.notebook.kernel.comm_manager.register_target('matplotlib', mpl.mpl_figure_comm);\n",
       "}\n"
      ],
      "text/plain": [
       "<IPython.core.display.Javascript object>"
      ]
     },
     "metadata": {},
     "output_type": "display_data"
    },
    {
     "data": {
      "text/html": [
       "<img src=\"data:image/png;base64,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\" width=\"1000\">"
      ],
      "text/plain": [
       "<IPython.core.display.HTML object>"
      ]
     },
     "metadata": {},
     "output_type": "display_data"
    }
   ],
   "source": [
    "s_df = main_df.copy()\n",
    "\n",
    "injury_series = s_df.groupby(by = 'Name')['Days Out'].sum()\n",
    "injury_series = injury_series.sort_values(ascending = False)\n",
    "\n",
    "fig = plt.figure()\n",
    "\n",
    "\n",
    "init_plot((10, 10), \"#b3e5fc\")\n",
    "ax = sns.barplot(injury_series[:20].index, injury_series[:20].values, palette= sns.light_palette(\"navy\", reverse=True))\n",
    "stylize_plot(ax, \"Name\" , \"Days Injured\", \"Injury History Of MUFC Players 2018/19 Season\")"
   ]
  },
  {
   "cell_type": "code",
   "execution_count": 247,
   "metadata": {
    "hidden": true
   },
   "outputs": [
    {
     "data": {
      "application/javascript": [
       "/* Put everything inside the global mpl namespace */\n",
       "window.mpl = {};\n",
       "\n",
       "\n",
       "mpl.get_websocket_type = function() {\n",
       "    if (typeof(WebSocket) !== 'undefined') {\n",
       "        return WebSocket;\n",
       "    } else if (typeof(MozWebSocket) !== 'undefined') {\n",
       "        return MozWebSocket;\n",
       "    } else {\n",
       "        alert('Your browser does not have WebSocket support.' +\n",
       "              'Please try Chrome, Safari or Firefox ≥ 6. ' +\n",
       "              'Firefox 4 and 5 are also supported but you ' +\n",
       "              'have to enable WebSockets in about:config.');\n",
       "    };\n",
       "}\n",
       "\n",
       "mpl.figure = function(figure_id, websocket, ondownload, parent_element) {\n",
       "    this.id = figure_id;\n",
       "\n",
       "    this.ws = websocket;\n",
       "\n",
       "    this.supports_binary = (this.ws.binaryType != undefined);\n",
       "\n",
       "    if (!this.supports_binary) {\n",
       "        var warnings = document.getElementById(\"mpl-warnings\");\n",
       "        if (warnings) {\n",
       "            warnings.style.display = 'block';\n",
       "            warnings.textContent = (\n",
       "                \"This browser does not support binary websocket messages. \" +\n",
       "                    \"Performance may be slow.\");\n",
       "        }\n",
       "    }\n",
       "\n",
       "    this.imageObj = new Image();\n",
       "\n",
       "    this.context = undefined;\n",
       "    this.message = undefined;\n",
       "    this.canvas = undefined;\n",
       "    this.rubberband_canvas = undefined;\n",
       "    this.rubberband_context = undefined;\n",
       "    this.format_dropdown = undefined;\n",
       "\n",
       "    this.image_mode = 'full';\n",
       "\n",
       "    this.root = $('<div/>');\n",
       "    this._root_extra_style(this.root)\n",
       "    this.root.attr('style', 'display: inline-block');\n",
       "\n",
       "    $(parent_element).append(this.root);\n",
       "\n",
       "    this._init_header(this);\n",
       "    this._init_canvas(this);\n",
       "    this._init_toolbar(this);\n",
       "\n",
       "    var fig = this;\n",
       "\n",
       "    this.waiting = false;\n",
       "\n",
       "    this.ws.onopen =  function () {\n",
       "            fig.send_message(\"supports_binary\", {value: fig.supports_binary});\n",
       "            fig.send_message(\"send_image_mode\", {});\n",
       "            if (mpl.ratio != 1) {\n",
       "                fig.send_message(\"set_dpi_ratio\", {'dpi_ratio': mpl.ratio});\n",
       "            }\n",
       "            fig.send_message(\"refresh\", {});\n",
       "        }\n",
       "\n",
       "    this.imageObj.onload = function() {\n",
       "            if (fig.image_mode == 'full') {\n",
       "                // Full images could contain transparency (where diff images\n",
       "                // almost always do), so we need to clear the canvas so that\n",
       "                // there is no ghosting.\n",
       "                fig.context.clearRect(0, 0, fig.canvas.width, fig.canvas.height);\n",
       "            }\n",
       "            fig.context.drawImage(fig.imageObj, 0, 0);\n",
       "        };\n",
       "\n",
       "    this.imageObj.onunload = function() {\n",
       "        this.ws.close();\n",
       "    }\n",
       "\n",
       "    this.ws.onmessage = this._make_on_message_function(this);\n",
       "\n",
       "    this.ondownload = ondownload;\n",
       "}\n",
       "\n",
       "mpl.figure.prototype._init_header = function() {\n",
       "    var titlebar = $(\n",
       "        '<div class=\"ui-dialog-titlebar ui-widget-header ui-corner-all ' +\n",
       "        'ui-helper-clearfix\"/>');\n",
       "    var titletext = $(\n",
       "        '<div class=\"ui-dialog-title\" style=\"width: 100%; ' +\n",
       "        'text-align: center; padding: 3px;\"/>');\n",
       "    titlebar.append(titletext)\n",
       "    this.root.append(titlebar);\n",
       "    this.header = titletext[0];\n",
       "}\n",
       "\n",
       "\n",
       "\n",
       "mpl.figure.prototype._canvas_extra_style = function(canvas_div) {\n",
       "\n",
       "}\n",
       "\n",
       "\n",
       "mpl.figure.prototype._root_extra_style = function(canvas_div) {\n",
       "\n",
       "}\n",
       "\n",
       "mpl.figure.prototype._init_canvas = function() {\n",
       "    var fig = this;\n",
       "\n",
       "    var canvas_div = $('<div/>');\n",
       "\n",
       "    canvas_div.attr('style', 'position: relative; clear: both; outline: 0');\n",
       "\n",
       "    function canvas_keyboard_event(event) {\n",
       "        return fig.key_event(event, event['data']);\n",
       "    }\n",
       "\n",
       "    canvas_div.keydown('key_press', canvas_keyboard_event);\n",
       "    canvas_div.keyup('key_release', canvas_keyboard_event);\n",
       "    this.canvas_div = canvas_div\n",
       "    this._canvas_extra_style(canvas_div)\n",
       "    this.root.append(canvas_div);\n",
       "\n",
       "    var canvas = $('<canvas/>');\n",
       "    canvas.addClass('mpl-canvas');\n",
       "    canvas.attr('style', \"left: 0; top: 0; z-index: 0; outline: 0\")\n",
       "\n",
       "    this.canvas = canvas[0];\n",
       "    this.context = canvas[0].getContext(\"2d\");\n",
       "\n",
       "    var backingStore = this.context.backingStorePixelRatio ||\n",
       "\tthis.context.webkitBackingStorePixelRatio ||\n",
       "\tthis.context.mozBackingStorePixelRatio ||\n",
       "\tthis.context.msBackingStorePixelRatio ||\n",
       "\tthis.context.oBackingStorePixelRatio ||\n",
       "\tthis.context.backingStorePixelRatio || 1;\n",
       "\n",
       "    mpl.ratio = (window.devicePixelRatio || 1) / backingStore;\n",
       "\n",
       "    var rubberband = $('<canvas/>');\n",
       "    rubberband.attr('style', \"position: absolute; left: 0; top: 0; z-index: 1;\")\n",
       "\n",
       "    var pass_mouse_events = true;\n",
       "\n",
       "    canvas_div.resizable({\n",
       "        start: function(event, ui) {\n",
       "            pass_mouse_events = false;\n",
       "        },\n",
       "        resize: function(event, ui) {\n",
       "            fig.request_resize(ui.size.width, ui.size.height);\n",
       "        },\n",
       "        stop: function(event, ui) {\n",
       "            pass_mouse_events = true;\n",
       "            fig.request_resize(ui.size.width, ui.size.height);\n",
       "        },\n",
       "    });\n",
       "\n",
       "    function mouse_event_fn(event) {\n",
       "        if (pass_mouse_events)\n",
       "            return fig.mouse_event(event, event['data']);\n",
       "    }\n",
       "\n",
       "    rubberband.mousedown('button_press', mouse_event_fn);\n",
       "    rubberband.mouseup('button_release', mouse_event_fn);\n",
       "    // Throttle sequential mouse events to 1 every 20ms.\n",
       "    rubberband.mousemove('motion_notify', mouse_event_fn);\n",
       "\n",
       "    rubberband.mouseenter('figure_enter', mouse_event_fn);\n",
       "    rubberband.mouseleave('figure_leave', mouse_event_fn);\n",
       "\n",
       "    canvas_div.on(\"wheel\", function (event) {\n",
       "        event = event.originalEvent;\n",
       "        event['data'] = 'scroll'\n",
       "        if (event.deltaY < 0) {\n",
       "            event.step = 1;\n",
       "        } else {\n",
       "            event.step = -1;\n",
       "        }\n",
       "        mouse_event_fn(event);\n",
       "    });\n",
       "\n",
       "    canvas_div.append(canvas);\n",
       "    canvas_div.append(rubberband);\n",
       "\n",
       "    this.rubberband = rubberband;\n",
       "    this.rubberband_canvas = rubberband[0];\n",
       "    this.rubberband_context = rubberband[0].getContext(\"2d\");\n",
       "    this.rubberband_context.strokeStyle = \"#000000\";\n",
       "\n",
       "    this._resize_canvas = function(width, height) {\n",
       "        // Keep the size of the canvas, canvas container, and rubber band\n",
       "        // canvas in synch.\n",
       "        canvas_div.css('width', width)\n",
       "        canvas_div.css('height', height)\n",
       "\n",
       "        canvas.attr('width', width * mpl.ratio);\n",
       "        canvas.attr('height', height * mpl.ratio);\n",
       "        canvas.attr('style', 'width: ' + width + 'px; height: ' + height + 'px;');\n",
       "\n",
       "        rubberband.attr('width', width);\n",
       "        rubberband.attr('height', height);\n",
       "    }\n",
       "\n",
       "    // Set the figure to an initial 600x600px, this will subsequently be updated\n",
       "    // upon first draw.\n",
       "    this._resize_canvas(600, 600);\n",
       "\n",
       "    // Disable right mouse context menu.\n",
       "    $(this.rubberband_canvas).bind(\"contextmenu\",function(e){\n",
       "        return false;\n",
       "    });\n",
       "\n",
       "    function set_focus () {\n",
       "        canvas.focus();\n",
       "        canvas_div.focus();\n",
       "    }\n",
       "\n",
       "    window.setTimeout(set_focus, 100);\n",
       "}\n",
       "\n",
       "mpl.figure.prototype._init_toolbar = function() {\n",
       "    var fig = this;\n",
       "\n",
       "    var nav_element = $('<div/>')\n",
       "    nav_element.attr('style', 'width: 100%');\n",
       "    this.root.append(nav_element);\n",
       "\n",
       "    // Define a callback function for later on.\n",
       "    function toolbar_event(event) {\n",
       "        return fig.toolbar_button_onclick(event['data']);\n",
       "    }\n",
       "    function toolbar_mouse_event(event) {\n",
       "        return fig.toolbar_button_onmouseover(event['data']);\n",
       "    }\n",
       "\n",
       "    for(var toolbar_ind in mpl.toolbar_items) {\n",
       "        var name = mpl.toolbar_items[toolbar_ind][0];\n",
       "        var tooltip = mpl.toolbar_items[toolbar_ind][1];\n",
       "        var image = mpl.toolbar_items[toolbar_ind][2];\n",
       "        var method_name = mpl.toolbar_items[toolbar_ind][3];\n",
       "\n",
       "        if (!name) {\n",
       "            // put a spacer in here.\n",
       "            continue;\n",
       "        }\n",
       "        var button = $('<button/>');\n",
       "        button.addClass('ui-button ui-widget ui-state-default ui-corner-all ' +\n",
       "                        'ui-button-icon-only');\n",
       "        button.attr('role', 'button');\n",
       "        button.attr('aria-disabled', 'false');\n",
       "        button.click(method_name, toolbar_event);\n",
       "        button.mouseover(tooltip, toolbar_mouse_event);\n",
       "\n",
       "        var icon_img = $('<span/>');\n",
       "        icon_img.addClass('ui-button-icon-primary ui-icon');\n",
       "        icon_img.addClass(image);\n",
       "        icon_img.addClass('ui-corner-all');\n",
       "\n",
       "        var tooltip_span = $('<span/>');\n",
       "        tooltip_span.addClass('ui-button-text');\n",
       "        tooltip_span.html(tooltip);\n",
       "\n",
       "        button.append(icon_img);\n",
       "        button.append(tooltip_span);\n",
       "\n",
       "        nav_element.append(button);\n",
       "    }\n",
       "\n",
       "    var fmt_picker_span = $('<span/>');\n",
       "\n",
       "    var fmt_picker = $('<select/>');\n",
       "    fmt_picker.addClass('mpl-toolbar-option ui-widget ui-widget-content');\n",
       "    fmt_picker_span.append(fmt_picker);\n",
       "    nav_element.append(fmt_picker_span);\n",
       "    this.format_dropdown = fmt_picker[0];\n",
       "\n",
       "    for (var ind in mpl.extensions) {\n",
       "        var fmt = mpl.extensions[ind];\n",
       "        var option = $(\n",
       "            '<option/>', {selected: fmt === mpl.default_extension}).html(fmt);\n",
       "        fmt_picker.append(option)\n",
       "    }\n",
       "\n",
       "    // Add hover states to the ui-buttons\n",
       "    $( \".ui-button\" ).hover(\n",
       "        function() { $(this).addClass(\"ui-state-hover\");},\n",
       "        function() { $(this).removeClass(\"ui-state-hover\");}\n",
       "    );\n",
       "\n",
       "    var status_bar = $('<span class=\"mpl-message\"/>');\n",
       "    nav_element.append(status_bar);\n",
       "    this.message = status_bar[0];\n",
       "}\n",
       "\n",
       "mpl.figure.prototype.request_resize = function(x_pixels, y_pixels) {\n",
       "    // Request matplotlib to resize the figure. Matplotlib will then trigger a resize in the client,\n",
       "    // which will in turn request a refresh of the image.\n",
       "    this.send_message('resize', {'width': x_pixels, 'height': y_pixels});\n",
       "}\n",
       "\n",
       "mpl.figure.prototype.send_message = function(type, properties) {\n",
       "    properties['type'] = type;\n",
       "    properties['figure_id'] = this.id;\n",
       "    this.ws.send(JSON.stringify(properties));\n",
       "}\n",
       "\n",
       "mpl.figure.prototype.send_draw_message = function() {\n",
       "    if (!this.waiting) {\n",
       "        this.waiting = true;\n",
       "        this.ws.send(JSON.stringify({type: \"draw\", figure_id: this.id}));\n",
       "    }\n",
       "}\n",
       "\n",
       "\n",
       "mpl.figure.prototype.handle_save = function(fig, msg) {\n",
       "    var format_dropdown = fig.format_dropdown;\n",
       "    var format = format_dropdown.options[format_dropdown.selectedIndex].value;\n",
       "    fig.ondownload(fig, format);\n",
       "}\n",
       "\n",
       "\n",
       "mpl.figure.prototype.handle_resize = function(fig, msg) {\n",
       "    var size = msg['size'];\n",
       "    if (size[0] != fig.canvas.width || size[1] != fig.canvas.height) {\n",
       "        fig._resize_canvas(size[0], size[1]);\n",
       "        fig.send_message(\"refresh\", {});\n",
       "    };\n",
       "}\n",
       "\n",
       "mpl.figure.prototype.handle_rubberband = function(fig, msg) {\n",
       "    var x0 = msg['x0'] / mpl.ratio;\n",
       "    var y0 = (fig.canvas.height - msg['y0']) / mpl.ratio;\n",
       "    var x1 = msg['x1'] / mpl.ratio;\n",
       "    var y1 = (fig.canvas.height - msg['y1']) / mpl.ratio;\n",
       "    x0 = Math.floor(x0) + 0.5;\n",
       "    y0 = Math.floor(y0) + 0.5;\n",
       "    x1 = Math.floor(x1) + 0.5;\n",
       "    y1 = Math.floor(y1) + 0.5;\n",
       "    var min_x = Math.min(x0, x1);\n",
       "    var min_y = Math.min(y0, y1);\n",
       "    var width = Math.abs(x1 - x0);\n",
       "    var height = Math.abs(y1 - y0);\n",
       "\n",
       "    fig.rubberband_context.clearRect(\n",
       "        0, 0, fig.canvas.width, fig.canvas.height);\n",
       "\n",
       "    fig.rubberband_context.strokeRect(min_x, min_y, width, height);\n",
       "}\n",
       "\n",
       "mpl.figure.prototype.handle_figure_label = function(fig, msg) {\n",
       "    // Updates the figure title.\n",
       "    fig.header.textContent = msg['label'];\n",
       "}\n",
       "\n",
       "mpl.figure.prototype.handle_cursor = function(fig, msg) {\n",
       "    var cursor = msg['cursor'];\n",
       "    switch(cursor)\n",
       "    {\n",
       "    case 0:\n",
       "        cursor = 'pointer';\n",
       "        break;\n",
       "    case 1:\n",
       "        cursor = 'default';\n",
       "        break;\n",
       "    case 2:\n",
       "        cursor = 'crosshair';\n",
       "        break;\n",
       "    case 3:\n",
       "        cursor = 'move';\n",
       "        break;\n",
       "    }\n",
       "    fig.rubberband_canvas.style.cursor = cursor;\n",
       "}\n",
       "\n",
       "mpl.figure.prototype.handle_message = function(fig, msg) {\n",
       "    fig.message.textContent = msg['message'];\n",
       "}\n",
       "\n",
       "mpl.figure.prototype.handle_draw = function(fig, msg) {\n",
       "    // Request the server to send over a new figure.\n",
       "    fig.send_draw_message();\n",
       "}\n",
       "\n",
       "mpl.figure.prototype.handle_image_mode = function(fig, msg) {\n",
       "    fig.image_mode = msg['mode'];\n",
       "}\n",
       "\n",
       "mpl.figure.prototype.updated_canvas_event = function() {\n",
       "    // Called whenever the canvas gets updated.\n",
       "    this.send_message(\"ack\", {});\n",
       "}\n",
       "\n",
       "// A function to construct a web socket function for onmessage handling.\n",
       "// Called in the figure constructor.\n",
       "mpl.figure.prototype._make_on_message_function = function(fig) {\n",
       "    return function socket_on_message(evt) {\n",
       "        if (evt.data instanceof Blob) {\n",
       "            /* FIXME: We get \"Resource interpreted as Image but\n",
       "             * transferred with MIME type text/plain:\" errors on\n",
       "             * Chrome.  But how to set the MIME type?  It doesn't seem\n",
       "             * to be part of the websocket stream */\n",
       "            evt.data.type = \"image/png\";\n",
       "\n",
       "            /* Free the memory for the previous frames */\n",
       "            if (fig.imageObj.src) {\n",
       "                (window.URL || window.webkitURL).revokeObjectURL(\n",
       "                    fig.imageObj.src);\n",
       "            }\n",
       "\n",
       "            fig.imageObj.src = (window.URL || window.webkitURL).createObjectURL(\n",
       "                evt.data);\n",
       "            fig.updated_canvas_event();\n",
       "            fig.waiting = false;\n",
       "            return;\n",
       "        }\n",
       "        else if (typeof evt.data === 'string' && evt.data.slice(0, 21) == \"data:image/png;base64\") {\n",
       "            fig.imageObj.src = evt.data;\n",
       "            fig.updated_canvas_event();\n",
       "            fig.waiting = false;\n",
       "            return;\n",
       "        }\n",
       "\n",
       "        var msg = JSON.parse(evt.data);\n",
       "        var msg_type = msg['type'];\n",
       "\n",
       "        // Call the  \"handle_{type}\" callback, which takes\n",
       "        // the figure and JSON message as its only arguments.\n",
       "        try {\n",
       "            var callback = fig[\"handle_\" + msg_type];\n",
       "        } catch (e) {\n",
       "            console.log(\"No handler for the '\" + msg_type + \"' message type: \", msg);\n",
       "            return;\n",
       "        }\n",
       "\n",
       "        if (callback) {\n",
       "            try {\n",
       "                // console.log(\"Handling '\" + msg_type + \"' message: \", msg);\n",
       "                callback(fig, msg);\n",
       "            } catch (e) {\n",
       "                console.log(\"Exception inside the 'handler_\" + msg_type + \"' callback:\", e, e.stack, msg);\n",
       "            }\n",
       "        }\n",
       "    };\n",
       "}\n",
       "\n",
       "// from http://stackoverflow.com/questions/1114465/getting-mouse-location-in-canvas\n",
       "mpl.findpos = function(e) {\n",
       "    //this section is from http://www.quirksmode.org/js/events_properties.html\n",
       "    var targ;\n",
       "    if (!e)\n",
       "        e = window.event;\n",
       "    if (e.target)\n",
       "        targ = e.target;\n",
       "    else if (e.srcElement)\n",
       "        targ = e.srcElement;\n",
       "    if (targ.nodeType == 3) // defeat Safari bug\n",
       "        targ = targ.parentNode;\n",
       "\n",
       "    // jQuery normalizes the pageX and pageY\n",
       "    // pageX,Y are the mouse positions relative to the document\n",
       "    // offset() returns the position of the element relative to the document\n",
       "    var x = e.pageX - $(targ).offset().left;\n",
       "    var y = e.pageY - $(targ).offset().top;\n",
       "\n",
       "    return {\"x\": x, \"y\": y};\n",
       "};\n",
       "\n",
       "/*\n",
       " * return a copy of an object with only non-object keys\n",
       " * we need this to avoid circular references\n",
       " * http://stackoverflow.com/a/24161582/3208463\n",
       " */\n",
       "function simpleKeys (original) {\n",
       "  return Object.keys(original).reduce(function (obj, key) {\n",
       "    if (typeof original[key] !== 'object')\n",
       "        obj[key] = original[key]\n",
       "    return obj;\n",
       "  }, {});\n",
       "}\n",
       "\n",
       "mpl.figure.prototype.mouse_event = function(event, name) {\n",
       "    var canvas_pos = mpl.findpos(event)\n",
       "\n",
       "    if (name === 'button_press')\n",
       "    {\n",
       "        this.canvas.focus();\n",
       "        this.canvas_div.focus();\n",
       "    }\n",
       "\n",
       "    var x = canvas_pos.x * mpl.ratio;\n",
       "    var y = canvas_pos.y * mpl.ratio;\n",
       "\n",
       "    this.send_message(name, {x: x, y: y, button: event.button,\n",
       "                             step: event.step,\n",
       "                             guiEvent: simpleKeys(event)});\n",
       "\n",
       "    /* This prevents the web browser from automatically changing to\n",
       "     * the text insertion cursor when the button is pressed.  We want\n",
       "     * to control all of the cursor setting manually through the\n",
       "     * 'cursor' event from matplotlib */\n",
       "    event.preventDefault();\n",
       "    return false;\n",
       "}\n",
       "\n",
       "mpl.figure.prototype._key_event_extra = function(event, name) {\n",
       "    // Handle any extra behaviour associated with a key event\n",
       "}\n",
       "\n",
       "mpl.figure.prototype.key_event = function(event, name) {\n",
       "\n",
       "    // Prevent repeat events\n",
       "    if (name == 'key_press')\n",
       "    {\n",
       "        if (event.which === this._key)\n",
       "            return;\n",
       "        else\n",
       "            this._key = event.which;\n",
       "    }\n",
       "    if (name == 'key_release')\n",
       "        this._key = null;\n",
       "\n",
       "    var value = '';\n",
       "    if (event.ctrlKey && event.which != 17)\n",
       "        value += \"ctrl+\";\n",
       "    if (event.altKey && event.which != 18)\n",
       "        value += \"alt+\";\n",
       "    if (event.shiftKey && event.which != 16)\n",
       "        value += \"shift+\";\n",
       "\n",
       "    value += 'k';\n",
       "    value += event.which.toString();\n",
       "\n",
       "    this._key_event_extra(event, name);\n",
       "\n",
       "    this.send_message(name, {key: value,\n",
       "                             guiEvent: simpleKeys(event)});\n",
       "    return false;\n",
       "}\n",
       "\n",
       "mpl.figure.prototype.toolbar_button_onclick = function(name) {\n",
       "    if (name == 'download') {\n",
       "        this.handle_save(this, null);\n",
       "    } else {\n",
       "        this.send_message(\"toolbar_button\", {name: name});\n",
       "    }\n",
       "};\n",
       "\n",
       "mpl.figure.prototype.toolbar_button_onmouseover = function(tooltip) {\n",
       "    this.message.textContent = tooltip;\n",
       "};\n",
       "mpl.toolbar_items = [[\"Home\", \"Reset original view\", \"fa fa-home icon-home\", \"home\"], [\"Back\", \"Back to  previous view\", \"fa fa-arrow-left icon-arrow-left\", \"back\"], [\"Forward\", \"Forward to next view\", \"fa fa-arrow-right icon-arrow-right\", \"forward\"], [\"\", \"\", \"\", \"\"], [\"Pan\", \"Pan axes with left mouse, zoom with right\", \"fa fa-arrows icon-move\", \"pan\"], [\"Zoom\", \"Zoom to rectangle\", \"fa fa-square-o icon-check-empty\", \"zoom\"], [\"\", \"\", \"\", \"\"], [\"Download\", \"Download plot\", \"fa fa-floppy-o icon-save\", \"download\"]];\n",
       "\n",
       "mpl.extensions = [\"eps\", \"jpeg\", \"pdf\", \"png\", \"ps\", \"raw\", \"svg\", \"tif\"];\n",
       "\n",
       "mpl.default_extension = \"png\";var comm_websocket_adapter = function(comm) {\n",
       "    // Create a \"websocket\"-like object which calls the given IPython comm\n",
       "    // object with the appropriate methods. Currently this is a non binary\n",
       "    // socket, so there is still some room for performance tuning.\n",
       "    var ws = {};\n",
       "\n",
       "    ws.close = function() {\n",
       "        comm.close()\n",
       "    };\n",
       "    ws.send = function(m) {\n",
       "        //console.log('sending', m);\n",
       "        comm.send(m);\n",
       "    };\n",
       "    // Register the callback with on_msg.\n",
       "    comm.on_msg(function(msg) {\n",
       "        //console.log('receiving', msg['content']['data'], msg);\n",
       "        // Pass the mpl event to the overriden (by mpl) onmessage function.\n",
       "        ws.onmessage(msg['content']['data'])\n",
       "    });\n",
       "    return ws;\n",
       "}\n",
       "\n",
       "mpl.mpl_figure_comm = function(comm, msg) {\n",
       "    // This is the function which gets called when the mpl process\n",
       "    // starts-up an IPython Comm through the \"matplotlib\" channel.\n",
       "\n",
       "    var id = msg.content.data.id;\n",
       "    // Get hold of the div created by the display call when the Comm\n",
       "    // socket was opened in Python.\n",
       "    var element = $(\"#\" + id);\n",
       "    var ws_proxy = comm_websocket_adapter(comm)\n",
       "\n",
       "    function ondownload(figure, format) {\n",
       "        window.open(figure.imageObj.src);\n",
       "    }\n",
       "\n",
       "    var fig = new mpl.figure(id, ws_proxy,\n",
       "                           ondownload,\n",
       "                           element.get(0));\n",
       "\n",
       "    // Call onopen now - mpl needs it, as it is assuming we've passed it a real\n",
       "    // web socket which is closed, not our websocket->open comm proxy.\n",
       "    ws_proxy.onopen();\n",
       "\n",
       "    fig.parent_element = element.get(0);\n",
       "    fig.cell_info = mpl.find_output_cell(\"<div id='\" + id + \"'></div>\");\n",
       "    if (!fig.cell_info) {\n",
       "        console.error(\"Failed to find cell for figure\", id, fig);\n",
       "        return;\n",
       "    }\n",
       "\n",
       "    var output_index = fig.cell_info[2]\n",
       "    var cell = fig.cell_info[0];\n",
       "\n",
       "};\n",
       "\n",
       "mpl.figure.prototype.handle_close = function(fig, msg) {\n",
       "    var width = fig.canvas.width/mpl.ratio\n",
       "    fig.root.unbind('remove')\n",
       "\n",
       "    // Update the output cell to use the data from the current canvas.\n",
       "    fig.push_to_output();\n",
       "    var dataURL = fig.canvas.toDataURL();\n",
       "    // Re-enable the keyboard manager in IPython - without this line, in FF,\n",
       "    // the notebook keyboard shortcuts fail.\n",
       "    IPython.keyboard_manager.enable()\n",
       "    $(fig.parent_element).html('<img src=\"' + dataURL + '\" width=\"' + width + '\">');\n",
       "    fig.close_ws(fig, msg);\n",
       "}\n",
       "\n",
       "mpl.figure.prototype.close_ws = function(fig, msg){\n",
       "    fig.send_message('closing', msg);\n",
       "    // fig.ws.close()\n",
       "}\n",
       "\n",
       "mpl.figure.prototype.push_to_output = function(remove_interactive) {\n",
       "    // Turn the data on the canvas into data in the output cell.\n",
       "    var width = this.canvas.width/mpl.ratio\n",
       "    var dataURL = this.canvas.toDataURL();\n",
       "    this.cell_info[1]['text/html'] = '<img src=\"' + dataURL + '\" width=\"' + width + '\">';\n",
       "}\n",
       "\n",
       "mpl.figure.prototype.updated_canvas_event = function() {\n",
       "    // Tell IPython that the notebook contents must change.\n",
       "    IPython.notebook.set_dirty(true);\n",
       "    this.send_message(\"ack\", {});\n",
       "    var fig = this;\n",
       "    // Wait a second, then push the new image to the DOM so\n",
       "    // that it is saved nicely (might be nice to debounce this).\n",
       "    setTimeout(function () { fig.push_to_output() }, 1000);\n",
       "}\n",
       "\n",
       "mpl.figure.prototype._init_toolbar = function() {\n",
       "    var fig = this;\n",
       "\n",
       "    var nav_element = $('<div/>')\n",
       "    nav_element.attr('style', 'width: 100%');\n",
       "    this.root.append(nav_element);\n",
       "\n",
       "    // Define a callback function for later on.\n",
       "    function toolbar_event(event) {\n",
       "        return fig.toolbar_button_onclick(event['data']);\n",
       "    }\n",
       "    function toolbar_mouse_event(event) {\n",
       "        return fig.toolbar_button_onmouseover(event['data']);\n",
       "    }\n",
       "\n",
       "    for(var toolbar_ind in mpl.toolbar_items){\n",
       "        var name = mpl.toolbar_items[toolbar_ind][0];\n",
       "        var tooltip = mpl.toolbar_items[toolbar_ind][1];\n",
       "        var image = mpl.toolbar_items[toolbar_ind][2];\n",
       "        var method_name = mpl.toolbar_items[toolbar_ind][3];\n",
       "\n",
       "        if (!name) { continue; };\n",
       "\n",
       "        var button = $('<button class=\"btn btn-default\" href=\"#\" title=\"' + name + '\"><i class=\"fa ' + image + ' fa-lg\"></i></button>');\n",
       "        button.click(method_name, toolbar_event);\n",
       "        button.mouseover(tooltip, toolbar_mouse_event);\n",
       "        nav_element.append(button);\n",
       "    }\n",
       "\n",
       "    // Add the status bar.\n",
       "    var status_bar = $('<span class=\"mpl-message\" style=\"text-align:right; float: right;\"/>');\n",
       "    nav_element.append(status_bar);\n",
       "    this.message = status_bar[0];\n",
       "\n",
       "    // Add the close button to the window.\n",
       "    var buttongrp = $('<div class=\"btn-group inline pull-right\"></div>');\n",
       "    var button = $('<button class=\"btn btn-mini btn-primary\" href=\"#\" title=\"Stop Interaction\"><i class=\"fa fa-power-off icon-remove icon-large\"></i></button>');\n",
       "    button.click(function (evt) { fig.handle_close(fig, {}); } );\n",
       "    button.mouseover('Stop Interaction', toolbar_mouse_event);\n",
       "    buttongrp.append(button);\n",
       "    var titlebar = this.root.find($('.ui-dialog-titlebar'));\n",
       "    titlebar.prepend(buttongrp);\n",
       "}\n",
       "\n",
       "mpl.figure.prototype._root_extra_style = function(el){\n",
       "    var fig = this\n",
       "    el.on(\"remove\", function(){\n",
       "\tfig.close_ws(fig, {});\n",
       "    });\n",
       "}\n",
       "\n",
       "mpl.figure.prototype._canvas_extra_style = function(el){\n",
       "    // this is important to make the div 'focusable\n",
       "    el.attr('tabindex', 0)\n",
       "    // reach out to IPython and tell the keyboard manager to turn it's self\n",
       "    // off when our div gets focus\n",
       "\n",
       "    // location in version 3\n",
       "    if (IPython.notebook.keyboard_manager) {\n",
       "        IPython.notebook.keyboard_manager.register_events(el);\n",
       "    }\n",
       "    else {\n",
       "        // location in version 2\n",
       "        IPython.keyboard_manager.register_events(el);\n",
       "    }\n",
       "\n",
       "}\n",
       "\n",
       "mpl.figure.prototype._key_event_extra = function(event, name) {\n",
       "    var manager = IPython.notebook.keyboard_manager;\n",
       "    if (!manager)\n",
       "        manager = IPython.keyboard_manager;\n",
       "\n",
       "    // Check for shift+enter\n",
       "    if (event.shiftKey && event.which == 13) {\n",
       "        this.canvas_div.blur();\n",
       "        // select the cell after this one\n",
       "        var index = IPython.notebook.find_cell_index(this.cell_info[0]);\n",
       "        IPython.notebook.select(index + 1);\n",
       "    }\n",
       "}\n",
       "\n",
       "mpl.figure.prototype.handle_save = function(fig, msg) {\n",
       "    fig.ondownload(fig, null);\n",
       "}\n",
       "\n",
       "\n",
       "mpl.find_output_cell = function(html_output) {\n",
       "    // Return the cell and output element which can be found *uniquely* in the notebook.\n",
       "    // Note - this is a bit hacky, but it is done because the \"notebook_saving.Notebook\"\n",
       "    // IPython event is triggered only after the cells have been serialised, which for\n",
       "    // our purposes (turning an active figure into a static one), is too late.\n",
       "    var cells = IPython.notebook.get_cells();\n",
       "    var ncells = cells.length;\n",
       "    for (var i=0; i<ncells; i++) {\n",
       "        var cell = cells[i];\n",
       "        if (cell.cell_type === 'code'){\n",
       "            for (var j=0; j<cell.output_area.outputs.length; j++) {\n",
       "                var data = cell.output_area.outputs[j];\n",
       "                if (data.data) {\n",
       "                    // IPython >= 3 moved mimebundle to data attribute of output\n",
       "                    data = data.data;\n",
       "                }\n",
       "                if (data['text/html'] == html_output) {\n",
       "                    return [cell, data, j];\n",
       "                }\n",
       "            }\n",
       "        }\n",
       "    }\n",
       "}\n",
       "\n",
       "// Register the function which deals with the matplotlib target/channel.\n",
       "// The kernel may be null if the page has been refreshed.\n",
       "if (IPython.notebook.kernel != null) {\n",
       "    IPython.notebook.kernel.comm_manager.register_target('matplotlib', mpl.mpl_figure_comm);\n",
       "}\n"
      ],
      "text/plain": [
       "<IPython.core.display.Javascript object>"
      ]
     },
     "metadata": {},
     "output_type": "display_data"
    },
    {
     "data": {
      "text/html": [
       "<img src=\"data:image/png;base64,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\" width=\"1000\">"
      ],
      "text/plain": [
       "<IPython.core.display.HTML object>"
      ]
     },
     "metadata": {},
     "output_type": "display_data"
    }
   ],
   "source": [
    "main_df = season_df.drop_duplicates()\n",
    "s_df = main_df.copy()\n",
    "\n",
    "#Calculating months in which most injured\n",
    "\n",
    "s_df['Date Injured'] = pd.to_datetime(s_df['Date Injured'])\n",
    "s_df['Date Return'] = pd.to_datetime(s_df['Date Return'])\n",
    "\n",
    "month_series = s_df.reset_index()['Date Injured'].dt.month_name()\n",
    "cnts = month_series.value_counts()\n",
    "\n",
    "plt.figure()\n",
    "\n",
    "init_plot((10, 10), \"#b3e5fc\")\n",
    "ax = sns.barplot(cnts.index, cnts.values, order= SEASON_ORDER, palette = sns.light_palette(\"navy\", reverse=True))\n",
    "stylize_plot(ax, \"Name\" , \"Days Injured\", \"Months in which most injuries occurred (2018/19 Season)\")"
   ]
  },
  {
   "cell_type": "code",
   "execution_count": 251,
   "metadata": {
    "hidden": true
   },
   "outputs": [
    {
     "data": {
      "text/html": [
       "<div>\n",
       "<style scoped>\n",
       "    .dataframe tbody tr th:only-of-type {\n",
       "        vertical-align: middle;\n",
       "    }\n",
       "\n",
       "    .dataframe tbody tr th {\n",
       "        vertical-align: top;\n",
       "    }\n",
       "\n",
       "    .dataframe thead th {\n",
       "        text-align: right;\n",
       "    }\n",
       "</style>\n",
       "<table border=\"1\" class=\"dataframe\">\n",
       "  <thead>\n",
       "    <tr style=\"text-align: right;\">\n",
       "      <th></th>\n",
       "      <th>Team</th>\n",
       "      <th>Name</th>\n",
       "      <th>Season</th>\n",
       "      <th>Injury</th>\n",
       "      <th>Date Injured</th>\n",
       "      <th>Date Return</th>\n",
       "      <th>Days Out</th>\n",
       "      <th>Matches Out</th>\n",
       "    </tr>\n",
       "  </thead>\n",
       "  <tbody>\n",
       "    <tr>\n",
       "      <th>0</th>\n",
       "      <td>Manchester United</td>\n",
       "      <td>Danny Welbeck</td>\n",
       "      <td>18/19</td>\n",
       "      <td>Ankle Injury</td>\n",
       "      <td>Nov 9, 2018</td>\n",
       "      <td>May 28, 2019</td>\n",
       "      <td>200.0</td>\n",
       "      <td>41.0</td>\n",
       "    </tr>\n",
       "    <tr>\n",
       "      <th>1</th>\n",
       "      <td>Manchester United</td>\n",
       "      <td>Danny Welbeck</td>\n",
       "      <td>17/18</td>\n",
       "      <td>Groin Strain</td>\n",
       "      <td>Oct 16, 2017</td>\n",
       "      <td>Nov 18, 2017</td>\n",
       "      <td>33.0</td>\n",
       "      <td>7.0</td>\n",
       "    </tr>\n",
       "    <tr>\n",
       "      <th>2</th>\n",
       "      <td>Manchester United</td>\n",
       "      <td>Danny Welbeck</td>\n",
       "      <td>17/18</td>\n",
       "      <td>Hip Injury</td>\n",
       "      <td>Sep 18, 2017</td>\n",
       "      <td>Oct 12, 2017</td>\n",
       "      <td>24.0</td>\n",
       "      <td>4.0</td>\n",
       "    </tr>\n",
       "    <tr>\n",
       "      <th>3</th>\n",
       "      <td>Manchester United</td>\n",
       "      <td>Danny Welbeck</td>\n",
       "      <td>16/17</td>\n",
       "      <td>Toe Injury</td>\n",
       "      <td>Apr 17, 2017</td>\n",
       "      <td>Apr 20, 2017</td>\n",
       "      <td>3.0</td>\n",
       "      <td>1.0</td>\n",
       "    </tr>\n",
       "    <tr>\n",
       "      <th>4</th>\n",
       "      <td>Manchester United</td>\n",
       "      <td>Danny Welbeck</td>\n",
       "      <td>15/16</td>\n",
       "      <td>Cartilage Damage</td>\n",
       "      <td>May 9, 2016</td>\n",
       "      <td>Jan 2, 2017</td>\n",
       "      <td>238.0</td>\n",
       "      <td>29.0</td>\n",
       "    </tr>\n",
       "    <tr>\n",
       "      <th>5</th>\n",
       "      <td>Manchester United</td>\n",
       "      <td>Danny Welbeck</td>\n",
       "      <td>15/16</td>\n",
       "      <td>Knee Surgery</td>\n",
       "      <td>Sep 3, 2015</td>\n",
       "      <td>Feb 4, 2016</td>\n",
       "      <td>154.0</td>\n",
       "      <td>30.0</td>\n",
       "    </tr>\n",
       "    <tr>\n",
       "      <th>6</th>\n",
       "      <td>Manchester United</td>\n",
       "      <td>Danny Welbeck</td>\n",
       "      <td>14/15</td>\n",
       "      <td>Patella problems</td>\n",
       "      <td>May 4, 2015</td>\n",
       "      <td>Sep 3, 2015</td>\n",
       "      <td>122.0</td>\n",
       "      <td>11.0</td>\n",
       "    </tr>\n",
       "    <tr>\n",
       "      <th>7</th>\n",
       "      <td>Manchester United</td>\n",
       "      <td>Danny Welbeck</td>\n",
       "      <td>14/15</td>\n",
       "      <td>Knee Problems</td>\n",
       "      <td>Mar 30, 2015</td>\n",
       "      <td>Apr 2, 2015</td>\n",
       "      <td>3.0</td>\n",
       "      <td>0.0</td>\n",
       "    </tr>\n",
       "    <tr>\n",
       "      <th>8</th>\n",
       "      <td>Manchester United</td>\n",
       "      <td>Danny Welbeck</td>\n",
       "      <td>11/12</td>\n",
       "      <td>Torn Muscle Fibre</td>\n",
       "      <td>Aug 29, 2011</td>\n",
       "      <td>Sep 19, 2011</td>\n",
       "      <td>21.0</td>\n",
       "      <td>3.0</td>\n",
       "    </tr>\n",
       "    <tr>\n",
       "      <th>9</th>\n",
       "      <td>Manchester United</td>\n",
       "      <td>Danny Welbeck</td>\n",
       "      <td>10/11</td>\n",
       "      <td>Thigh Problems</td>\n",
       "      <td>Jan 6, 2011</td>\n",
       "      <td>Jan 27, 2011</td>\n",
       "      <td>21.0</td>\n",
       "      <td>3.0</td>\n",
       "    </tr>\n",
       "    <tr>\n",
       "      <th>10</th>\n",
       "      <td>Manchester United</td>\n",
       "      <td>Danny Welbeck</td>\n",
       "      <td>09/10</td>\n",
       "      <td>Knee Injury</td>\n",
       "      <td>Mar 25, 2010</td>\n",
       "      <td>May 31, 2010</td>\n",
       "      <td>67.0</td>\n",
       "      <td>9.0</td>\n",
       "    </tr>\n",
       "    <tr>\n",
       "      <th>11</th>\n",
       "      <td>Manchester United</td>\n",
       "      <td>Danny Welbeck</td>\n",
       "      <td>09/10</td>\n",
       "      <td>Knee Problems</td>\n",
       "      <td>Nov 19, 2009</td>\n",
       "      <td>Dec 10, 2009</td>\n",
       "      <td>21.0</td>\n",
       "      <td>6.0</td>\n",
       "    </tr>\n",
       "  </tbody>\n",
       "</table>\n",
       "</div>"
      ],
      "text/plain": [
       "                 Team           Name Season             Injury  Date Injured  \\\n",
       "0   Manchester United  Danny Welbeck  18/19       Ankle Injury   Nov 9, 2018   \n",
       "1   Manchester United  Danny Welbeck  17/18       Groin Strain  Oct 16, 2017   \n",
       "2   Manchester United  Danny Welbeck  17/18         Hip Injury  Sep 18, 2017   \n",
       "3   Manchester United  Danny Welbeck  16/17         Toe Injury  Apr 17, 2017   \n",
       "4   Manchester United  Danny Welbeck  15/16   Cartilage Damage   May 9, 2016   \n",
       "5   Manchester United  Danny Welbeck  15/16       Knee Surgery   Sep 3, 2015   \n",
       "6   Manchester United  Danny Welbeck  14/15   Patella problems   May 4, 2015   \n",
       "7   Manchester United  Danny Welbeck  14/15      Knee Problems  Mar 30, 2015   \n",
       "8   Manchester United  Danny Welbeck  11/12  Torn Muscle Fibre  Aug 29, 2011   \n",
       "9   Manchester United  Danny Welbeck  10/11     Thigh Problems   Jan 6, 2011   \n",
       "10  Manchester United  Danny Welbeck  09/10        Knee Injury  Mar 25, 2010   \n",
       "11  Manchester United  Danny Welbeck  09/10      Knee Problems  Nov 19, 2009   \n",
       "\n",
       "     Date Return  Days Out  Matches Out  \n",
       "0   May 28, 2019     200.0         41.0  \n",
       "1   Nov 18, 2017      33.0          7.0  \n",
       "2   Oct 12, 2017      24.0          4.0  \n",
       "3   Apr 20, 2017       3.0          1.0  \n",
       "4    Jan 2, 2017     238.0         29.0  \n",
       "5    Feb 4, 2016     154.0         30.0  \n",
       "6    Sep 3, 2015     122.0         11.0  \n",
       "7    Apr 2, 2015       3.0          0.0  \n",
       "8   Sep 19, 2011      21.0          3.0  \n",
       "9   Jan 27, 2011      21.0          3.0  \n",
       "10  May 31, 2010      67.0          9.0  \n",
       "11  Dec 10, 2009      21.0          6.0  "
      ]
     },
     "execution_count": 251,
     "metadata": {},
     "output_type": "execute_result"
    }
   ],
   "source": [
    "main_df[main_df['Name'] == 'Danny Welbeck']"
   ]
  },
  {
   "cell_type": "code",
   "execution_count": null,
   "metadata": {
    "collapsed": true,
    "hidden": true
   },
   "outputs": [],
   "source": []
  }
 ],
 "metadata": {
  "kernelspec": {
   "display_name": "Python 3",
   "language": "python",
   "name": "python3"
  },
  "language_info": {
   "codemirror_mode": {
    "name": "ipython",
    "version": 3
   },
   "file_extension": ".py",
   "mimetype": "text/x-python",
   "name": "python",
   "nbconvert_exporter": "python",
   "pygments_lexer": "ipython3",
   "version": "3.6.3"
  }
 },
 "nbformat": 4,
 "nbformat_minor": 2
}
