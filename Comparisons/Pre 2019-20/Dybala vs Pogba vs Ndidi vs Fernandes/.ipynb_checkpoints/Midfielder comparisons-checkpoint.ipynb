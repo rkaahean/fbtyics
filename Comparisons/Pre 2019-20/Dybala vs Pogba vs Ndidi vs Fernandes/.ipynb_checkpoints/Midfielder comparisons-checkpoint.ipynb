{
 "cells": [
  {
   "cell_type": "code",
   "execution_count": 4,
   "metadata": {
    "collapsed": true
   },
   "outputs": [],
   "source": [
    "import pandas as pd\n",
    "import numpy as np\n",
    "import matplotlib\n",
    "import warnings\n",
    "\n",
    "warnings.filterwarnings('ignore')\n",
    "matplotlib.use('nbAgg')\n",
    "\n",
    "import matplotlib.pyplot as plt\n",
    "import seaborn as sns\n",
    "import matplotlib.image as image\n",
    "from matplotlib.cbook import get_sample_data\n",
    "%matplotlib inline"
   ]
  },
  {
   "cell_type": "markdown",
   "metadata": {
    "heading_collapsed": true
   },
   "source": [
    "# 1. Preamble"
   ]
  },
  {
   "cell_type": "markdown",
   "metadata": {
    "hidden": true
   },
   "source": [
    "<h2>Data points that need to be extracted out:</h2>\n",
    "\n",
    "<h2>**1. Filtering**</h2>\n",
    "\n",
    "    - Primary positions is CF (deep lying).\n",
    "    - Only Top 5 Europen leagues.\n",
    "    - 2018/19 Season\n",
    "    - Minimum 1000 Minutes played.\n",
    "   \n",
    "<h2>**2. Player Specific**</h2>\n",
    "   \n",
    "><h3>a. General statistics</h3>\n",
    "   \n",
    "        - Name\n",
    "        - Age\n",
    "        - Team\n",
    "        - Position\n",
    "        - Foot\n",
    "        - Minutes Played\n",
    "        - Goals\n",
    "        - Assists\n",
    "        \n",
    " >  <h3>b. Attacking statistics</h3>\n",
    "   \n",
    "       - Non-penalty goals\n",
    "       - Head goals total\n",
    "       - Shots total\n",
    "       - Shots on target %\n",
    "       - Goal conv., %\n",
    "       - Crosses per 90\n",
    "       - Crosses from left per 90\n",
    "       - Crosses from left, %\n",
    "       - Crosses from right per 90\n",
    "       - Crosses from right, %\n",
    "       - Touches in box per 90\n",
    "       \n",
    "   ><h3>c. Passing statistics</h3>\n",
    "   \n",
    "       - Fwd passes per 90\n",
    "       - Back passes per 90\n",
    "       - Lat passes per 90\n",
    "       - Fwd passes acc. %\n",
    "       - Sh/m passes per 90\n",
    "       - Lng passes per 90\n",
    "       - Lng passes acc. %\n",
    "       - Avg pass length, m\n",
    "       - Avg lng pass length, m\n",
    "       \n",
    "   ><h3>d. Key Passing </h3>\n",
    "   \n",
    "       - Final 3rd passes per 90\n",
    "       - Final 3rd passes acc. %\n",
    "       - Passes to penalty area per 90\n",
    "       - Passes to penalty area acc. %\n",
    "       - Thru passes per 90\n",
    "       - Thru passes acc. %\n",
    "       \n",
    "       \n",
    "       "
   ]
  },
  {
   "cell_type": "markdown",
   "metadata": {},
   "source": [
    "# 2. Objectives"
   ]
  },
  {
   "cell_type": "markdown",
   "metadata": {},
   "source": [
    "<h3> I. Midfielder specific data </h3>\n",
    "\n",
    "    1. Name, age, current club and league he plays in.\n",
    "    2. Goals scored and assisted.\n",
    "        - Non Penalty, Headed goals\n",
    "    3. Positions played this season, primary position, and goal contributions per position\n",
    "    \n",
    "<h3> II. Comparing Bruno to other AMF's from Europe's top 5 leagues.</h3>\n",
    "\n",
    "   ><h4> A. Attacking Contributions </h4>\n",
    "   \n",
    "       1. Goals scored/ Non-Penalty goals scored. Bar \n",
    "       2. Assists. - Bar \n",
    "       3. Shots total/ Shots on-target/ % - Scatter\n",
    "       4. Goal conv. vs Goals - Scatter\n",
    "       5. Touches in box per 90 - Bar \n",
    "       6. Crosses per 90 - Bar\n",
    "       \n",
    "       \n",
    "   ><h4> B. Passing metrics </h4>\n",
    "    \n",
    "        1. Forward passes per 90 vs Fwd passes acc %. - Scatter\n",
    "        2. Lng passes per 90 vs Lng passes acc. % - Scatter\n",
    "        3. Avg pass length, m - Bar \n",
    "        4. Avg lng pass length, m - Bar\n",
    "        5. Final 3rd passes p90 vs accuracy - Scatter\n",
    "        6. Passes to penalty area p90 vs accuracy - Scatter\n",
    "        7. Thru passes p90 vs accuracy - Scatter\n",
    "        \n",
    "   ><h4> C. Match-by-Match analysis </h4>\n",
    "    \n",
    "        1. Passes to final third p90 - Line plot\n",
    "        2. Passes to penalty box p90 - Line plot\n",
    "    "
   ]
  },
  {
   "cell_type": "code",
   "execution_count": null,
   "metadata": {
    "collapsed": true
   },
   "outputs": [],
   "source": []
  },
  {
   "cell_type": "code",
   "execution_count": null,
   "metadata": {
    "collapsed": true
   },
   "outputs": [],
   "source": []
  },
  {
   "cell_type": "markdown",
   "metadata": {},
   "source": [
    "# 3. Helper Functions"
   ]
  },
  {
   "cell_type": "markdown",
   "metadata": {},
   "source": [
    "## Macros"
   ]
  },
  {
   "cell_type": "code",
   "execution_count": 118,
   "metadata": {
    "collapsed": true
   },
   "outputs": [],
   "source": [
    "#Colors\n",
    "BACKGROUND_COLOR = '#212121'\n",
    "\n",
    "#Bar\n",
    "BAR_GENERIC_COLOR = '#414141'\n",
    "BAR_TARGET_COLOR = '#b71c1c'\n",
    "\n",
    "BAR_GENERIC_SECONDARY_COLOR = '#bdbdbd'\n",
    "BAR_TARGET_SECONDARY_COLOR = '#d32f2f'\n",
    "\n",
    "#Scatter\n",
    "SCATTER_POINT_COLOR = '#f44336'\n",
    "SCATTER_TARGET_COLOR = '#f44336'\n",
    "SCATTER_TEXT_COLOR = '#fff59d'\n",
    "\n",
    "#Fonts\n",
    "FONT_TICKS = 'Franklin Gothic Medium'\n",
    "FONT_LABEL = 'Franklin Gothic Medium'\n",
    "FONT_TITLE = 'Arial Rounded MT Bold'\n",
    "FONT_TEXT = 'Franklin Gothic Medium'\n",
    "\n",
    "#Folder\n",
    "IMAGES = 'Images/'\n",
    "\n",
    "#Image\n",
    "DPI = 600\n",
    "\n",
    "#Font Sizes\n",
    "FONT_SIZES = {\n",
    "    'Small':{\n",
    "        'FONT_TICKS': 13,\n",
    "        'FONT_LABEL': 14,\n",
    "        'FONT_TITLE': 16,\n",
    "    },\n",
    "    'Medium':{\n",
    "        'FONT_TICKS': 15,\n",
    "        'FONT_LABEL': 16,\n",
    "        'FONT_TITLE': 18,\n",
    "    },\n",
    "    'Large':{\n",
    "        'FONT_TICKS': 18,\n",
    "        'FONT_LABEL': 19,\n",
    "        'FONT_TITLE': 20,\n",
    "        \n",
    "    },\n",
    "    'Extra Large':{\n",
    "        'FONT_TICKS': 18,\n",
    "        'FONT_LABEL': 20,\n",
    "        'FONT_TITLE': 22,\n",
    "    }\n",
    "}\n",
    "\n",
    "NAME = 'N. Pépé'\n",
    "\n",
    "ROOT = 'D:\\fbtyics'"
   ]
  },
  {
   "cell_type": "markdown",
   "metadata": {},
   "source": [
    "## Function Definitions "
   ]
  },
  {
   "cell_type": "code",
   "execution_count": 128,
   "metadata": {
    "collapsed": true
   },
   "outputs": [],
   "source": [
    "def annotate_plot(ax, x_label, y_label, title, fontsize, rotation_x = 90, rotation_y = 90, ):\n",
    "    \n",
    "    #ax.set_xticklabels(ax.get_xticklabels(), rotation = rotation_x,\n",
    "                       #family = FONT_TICKS, fontsize = fontsize['FONT_TICKS'])\n",
    "    \n",
    "    ax.tick_params(axis = 'x', color = 'white',size = fontsize['FONT_TICKS'])\n",
    "    \n",
    "    ax.set_xlabel(x_label, rotation = rotation_x, family = FONT_LABEL ,fontsize = fontsize['FONT_LABEL'])\n",
    "    ax.set_ylabel(y_label, rotation = rotation_y,\n",
    "                  family = FONT_LABEL, fontsize = fontsize['FONT_LABEL'])\n",
    "    \n",
    "    ax.set_title(title, family = FONT_TITLE, fontsize = fontsize['FONT_TITLE'], color = 'white')\n",
    "\n",
    "    \n",
    "def init_plot(figsize):\n",
    "    \n",
    "    sns.set(rc={'figure.figsize':figsize})\n",
    "    sns.set_style(\"dark\", {\"axes.facecolor\": BACKGROUND_COLOR})\n",
    "    \n",
    "def bar_get_color_list(df, name, feature = 'Player', prime_pallete = True, all_same = False):\n",
    "    \n",
    "    num = df.shape[0]\n",
    "    colors = []\n",
    "    \n",
    "    if all_same:\n",
    "        if prime_pallete:\n",
    "            colors = [BAR_GENERIC_COLOR]*num\n",
    "            return colors\n",
    "        else:\n",
    "            colors = [BAR_GENERIC_SECONDARY_COLOR]*num\n",
    "            return colors\n",
    "        \n",
    "    target_index = df[df[feature] == name].index.values[0]\n",
    "\n",
    "    for i in range(num):\n",
    "        if i is int(target_index):\n",
    "            if prime_pallete:\n",
    "                colors += [BAR_TARGET_COLOR]\n",
    "            else:\n",
    "                colors += [BAR_TARGET_SECONDARY_COLOR]\n",
    "        else:\n",
    "            if prime_pallete:\n",
    "                colors += [BAR_GENERIC_COLOR]\n",
    "            else: \n",
    "                colors += [BAR_GENERIC_SECONDARY_COLOR]\n",
    "            \n",
    "    return colors\n",
    "\n",
    "def save_plot(fig, name, bbox_inches = \"tight\", hideplot = False):\n",
    "    \n",
    "    fig.savefig(name, facecolor = BACKGROUND_COLOR, dpi = DPI)\n",
    "    \n",
    "    if hideplot:\n",
    "        plt.close()\n",
    "\n",
    "def scatter_init_data(df, player, label, X, Y, sort_y = True, n = 15):\n",
    "    \n",
    "    df = df.sort_values(Y, ascending = False)\n",
    "\n",
    "    player_index = df[df[label] == player].index\n",
    "    idxs = df.iloc[:n].index\n",
    "    \n",
    "    #Check if player already in Top n\n",
    "    not_in_top_n = all(np.isin(idxs, player_index) == False)\n",
    "    if not_in_top_n:\n",
    "        df = df.loc[idxs.append(player_index)]\n",
    "    else:\n",
    "        df = df.loc[idxs]\n",
    "        \n",
    "    df = df.reset_index(drop = True)\n",
    "    \n",
    "    \n",
    "    sc_df = df[[label, X, Y]]\n",
    "    \n",
    "    if sort_y:\n",
    "        sc_df = sc_df.sort_values(by = Y, ascending= False)\n",
    "    else:\n",
    "        sc_df = sc_df.sort_values(by = X, ascending= False)\n",
    "\n",
    "    x = sc_df[X].values\n",
    "    y = sc_df[Y].values\n",
    "\n",
    "    targets = sc_df[label].values\n",
    "    \n",
    "    return targets, x, y\n",
    "\n",
    "def scatter_plot_data(targets, X, Y, sizes,  y_sorted = True, margin = 0, shift = 0, all_same = False):\n",
    "\n",
    "    config = {\n",
    "    'ha': 'center', \n",
    "    'va': 'center'\n",
    "    }\n",
    "            \n",
    "    for i, tgt in enumerate(targets):\n",
    "        if i == 0:\n",
    "            if NAME == tgt and not all_same:\n",
    "                plt.scatter(x[i], y[i], c = 'white')\n",
    "                plt.text(x[i], y[i] + shift,tgt,config, size = sizes['FONT_LABEL'],color = 'white')\n",
    "            else:\n",
    "                plt.scatter(x[i], y[i], c = SCATTER_POINT_COLOR)\n",
    "                plt.text(x[i], y[i] + shift,tgt,config,size = sizes['FONT_LABEL'],color = SCATTER_TEXT_COLOR) \n",
    "        else:\n",
    "            dis = y[i-1] - y[i]\n",
    "            if i < len(targets)-1 and targets[i+1] == NAME and y[i] - y[i+1] < margin:\n",
    "                continue\n",
    "            \n",
    "            if NAME == tgt and not all_same:\n",
    "                plt.scatter(x[i], y[i], c = 'white')\n",
    "                plt.text(x[i], y[i] + shift,tgt,config, size = sizes['FONT_LABEL'],color = 'white')\n",
    "            elif dis > margin:\n",
    "                plt.scatter(x[i], y[i], c = SCATTER_POINT_COLOR)\n",
    "                plt.text(x[i], y[i] + shift,tgt,config,size = sizes['FONT_LABEL'],color = SCATTER_TEXT_COLOR) \n",
    "\n",
    "\n",
    "\n",
    "    return plt.gca()\n",
    "\n",
    "def bar_top_n_data(player, data, statistic, n = 10, feature = 'Player'):\n",
    "    \n",
    "    #Find if feature is present in n indexes, else\n",
    "    #append and return new data\n",
    "    \n",
    "    df = data.copy()\n",
    "    df = df.sort_values(statistic, ascending = False)\n",
    "\n",
    "\n",
    "    player_index = df[df[feature] == player].index\n",
    "    idxs = df.iloc[:n].index\n",
    "    \n",
    "    #Check if player already in Top n\n",
    "    not_in_top_n = all(np.isin(idxs, player_index) == False)\n",
    "    \n",
    "    if not_in_top_n:\n",
    "        df = df.loc[idxs.append(player_index)]\n",
    "    else:\n",
    "        df = df.loc[idxs]\n",
    "        \n",
    "    return df.reset_index(drop = True)\n",
    "\n",
    "def clean_plot(ax):\n",
    "    \n",
    "    ax.spines['bottom'].set_color('white')\n",
    "    ax.spines['top'].set_color('white')\n",
    "    ax.spines['left'].set_color('white')\n",
    "    ax.spines['right'].set_color('white')\n",
    "    \n",
    "    for label in ax.get_xticklabels():\n",
    "        label.set_fontproperties(FONT_TICKS)\n",
    "        \n",
    "    for label in ax.get_yticklabels():\n",
    "        label.set_fontproperties(FONT_TICKS)        \n",
    "    \n",
    "    ax.yaxis.label.set_color('white')\n",
    "    ax.tick_params(axis = 'y', colors = 'white',)\n",
    "    \n",
    "    ax.xaxis.label.set_color('white')\n",
    "    ax.tick_params(axis= 'x', colors = 'white', )\n",
    "    \n",
    "def logo_overlay(fig, coods, corner = 'NE'):\n",
    "    im = plt.imread(IMAGES + 'logo.png')\n",
    "    newax = fig.add_axes(coods, anchor='NE', zorder=1)\n",
    "    newax.imshow(im)\n",
    "    newax.axis('off')\n",
    "\n",
    "    \n",
    "def initialize_project():\n",
    "    import os\n",
    "    import shutil\n",
    "    \n",
    "    os.mkdir('Images')\n",
    "    os.mkdir('Content')\n",
    "    \n",
    "    shutil.copy('D:/fbtyics/Meta/logo.png', os.getcwd() + '/Images')\n",
    "    shutil.copy('D:/fbtyics/Meta/Twitter Template.docx', os.getcwd() + '/Content')"
   ]
  },
  {
   "cell_type": "markdown",
   "metadata": {},
   "source": [
    "# 4. Analysis"
   ]
  },
  {
   "cell_type": "code",
   "execution_count": 114,
   "metadata": {
    "collapsed": true
   },
   "outputs": [],
   "source": [
    "df = pd.read_csv('FINAL_DATA.csv', index_col = [0])\n",
    "df = df[df['Minutes played'] > 1000]\n",
    "df = df.drop_duplicates()\n",
    "df = df.reset_index(drop = True)\n",
    "df = df[~df['Position'].str.contains('RB')]"
   ]
  },
  {
   "cell_type": "code",
   "execution_count": 129,
   "metadata": {},
   "outputs": [
    {
     "ename": "FileExistsError",
     "evalue": "[WinError 183] Cannot create a file when that file already exists: 'Images'",
     "output_type": "error",
     "traceback": [
      "\u001b[1;31m---------------------------------------------------------------------------\u001b[0m",
      "\u001b[1;31mFileExistsError\u001b[0m                           Traceback (most recent call last)",
      "\u001b[1;32m<ipython-input-129-5407251b4eda>\u001b[0m in \u001b[0;36m<module>\u001b[1;34m()\u001b[0m\n\u001b[1;32m----> 1\u001b[1;33m \u001b[0minitialize_project\u001b[0m\u001b[1;33m(\u001b[0m\u001b[1;33m)\u001b[0m\u001b[1;33m\u001b[0m\u001b[0m\n\u001b[0m",
      "\u001b[1;32m<ipython-input-128-347f71676745>\u001b[0m in \u001b[0;36minitialize_project\u001b[1;34m()\u001b[0m\n\u001b[0;32m    168\u001b[0m     \u001b[1;32mimport\u001b[0m \u001b[0mshutil\u001b[0m\u001b[1;33m\u001b[0m\u001b[0m\n\u001b[0;32m    169\u001b[0m \u001b[1;33m\u001b[0m\u001b[0m\n\u001b[1;32m--> 170\u001b[1;33m     \u001b[0mos\u001b[0m\u001b[1;33m.\u001b[0m\u001b[0mmkdir\u001b[0m\u001b[1;33m(\u001b[0m\u001b[1;34m'Images'\u001b[0m\u001b[1;33m)\u001b[0m\u001b[1;33m\u001b[0m\u001b[0m\n\u001b[0m\u001b[0;32m    171\u001b[0m     \u001b[0mos\u001b[0m\u001b[1;33m.\u001b[0m\u001b[0mmkdir\u001b[0m\u001b[1;33m(\u001b[0m\u001b[1;34m'Content'\u001b[0m\u001b[1;33m)\u001b[0m\u001b[1;33m\u001b[0m\u001b[0m\n\u001b[0;32m    172\u001b[0m \u001b[1;33m\u001b[0m\u001b[0m\n",
      "\u001b[1;31mFileExistsError\u001b[0m: [WinError 183] Cannot create a file when that file already exists: 'Images'"
     ]
    }
   ],
   "source": [
    "initialize_project()"
   ]
  },
  {
   "cell_type": "markdown",
   "metadata": {},
   "source": [
    "> **Part 1. Introduction**"
   ]
  },
  {
   "cell_type": "markdown",
   "metadata": {},
   "source": [
    "### Part 2. Comparisons"
   ]
  },
  {
   "cell_type": "markdown",
   "metadata": {},
   "source": [
    "`A. 1`"
   ]
  },
  {
   "cell_type": "code",
   "execution_count": 49,
   "metadata": {
    "collapsed": true
   },
   "outputs": [],
   "source": [
    "stat = df[['Player', 'Goals', 'Non-penalty goals']]\n",
    "stat = bar_top_n_data(NAME, stat, 'Goals')\n",
    "\n",
    "fig = plt.figure()\n",
    "\n",
    "prim_colors = bar_get_color_list(stat, NAME)\n",
    "sec_colors = bar_get_color_list(stat, NAME, prime_pallete=False)\n",
    "\n",
    "init_plot((10, 10))\n",
    "stat['Penalty goals'] = stat['Goals'] - stat['Non-penalty goals']\n",
    "\n",
    "sns.barplot('Goals', 'Player', data = stat, palette = prim_colors, linewidth = 0)\n",
    "sns.barplot('Penalty goals', 'Player', data = stat, palette = sec_colors, linewidth = 0)\n",
    "\n",
    "annotate_plot(fig.gca(), \"Goals Scored\", \"Player\", \"Goals Scored (2018/19 Season)\", FONT_SIZES['Large'],\n",
    "                  rotation_x= 0, rotation_y= 90)\n",
    "clean_plot(fig.gca())\n",
    "\n",
    "ax = plt.gca()\n",
    "ax.tick_params(axis = 'x', labelsize = 15)\n",
    "ax.tick_params(axis = 'y', labelsize = 15)\n",
    "\n",
    "\n",
    "\n",
    "logo_overlay(fig, [0.82, 0.1, 0.12, 0.12])\n",
    "\n",
    "plt.tight_layout()\n",
    "save_plot(fig, IMAGES + 'A.1.jpg', hideplot= True)"
   ]
  },
  {
   "cell_type": "markdown",
   "metadata": {},
   "source": [
    "`A. 2`"
   ]
  },
  {
   "cell_type": "code",
   "execution_count": 130,
   "metadata": {
    "collapsed": true
   },
   "outputs": [],
   "source": [
    "PARAM = 'Assists'\n",
    "stat = df[['Player', PARAM]]\n",
    "stat = bar_top_n_data(NAME, stat, PARAM)\n",
    "          \n",
    "fig = plt.figure()\n",
    "prim_colors = bar_get_color_list(stat, NAME)\n",
    "          \n",
    "init_plot((10, 10))\n",
    "          \n",
    "sns.barplot(PARAM, 'Player', data = stat, palette = prim_colors, linewidth = 0)\n",
    "annotate_plot(fig.gca(), \"Assists\", \"Player\", \"Assists (2018/19 Season)\", FONT_SIZES['Large'],\n",
    "                  rotation_x= 0, rotation_y= 90)\n",
    "clean_plot(fig.gca())\n",
    "\n",
    "\n",
    "ax = plt.gca()\n",
    "ax.tick_params(axis = 'x', labelsize = 15)\n",
    "ax.tick_params(axis = 'y', labelsize = 15)\n",
    "\n",
    "logo_overlay(fig, [0.82, 0.1, 0.12, 0.12])\n",
    "\n",
    "plt.tight_layout()\n",
    "save_plot(fig, IMAGES + 'A.2.jpg', hideplot= True)"
   ]
  },
  {
   "cell_type": "markdown",
   "metadata": {},
   "source": [
    "`A. 3`"
   ]
  },
  {
   "cell_type": "code",
   "execution_count": 56,
   "metadata": {
    "collapsed": true
   },
   "outputs": [],
   "source": [
    "targets, x, y = scatter_init_data(df, NAME, 'Player', 'Shots total', 'Shots on target %', n = 25, )\n",
    "\n",
    "fig = plt.figure()\n",
    "init_plot((12, 12))\n",
    "\n",
    "ax = scatter_plot_data(targets, x, y, FONT_SIZES['Large'] , shift = 0.3,)\n",
    "\n",
    "annotate_plot(ax, \"Shots Taken\", \"Shots on Target %\", \"Shooting Quality (2018/19 Season)\", \n",
    "              FONT_SIZES['Large'], rotation_x=0, rotation_y= 90)\n",
    "clean_plot(ax)\n",
    "\n",
    "ax = plt.gca()\n",
    "ax.tick_params(axis = 'x', labelsize = 15)\n",
    "ax.tick_params(axis = 'y', labelsize = 15)\n",
    "\n",
    "plt.tight_layout()\n",
    "\n",
    "logo_overlay(fig, [0.82, 0.82, 0.12, 0.12])\n",
    "save_plot(fig, IMAGES + 'A.3.jpg', hideplot = True)"
   ]
  },
  {
   "cell_type": "markdown",
   "metadata": {},
   "source": [
    "`A. 5`"
   ]
  },
  {
   "cell_type": "code",
   "execution_count": 59,
   "metadata": {
    "collapsed": true
   },
   "outputs": [],
   "source": [
    "stat = df[['Player', 'Touches in box per 90']]\n",
    "stat = bar_top_n_data(NAME, stat, 'Touches in box per 90')\n",
    "\n",
    "fig = plt.figure()\n",
    "\n",
    "prim_colors = bar_get_color_list(stat, NAME)\n",
    "\n",
    "init_plot((10, 10))\n",
    "\n",
    "sns.barplot('Touches in box per 90', 'Player', data = stat, palette = prim_colors, linewidth = 0)\n",
    "\n",
    "annotate_plot(fig.gca(), \"Touches in box per 90\", \"Player\", \"Touches in Box (2018/19 Season)\", FONT_SIZES['Large'],\n",
    "                  rotation_x= 0, rotation_y= 90)\n",
    "clean_plot(fig.gca())\n",
    "\n",
    "\n",
    "\n",
    "ax = plt.gca()\n",
    "ax.tick_params(axis = 'x', labelsize = 15)\n",
    "ax.tick_params(axis = 'y', labelsize = 15)\n",
    "\n",
    "logo_overlay(fig, [0.82, 0.1, 0.12, 0.12])\n",
    "plt.tight_layout()\n",
    "save_plot(fig, IMAGES + 'A.5.jpg', hideplot= True)"
   ]
  },
  {
   "cell_type": "markdown",
   "metadata": {},
   "source": [
    "`A. 6`"
   ]
  },
  {
   "cell_type": "code",
   "execution_count": 60,
   "metadata": {
    "collapsed": true
   },
   "outputs": [],
   "source": [
    "STATISTIC = 'Crosses per 90'\n",
    "stat = df[['Player', STATISTIC]]\n",
    "stat = bar_top_n_data(NAME, stat, STATISTIC)\n",
    "\n",
    "fig = plt.figure()\n",
    "\n",
    "prim_colors = bar_get_color_list(stat, NAME)\n",
    "init_plot((10, 10))\n",
    "\n",
    "sns.barplot(STATISTIC, 'Player', data = stat, palette = prim_colors, linewidth = 0)\n",
    "\n",
    "annotate_plot(fig.gca(), STATISTIC, \"Player\", \"Crossing ability (2018/19 Season)\", FONT_SIZES['Large'],\n",
    "                  rotation_x= 0, rotation_y= 90)\n",
    "clean_plot(fig.gca())\n",
    "\n",
    "ax = plt.gca()\n",
    "ax.tick_params(axis = 'x', labelsize = 15)\n",
    "ax.tick_params(axis = 'y', labelsize = 15)\n",
    "\n",
    "logo_overlay(fig, [0.82, 0.1, 0.12, 0.12])\n",
    "\n",
    "plt.tight_layout()\n",
    "save_plot(fig, IMAGES + 'A.6.jpg', hideplot= True)"
   ]
  },
  {
   "cell_type": "markdown",
   "metadata": {},
   "source": [
    "#### Passing statistics"
   ]
  },
  {
   "cell_type": "markdown",
   "metadata": {},
   "source": [
    "`B.1 `"
   ]
  },
  {
   "cell_type": "code",
   "execution_count": 94,
   "metadata": {
    "collapsed": true
   },
   "outputs": [],
   "source": [
    "targets, x, y = scatter_init_data(df, NAME, 'Player', 'Fwd passes per 90', 'Fwd passes acc. %', n = 30, )\n",
    "\n",
    "fig = plt.figure()\n",
    "init_plot((12, 12))\n",
    "\n",
    "ax = scatter_plot_data(targets, x, y, FONT_SIZES['Large'] , shift = 0.2, margin = 0.2,  all_same= False)\n",
    "\n",
    "annotate_plot(ax, \"Fwd passes per 90\", \"Fwd passes acc. %\", \"Forward passing ability (2018/19 Season)\", \n",
    "              FONT_SIZES['Large'], rotation_x=0, rotation_y= 90)\n",
    "clean_plot(ax)\n",
    "\n",
    "plt.tight_layout()\n",
    "\n",
    "ax = plt.gca()\n",
    "ax.tick_params(axis = 'x', labelsize = 15)\n",
    "ax.tick_params(axis = 'y', labelsize = 15)\n",
    "\n",
    "logo_overlay(fig, [0.1, 0.82, 0.12, 0.12])\n",
    "save_plot(fig, IMAGES + 'B.1.jpg', hideplot = True)"
   ]
  },
  {
   "cell_type": "markdown",
   "metadata": {},
   "source": [
    "`B. 5`"
   ]
  },
  {
   "cell_type": "code",
   "execution_count": 108,
   "metadata": {
    "collapsed": true
   },
   "outputs": [],
   "source": [
    "targets, x, y = scatter_init_data(df, NAME, 'Player', 'Final 3rd passes per 90', 'Final 3rd passes acc. %', n = 30, )\n",
    "\n",
    "fig = plt.figure()\n",
    "init_plot((12, 12))\n",
    "\n",
    "ax = scatter_plot_data(targets, x, y, FONT_SIZES['Large'] , shift = 0.3, margin=0.4)\n",
    "\n",
    "annotate_plot(ax, \"Final 3rd passes per 90\", \"Final 3rd passes acc. %\", \"Final third passing ability (2018/19 Season)\", \n",
    "              FONT_SIZES['Large'], rotation_x=0, rotation_y= 90)\n",
    "clean_plot(ax)\n",
    "\n",
    "ax = plt.gca()\n",
    "ax.tick_params(axis = 'x', labelsize = 15)\n",
    "ax.tick_params(axis = 'y', labelsize = 15)\n",
    "\n",
    "plt.tight_layout()\n",
    "logo_overlay(fig, [0.82, 0.82, 0.12, 0.12])\n",
    "save_plot(fig, IMAGES + 'B.5.jpg', hideplot = True)"
   ]
  },
  {
   "cell_type": "markdown",
   "metadata": {},
   "source": [
    "`B. 6`"
   ]
  },
  {
   "cell_type": "code",
   "execution_count": 113,
   "metadata": {
    "collapsed": true
   },
   "outputs": [],
   "source": [
    "targets, x, y = scatter_init_data(df, NAME, 'Player', 'Passes to penalty area per 90', 'Passes to penalty area acc. %', n = 35, )\n",
    "\n",
    "fig = plt.figure()\n",
    "init_plot((12, 12))\n",
    "\n",
    "targets = targets[1:]\n",
    "x = x[1:]\n",
    "y = y[1:]\n",
    "\n",
    "ax = scatter_plot_data(targets, x, y, FONT_SIZES['Large'] , shift = 0.3\n",
    "                       , margin = 0.25)\n",
    "\n",
    "annotate_plot(ax, \"Passes to penalty area per 90\", \"Passes to penalty area acc. %\", \"Passes to penalty box (2018/19 Season)\", \n",
    "              FONT_SIZES['Large'], rotation_x=0, rotation_y= 90)\n",
    "clean_plot(ax)\n",
    "\n",
    "ax = plt.gca()\n",
    "ax.tick_params(axis = 'x', labelsize = 15)\n",
    "ax.tick_params(axis = 'y', labelsize = 15)\n",
    "\n",
    "plt.tight_layout()\n",
    "logo_overlay(fig, [0.82, 0.12, 0.12, 0.12])\n",
    "save_plot(fig, IMAGES + 'B.6.jpg', hideplot = True)"
   ]
  }
 ],
 "metadata": {
  "kernelspec": {
   "display_name": "Python 3",
   "language": "python",
   "name": "python3"
  },
  "language_info": {
   "codemirror_mode": {
    "name": "ipython",
    "version": 3
   },
   "file_extension": ".py",
   "mimetype": "text/x-python",
   "name": "python",
   "nbconvert_exporter": "python",
   "pygments_lexer": "ipython3",
   "version": "3.6.3"
  }
 },
 "nbformat": 4,
 "nbformat_minor": 2
}
