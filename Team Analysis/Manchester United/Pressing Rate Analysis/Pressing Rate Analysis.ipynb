{
 "cells": [
  {
   "cell_type": "code",
   "execution_count": 1,
   "metadata": {},
   "outputs": [],
   "source": [
    "import pandas as pd\n",
    "import numpy as np\n",
    "import matplotlib\n",
    "matplotlib.use('nbAgg')\n",
    "\n",
    "%matplotlib inline\n",
    "\n",
    "import matplotlib.pyplot as plt\n",
    "import seaborn as sns"
   ]
  },
  {
   "cell_type": "markdown",
   "metadata": {},
   "source": [
    "# Objective"
   ]
  },
  {
   "cell_type": "markdown",
   "metadata": {},
   "source": [
    "Pressing Rate is measured by the Passes Allowed per Defensive Action (PPDA) metric.  \n",
    "This is measured by :\n",
    "\n",
    "    - Analysing how many passes were made by the opposition team (Completed passes only)\n",
    "    - Defensive actions of the team in question\n",
    "    \n",
    " Defensive actions in question are:\n",
    " \n",
    "    - Tackles\n",
    "    - Challenges\n",
    "    - Fouls\n",
    "    - Interceptions\n",
    "    \n",
    "Note : Only completed passes should be taken into account, while ALL attempts at defensive actions should be taken into account\n",
    "  \n",
    "\n"
   ]
  },
  {
   "cell_type": "markdown",
   "metadata": {},
   "source": [
    "# Importing and Cleaning the Data"
   ]
  },
  {
   "cell_type": "code",
   "execution_count": 2,
   "metadata": {
    "collapsed": true
   },
   "outputs": [],
   "source": [
    "mufc_def = pd.read_excel('mufc_defense.xlsx',)\n",
    "mufc_pas = pd.read_excel('mufc_passing.xlsx',)\n",
    "\n",
    "mufc_def = mufc_def.dropna()\n",
    "mufc_pas = mufc_pas.dropna()\n",
    "\n",
    "META_DATA = [\n",
    "    \n",
    "    'Date',\n",
    "    'Match',\n",
    "    'Competition',\n",
    "    'Duration',\n",
    "    'Team'\n",
    "    \n",
    "]"
   ]
  },
  {
   "cell_type": "markdown",
   "metadata": {},
   "source": [
    "Cleaning the passing data"
   ]
  },
  {
   "cell_type": "code",
   "execution_count": 3,
   "metadata": {
    "collapsed": true
   },
   "outputs": [],
   "source": [
    "PAS_COLS = {\n",
    "    \n",
    "    'Passes / accurate' : 'Attempted Passes',\n",
    "    'Unnamed: 7' : 'Completed Passes',\n",
    "    'Unnamed: 8' : 'Accuracy (Passing)',\n",
    "    \n",
    "}\n",
    "\n",
    "mufc_pas = mufc_pas.rename(PAS_COLS, axis = 'columns')\n",
    "pressing_pas = mufc_pas[META_DATA + list(PAS_COLS.values())]"
   ]
  },
  {
   "cell_type": "markdown",
   "metadata": {},
   "source": [
    "Cleaning the defensive data"
   ]
  },
  {
   "cell_type": "code",
   "execution_count": 4,
   "metadata": {
    "collapsed": true
   },
   "outputs": [],
   "source": [
    "DEF_COLS = {\n",
    "    \n",
    "    'Sliding tackles / successful' : 'Attempted Tackles',\n",
    "    'Unnamed: 17' : 'Completed Tackles',\n",
    "    'Unnamed: 18' : 'Accuracy (Tackles)',\n",
    "    'Interceptions' : 'Interception',\n",
    "    'Fouls' : 'Fouls'\n",
    "    \n",
    "}\n",
    "mufc_def = mufc_def.rename(DEF_COLS, axis = 'columns')\n",
    "pressing_def = mufc_def[META_DATA + list(DEF_COLS.values())]"
   ]
  },
  {
   "cell_type": "markdown",
   "metadata": {},
   "source": [
    "# Calculating the metric"
   ]
  },
  {
   "cell_type": "markdown",
   "metadata": {
    "heading_collapsed": true
   },
   "source": [
    "## Function definition"
   ]
  },
  {
   "cell_type": "code",
   "execution_count": null,
   "metadata": {
    "collapsed": true,
    "hidden": true
   },
   "outputs": [],
   "source": [
    "def pressing_df(defense_file, passing_file, name):\n",
    "    \n",
    "    df_def = pd.read_excel(defense_file)\n",
    "    df_pas = pd.read_excel(passing_file)\n",
    "\n",
    "    df_def = df_def.dropna()\n",
    "    df_pas = df_pas.dropna()\n",
    "    \n",
    "    #print(df_def.shape, df_pas.shape)\n",
    "    \n",
    "    df_pas = df_pas.rename(PAS_COLS, axis = 'columns')\n",
    "    pressing_pas = df_pas[META_DATA + list(PAS_COLS.values())]\n",
    "\n",
    "    df_def = df_def.rename(DEF_COLS, axis = 'columns')\n",
    "    pressing_def = df_def[META_DATA + list(DEF_COLS.values())]\n",
    "    \n",
    "    pressing_def['Defensive Actions'] = pressing_def['Attempted Tackles']\\\n",
    "                                    + pressing_def['Interception']\\\n",
    "                                    + pressing_def['Fouls']\n",
    "        \n",
    "    main_df = pressing_def[META_DATA + ['Defensive Actions']]\n",
    "    main_df = main_df[main_df['Team'] == name]\n",
    "\n",
    "    cop = pressing_pas[~(pressing_pas['Team'] == name)]['Completed Passes'].values\n",
    "    \n",
    "    #print(main_df.shape)\n",
    "    main_df['Completed Opposition Passes'] = cop\n",
    "\n",
    "    main_df['PPDA'] = main_df['Completed Opposition Passes']/main_df['Defensive Actions']\n",
    "\n",
    "    #Sort by Date\n",
    "    main_df = main_df.sort_values(by = 'Date')\n",
    "    \n",
    "    return main_df"
   ]
  },
  {
   "cell_type": "markdown",
   "metadata": {},
   "source": [
    "## Manual"
   ]
  },
  {
   "cell_type": "code",
   "execution_count": 5,
   "metadata": {},
   "outputs": [
    {
     "name": "stderr",
     "output_type": "stream",
     "text": [
      "C:\\Users\\ranja\\Anaconda3\\lib\\site-packages\\ipykernel_launcher.py:1: SettingWithCopyWarning: \n",
      "A value is trying to be set on a copy of a slice from a DataFrame.\n",
      "Try using .loc[row_indexer,col_indexer] = value instead\n",
      "\n",
      "See the caveats in the documentation: http://pandas.pydata.org/pandas-docs/stable/indexing.html#indexing-view-versus-copy\n",
      "  \"\"\"Entry point for launching an IPython kernel.\n"
     ]
    }
   ],
   "source": [
    "pressing_def['Defensive Actions'] = pressing_def['Attempted Tackles']\\\n",
    "                                    + pressing_def['Interception']\\\n",
    "                                    + pressing_def['Fouls']\n",
    "        \n",
    "main_df = pressing_def[META_DATA + ['Defensive Actions']]\n",
    "main_df = main_df[main_df['Team'] == 'Manchester United']\n",
    "\n",
    "cop = pressing_pas[~(pressing_pas['Team'] == 'Manchester United')]['Completed Passes'].values\n",
    "main_df['Completed Opposition Passes'] = cop\n",
    "\n",
    "main_df['PPDA'] = main_df['Completed Opposition Passes']/main_df['Defensive Actions']\n",
    "\n",
    "#Sort by Date\n",
    "main_df = main_df.sort_values(by = 'Date')"
   ]
  },
  {
   "cell_type": "markdown",
   "metadata": {},
   "source": [
    "# Visualizations"
   ]
  },
  {
   "cell_type": "markdown",
   "metadata": {},
   "source": [
    "Objectives :  \n",
    "    - Pre Ole vs Post Ole Press rate Comparison\n",
    "    - Highest Pressing match\n",
    "    - Lowest Pressing match"
   ]
  },
  {
   "cell_type": "markdown",
   "metadata": {},
   "source": [
    "## Plotting functions"
   ]
  },
  {
   "cell_type": "code",
   "execution_count": 128,
   "metadata": {
    "collapsed": true
   },
   "outputs": [],
   "source": [
    "FONT_TITLE = \"Arial Rounded MT Bold\"\n",
    "FONT_LABEL = \"Franklin Gothic Medium\"\n",
    "FONT_TICK_LABELS = \"Courier New\"\n",
    "\n",
    "def stylize_plot(ax, x_label, y_label, title):\n",
    "    \n",
    "    #ax.set_xticklabels(ax.get_xticklabels(), rotation = 90, family = FONT_TICK_LABELS, fontsize = )\n",
    "    #ax.set_yticklabels(ax.get_yticklabels())\n",
    "    \n",
    "    ax.set_xlabel(x_label, family = FONT_LABEL , fontsize = 30)\n",
    "    ax.set_ylabel(y_label, rotation = 90, family = FONT_LABEL, fontsize = 30)\n",
    "    ax.set_title(title, family = FONT_TITLE, fontsize = 31, color = 'white')\n",
    "    \n",
    "    plt.tight_layout()\n",
    "    \n",
    "def init_plot(figsize, back):\n",
    "    sns.set(rc={'figure.figsize':figsize})\n",
    "    sns.set_style(\"dark\", {\"axes.facecolor\": back})\n",
    "    #sns.set_palette(sns.dark_palette(\"purple\"))\n",
    "    \n",
    "def get_color(df):\n",
    "    pos = df[df['Name'] == 'Harry Maguire'].index.values[0]\n",
    "\n",
    "    color = []\n",
    "\n",
    "    for i in range(n):\n",
    "        if i is int(pos):\n",
    "            color += ['#d32f2f']\n",
    "        else:\n",
    "            color += ['#414141']\n",
    "            \n",
    "    return color\n",
    "\n",
    "def set_colors(ax):\n",
    "    #Coloring and Styling\n",
    "    ax.set_facecolor('#212121')\n",
    "\n",
    "    ax.spines['bottom'].set_color('white')\n",
    "    ax.spines['top'].set_color('white')\n",
    "    ax.spines['left'].set_color('white')\n",
    "    ax.spines['right'].set_color('white')\n",
    "\n",
    "    ax.yaxis.label.set_color('white')\n",
    "    ax.tick_params(axis = 'y', colors = 'white', labelsize = 30)\n",
    "    \n",
    "    ax.xaxis.label.set_color('white')\n",
    "    ax.tick_params(axis= 'x', colors = 'white', labelsize = 30)\n",
    "    \n",
    "\n"
   ]
  },
  {
   "cell_type": "markdown",
   "metadata": {},
   "source": [
    "## Plotting"
   ]
  },
  {
   "cell_type": "markdown",
   "metadata": {},
   "source": [
    "Calculating post Mourinho press rate"
   ]
  },
  {
   "cell_type": "code",
   "execution_count": 34,
   "metadata": {
    "collapsed": true
   },
   "outputs": [],
   "source": [
    "#Date Mourinho Sacked\n",
    "DATE = '2018-12-16'\n",
    "\n",
    "main_df = main_df.reset_index(drop = True)\n",
    "ole = main_df[main_df['Date']> DATE]\n",
    "mou = main_df[main_df['Date']< DATE]\n",
    "\n",
    "n = 10\n",
    "rm = main_df['PPDA'].rolling(window= n).mean()\n"
   ]
  },
  {
   "cell_type": "markdown",
   "metadata": {},
   "source": [
    "Plotting the pressing rate"
   ]
  },
  {
   "cell_type": "code",
   "execution_count": 35,
   "metadata": {},
   "outputs": [],
   "source": [
    "fig = plt.figure()\n",
    "\n",
    "init_plot((10, 10), \"212121\")\n",
    "\n",
    "plt.plot(rm,'o-',label='line2', color = '#f44336')\n",
    "\n",
    "ax = plt.gca()\n",
    "set_colors(ax)\n",
    "\n",
    "stylize_plot(ax, \"Gameweek\", \"Pressing Rate\", \"MUFC Pressing rate over 2018/19 PL Season\")\n",
    "fig.savefig('seasonal_press_rate.jpg', facecolor = '#212121', dpi = 600)\n",
    "\n",
    "plt.close()"
   ]
  },
  {
   "cell_type": "markdown",
   "metadata": {},
   "source": [
    "Mean of Ole's first 5 matches vs Mou's Average"
   ]
  },
  {
   "cell_type": "code",
   "execution_count": 42,
   "metadata": {},
   "outputs": [
    {
     "name": "stdout",
     "output_type": "stream",
     "text": [
      "4.8411578653035034 5.490001534176787\n"
     ]
    }
   ],
   "source": [
    "print(ole[:5]['PPDA'].mean(), mou['PPDA'].mean())"
   ]
  },
  {
   "cell_type": "code",
   "execution_count": 47,
   "metadata": {},
   "outputs": [
    {
     "name": "stdout",
     "output_type": "stream",
     "text": [
      "Cardiff City - Manchester United 1:5\n",
      "Manchester United - Manchester City 0:2\n"
     ]
    }
   ],
   "source": [
    "#Highest and lowest pressing match under ole\n",
    "\n",
    "#Highest\n",
    "print(ole.sort_values(by = 'PPDA')['Match'].iloc[0])\n",
    "\n",
    "#Lowest\n",
    "print(ole.sort_values(by = 'PPDA')['Match'].iloc[-1])"
   ]
  },
  {
   "cell_type": "markdown",
   "metadata": {},
   "source": [
    "## Pressing rate of top 6 Teams in PL"
   ]
  },
  {
   "cell_type": "markdown",
   "metadata": {},
   "source": [
    "Creating acronyms for the Top 6 teams"
   ]
  },
  {
   "cell_type": "code",
   "execution_count": 97,
   "metadata": {},
   "outputs": [],
   "source": [
    "ACRO = {\n",
    "    'mcfc' : 'Manchester City',\n",
    "    'afc' : 'Arsenal',\n",
    "    'lfc' : 'Liverpool',\n",
    "    'cfc' : 'Chelsea',\n",
    "    'thfc': 'Tottenham Hotspur',\n",
    "    'mufc': 'Manchester United'\n",
    "    \n",
    "}"
   ]
  },
  {
   "cell_type": "markdown",
   "metadata": {},
   "source": [
    "Reading and fetching the data"
   ]
  },
  {
   "cell_type": "code",
   "execution_count": 135,
   "metadata": {},
   "outputs": [
    {
     "name": "stderr",
     "output_type": "stream",
     "text": [
      "C:\\Users\\ranja\\Anaconda3\\lib\\site-packages\\ipykernel_launcher.py:17: SettingWithCopyWarning: \n",
      "A value is trying to be set on a copy of a slice from a DataFrame.\n",
      "Try using .loc[row_indexer,col_indexer] = value instead\n",
      "\n",
      "See the caveats in the documentation: http://pandas.pydata.org/pandas-docs/stable/indexing.html#indexing-view-versus-copy\n"
     ]
    }
   ],
   "source": [
    "import glob\n",
    "\n",
    "data = {}\n",
    "for hsh in ACRO.keys():\n",
    "    files = glob.glob('T6Data/{}*'.format(hsh))\n",
    "    df = pressing_df(files[0], files[1], ACRO[hsh])\n",
    "    data[hsh] = df.reset_index(drop = True)\n"
   ]
  },
  {
   "cell_type": "markdown",
   "metadata": {},
   "source": [
    "Calculating rolling averages"
   ]
  },
  {
   "cell_type": "code",
   "execution_count": 142,
   "metadata": {},
   "outputs": [],
   "source": [
    "rolling_mean = {}\n",
    "n = 10\n",
    "\n",
    "minimum = 1000\n",
    "maximum = 0\n",
    "\n",
    "for hsh in ACRO.keys():\n",
    "    rm = data[hsh]['PPDA'].rolling(window= n).mean()\n",
    "    rolling_mean[ACRO[hsh]] = rm\n",
    "    \n",
    "    if rm.min() < minimum:\n",
    "        minimum = rm.min()\n",
    "    \n",
    "    if rm.max() > maximum:\n",
    "        maximum = rm.max()"
   ]
  },
  {
   "cell_type": "markdown",
   "metadata": {},
   "source": [
    "### Plotting"
   ]
  },
  {
   "cell_type": "code",
   "execution_count": 162,
   "metadata": {},
   "outputs": [],
   "source": [
    "fig = plt.figure()\n",
    "\n",
    "init_plot((20, 20), \"212121\")\n",
    "\n",
    "\n",
    "colors = [\n",
    "    '#e040fb',\n",
    "    '#e0e0e0',\n",
    "    '#ffeb3b',\n",
    "    '#2196f3',\n",
    "    '#4caf50',\n",
    "    '#b71c1c',\n",
    "    \n",
    "]\n",
    "\n",
    "i = 0\n",
    "\n",
    "for team in rolling_mean.keys():\n",
    "    plt.plot(rolling_mean[team],'o-',label=team, color = colors[i])\n",
    "    #plt.yticks(np.arange(np.floor(minimum), np.floor(maximum + 1.5), 0.25))\n",
    "    i = i+1\n",
    "    \n",
    "ax = plt.gca()\n",
    "set_colors(ax)\n",
    "\n",
    "\n",
    "leg = ax.legend(loc = 'upper right', prop = {'size': 30, 'family' : FONT_TICK_LABELS})\n",
    "for text in leg.get_texts():\n",
    "    text.set_color(\"white\")\n",
    "\n",
    "stylize_plot(ax, \"Gameweek\", \"Pressing Rate\", \"Top 6 PL Teams Pressing Rate (2018/19 PL)\")\n",
    "\n",
    "fig.savefig('top6_pressing_comparison.jpg', facecolor = '#212121', dpi = 600)\n",
    "\n",
    "plt.close()"
   ]
  },
  {
   "cell_type": "markdown",
   "metadata": {},
   "source": [
    "Calculating standard deviations"
   ]
  },
  {
   "cell_type": "code",
   "execution_count": 159,
   "metadata": {},
   "outputs": [
    {
     "name": "stdout",
     "output_type": "stream",
     "text": [
      "{'Manchester City': 0.28290307493233335, 'Arsenal': 0.46491779501973884, 'Liverpool': 0.383057066744916, 'Chelsea': 0.5290311436759015, 'Tottenham Hotspur': 0.2639726742124765, 'Manchester United': 0.5631823521509501}\n"
     ]
    }
   ],
   "source": [
    "stds = {}\n",
    "\n",
    "for team in rolling_mean.keys():\n",
    "    std = rolling_mean[team].std()\n",
    "    stds[team] = std\n",
    " \n",
    "print(stds)"
   ]
  },
  {
   "cell_type": "markdown",
   "metadata": {},
   "source": [
    "Calculating the difference between max and min"
   ]
  },
  {
   "cell_type": "code",
   "execution_count": 160,
   "metadata": {},
   "outputs": [
    {
     "name": "stdout",
     "output_type": "stream",
     "text": [
      "{'Manchester City': 1.128401743068415, 'Arsenal': 1.5852942085840551, 'Liverpool': 1.368609519427066, 'Chelsea': 1.7287501615021519, 'Tottenham Hotspur': 1.0142145620922705, 'Manchester United': 2.3131684822192664}\n"
     ]
    }
   ],
   "source": [
    "diffs = {}\n",
    "\n",
    "for team in rolling_mean.keys():\n",
    "    mx = rolling_mean[team].max()\n",
    "    mn = rolling_mean[team].min()\n",
    "    diffs[team] = mx - mn\n",
    "    \n",
    "print(diffs)"
   ]
  },
  {
   "cell_type": "code",
   "execution_count": null,
   "metadata": {
    "collapsed": true
   },
   "outputs": [],
   "source": []
  }
 ],
 "metadata": {
  "kernelspec": {
   "display_name": "Python 3",
   "language": "python",
   "name": "python3"
  },
  "language_info": {
   "codemirror_mode": {
    "name": "ipython",
    "version": 3
   },
   "file_extension": ".py",
   "mimetype": "text/x-python",
   "name": "python",
   "nbconvert_exporter": "python",
   "pygments_lexer": "ipython3",
   "version": "3.6.3"
  }
 },
 "nbformat": 4,
 "nbformat_minor": 2
}
