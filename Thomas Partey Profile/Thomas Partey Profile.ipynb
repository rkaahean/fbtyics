{
 "cells": [
  {
   "cell_type": "markdown",
   "metadata": {},
   "source": [
    "# Thomas Partey Statistical Profile"
   ]
  },
  {
   "cell_type": "code",
   "execution_count": null,
   "metadata": {
    "collapsed": true
   },
   "outputs": [],
   "source": [
    "# Goals of this project\n",
    "\n",
    "# Data Cleaning Part\n",
    "    #1. Create and clean a database of the CDM's from the top 5 Leagues.\n",
    "    #2. Database should include the defensive, passing, and misc stats\n",
    "    #3. Also obtain the previous years match by match data of Thomas Partey\n",
    "    #4. Final data should be as follows:\n",
    "        #a. cdm_database.csv\n",
    "        #b. thomas_partey.csv\n",
    "\n",
    "# Things to plot/find/visualize\n",
    "    #1. "
   ]
  }
 ],
 "metadata": {
  "kernelspec": {
   "display_name": "Python 3",
   "language": "python",
   "name": "python3"
  },
  "language_info": {
   "codemirror_mode": {
    "name": "ipython",
    "version": 3
   },
   "file_extension": ".py",
   "mimetype": "text/x-python",
   "name": "python",
   "nbconvert_exporter": "python",
   "pygments_lexer": "ipython3",
   "version": "3.6.3"
  }
 },
 "nbformat": 4,
 "nbformat_minor": 2
}
