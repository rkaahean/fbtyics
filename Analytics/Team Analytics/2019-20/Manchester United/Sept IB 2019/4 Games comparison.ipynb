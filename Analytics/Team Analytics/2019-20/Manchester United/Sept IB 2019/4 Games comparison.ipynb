{
 "cells": [
  {
   "cell_type": "markdown",
   "metadata": {},
   "source": [
    "# Analyzing MUFC performance in first 4 PL games 2019-20 season."
   ]
  },
  {
   "cell_type": "code",
   "execution_count": 3,
   "metadata": {},
   "outputs": [],
   "source": [
    "import pandas as pd\n",
    "import numpy as np\n",
    "import matplotlib\n",
    "import warnings\n",
    "\n",
    "warnings.filterwarnings('ignore')\n",
    "matplotlib.use('nbAgg')\n",
    "\n",
    "import matplotlib.pyplot as plt\n",
    "import seaborn as sns\n",
    "import matplotlib.image as image\n",
    "from matplotlib.cbook import get_sample_data\n",
    "%matplotlib inline"
   ]
  },
  {
   "cell_type": "markdown",
   "metadata": {},
   "source": [
    "## Data importing and cleaning"
   ]
  },
  {
   "cell_type": "code",
   "execution_count": 102,
   "metadata": {},
   "outputs": [],
   "source": [
    "def load_team(name, columns):\n",
    "    df = pd.read_excel(name, skiprows= 1)\n",
    "    \n",
    "    df.columns = COLUMNS\n",
    "    df = df.drop(['MatchNO', 'Scheme detailed'], axis = 'columns')\n",
    "    \n",
    "    return df\n",
    "\n",
    "COLUMNS = np.load('F:/fbtyics\\Meta\\Team Analysis Indexor.npy')\n",
    "\n",
    "mufc = load_team('mufc.xlsx', COLUMNS)\n",
    "mcfc = load_team('mcfc.xlsx', COLUMNS)\n",
    "lfc = load_team('lfc.xlsx', COLUMNS)\n",
    "\n",
    "\n",
    "data = {'Manchester United': mufc, 'Manchester City':mcfc, 'Liverpool':lfc}"
   ]
  },
  {
   "cell_type": "markdown",
   "metadata": {},
   "source": [
    "## Creating dataframes for metric per team"
   ]
  },
  {
   "cell_type": "code",
   "execution_count": 110,
   "metadata": {},
   "outputs": [],
   "source": [
    "def get_metric_df(dfs, metric):\n",
    "    \n",
    "    mean = []\n",
    "    sm = []\n",
    "    mx = []\n",
    "    mn = []\n",
    "    \n",
    "    for key in dfs.keys():\n",
    "        mean = mean + [dfs[key][metric].mean()]\n",
    "        sm = sm + [dfs[key][metric].sum()]\n",
    "        mx = mx + [dfs[key][metric].max()]\n",
    "        mn = mn + [dfs[key][metric].min()]\n",
    "    \n",
    "    data_dict = {'Team':list(dfs.keys()),\n",
    "                 'Mean':mean,\n",
    "                 'Sum': sm,\n",
    "                 'Min': mn,\n",
    "                 'Max': mx,\n",
    "                }\n",
    "    \n",
    "    return pd.DataFrame(data_dict)"
   ]
  },
  {
   "cell_type": "code",
   "execution_count": 146,
   "metadata": {},
   "outputs": [],
   "source": [
    "METRIC = 'Total Shots on target'"
   ]
  },
  {
   "cell_type": "code",
   "execution_count": 147,
   "metadata": {},
   "outputs": [
    {
     "data": {
      "text/html": [
       "<div>\n",
       "<style scoped>\n",
       "    .dataframe tbody tr th:only-of-type {\n",
       "        vertical-align: middle;\n",
       "    }\n",
       "\n",
       "    .dataframe tbody tr th {\n",
       "        vertical-align: top;\n",
       "    }\n",
       "\n",
       "    .dataframe thead th {\n",
       "        text-align: right;\n",
       "    }\n",
       "</style>\n",
       "<table border=\"1\" class=\"dataframe\">\n",
       "  <thead>\n",
       "    <tr style=\"text-align: right;\">\n",
       "      <th></th>\n",
       "      <th>Team</th>\n",
       "      <th>Mean</th>\n",
       "      <th>Sum</th>\n",
       "      <th>Min</th>\n",
       "      <th>Max</th>\n",
       "    </tr>\n",
       "  </thead>\n",
       "  <tbody>\n",
       "    <tr>\n",
       "      <th>0</th>\n",
       "      <td>Manchester United</td>\n",
       "      <td>4.75</td>\n",
       "      <td>19</td>\n",
       "      <td>2</td>\n",
       "      <td>8</td>\n",
       "    </tr>\n",
       "    <tr>\n",
       "      <th>1</th>\n",
       "      <td>Manchester City</td>\n",
       "      <td>6.50</td>\n",
       "      <td>26</td>\n",
       "      <td>5</td>\n",
       "      <td>8</td>\n",
       "    </tr>\n",
       "    <tr>\n",
       "      <th>2</th>\n",
       "      <td>Liverpool</td>\n",
       "      <td>5.75</td>\n",
       "      <td>23</td>\n",
       "      <td>5</td>\n",
       "      <td>7</td>\n",
       "    </tr>\n",
       "  </tbody>\n",
       "</table>\n",
       "</div>"
      ],
      "text/plain": [
       "                Team  Mean  Sum  Min  Max\n",
       "0  Manchester United  4.75   19    2    8\n",
       "1    Manchester City  6.50   26    5    8\n",
       "2          Liverpool  5.75   23    5    7"
      ]
     },
     "execution_count": 147,
     "metadata": {},
     "output_type": "execute_result"
    }
   ],
   "source": [
    "get_metric_df(data, METRIC)"
   ]
  },
  {
   "cell_type": "code",
   "execution_count": 113,
   "metadata": {},
   "outputs": [
    {
     "data": {
      "text/plain": [
       "array(['Date', 'Match', 'Competition', 'Duration', 'Scheme', 'MatchNO',\n",
       "       'Scheme detailed', 'Goals', 'xG', 'Total Shots',\n",
       "       'Total Shots on target', 'Shot accuracy', 'Total passes',\n",
       "       'Total accurate passes', 'Passing accuracy', 'Possession',\n",
       "       'Total losses', 'Low losses', 'Medium losses', 'High losses',\n",
       "       'Total recoveries', 'Low recoveries', 'Medium recoveries',\n",
       "       'High recoveries', 'Total challenges', 'Total challenges won',\n",
       "       'Succ. challenge acc.', 'Shots from outside box (on target)',\n",
       "       'Positional attack w/shots', 'Succ. Positional attack w/shots',\n",
       "       'Acc. positional attacks', 'Counter attack w/shots',\n",
       "       'Succ. Counter attack w/shots', 'Acc. counter attacks', 'Corners',\n",
       "       'Corners with shots', 'Acc. Corners with shots', 'Conceded Goals',\n",
       "       'Total Shots against', 'Total Shots against on target',\n",
       "       'Against Shot accuracy', 'Total defensive duels',\n",
       "       'Total defensive duels won', 'Acc. defensive duels',\n",
       "       'Total aerial duels', 'Total aerial duels won',\n",
       "       'Acc. aerial duels', 'Total sliding tackles',\n",
       "       'Total sliding tackles won', 'Acc. sliding tackles',\n",
       "       'Total interceptions', 'Total clearances', 'Total forward passes',\n",
       "       'Total forward passes accurate', 'Acc. forward passing',\n",
       "       'Total backward passes', 'Total backward passes accurate',\n",
       "       'Acc. backward passing', 'Total lateral passes',\n",
       "       'Total lateral passes accurate', 'Acc. lateral passing',\n",
       "       'Total long passes', 'Total long passes accurate',\n",
       "       'Acc. long passing', 'Total passes to final third',\n",
       "       'Total passes to final third accurate', 'Acc. final third passing',\n",
       "       'Total progressive passes', 'Total progressive passes accurate',\n",
       "       'Acc. progressive passing', 'Total smart passes',\n",
       "       'Total smart passes accurate', 'Acc. smart passing',\n",
       "       'Passes per minute', 'Average passes per possession',\n",
       "       'Average shot distance', 'Average pass length', 'PPDA'],\n",
       "      dtype='<U36')"
      ]
     },
     "execution_count": 113,
     "metadata": {},
     "output_type": "execute_result"
    }
   ],
   "source": [
    "COLUMNS"
   ]
  },
  {
   "cell_type": "code",
   "execution_count": null,
   "metadata": {},
   "outputs": [],
   "source": []
  }
 ],
 "metadata": {
  "kernelspec": {
   "display_name": "Python 3",
   "language": "python",
   "name": "python3"
  },
  "language_info": {
   "codemirror_mode": {
    "name": "ipython",
    "version": 3
   },
   "file_extension": ".py",
   "mimetype": "text/x-python",
   "name": "python",
   "nbconvert_exporter": "python",
   "pygments_lexer": "ipython3",
   "version": "3.7.3"
  }
 },
 "nbformat": 4,
 "nbformat_minor": 4
}
